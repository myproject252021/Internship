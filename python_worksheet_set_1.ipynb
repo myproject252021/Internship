{
 "cells": [
  {
   "cell_type": "code",
   "execution_count": 11,
   "id": "9809d8f5",
   "metadata": {},
   "outputs": [
    {
     "name": "stdout",
     "output_type": "stream",
     "text": [
      "Input a number to compute the factiorial : 5\n",
      "120\n"
     ]
    }
   ],
   "source": [
    "#1--Finding factorial of a number \n",
    "#formula to find factorialof any number n!=n(n-1)(n-2).....*1 \n",
    "def factorial(n):\n",
    "    if n == 0:\n",
    "        return 1\n",
    "    else:\n",
    "        return n * factorial(n-1)\n",
    "n=int(input(\"Input a number to compute the factiorial : \"))\n",
    "print(factorial(n))\n"
   ]
  },
  {
   "cell_type": "code",
   "execution_count": 2,
   "id": "94823682",
   "metadata": {},
   "outputs": [
    {
     "name": "stdout",
     "output_type": "stream",
     "text": [
      "Enter the number to check prime or composite: 2\n"
     ]
    }
   ],
   "source": [
    "#2--Finding if the given number is prime or composite.  \n",
    "number=int(input(\"Enter the number to check prime or composite: \"))#Take the input from the user.\n",
    "count=0\n",
    "\n",
    "for i in range(2,int(number/2)+1):#Loop which is used to dive the number from other number.\n",
    "\n",
    "    if(number%i==0):\n",
    "        count=1\n",
    "        break\n",
    "\n",
    "    if(count==0):#For prime number.\n",
    "         print(\"The number is prime number\")\n",
    "     \n",
    "\n",
    "    else:#For composite number.\n",
    "        print(\"The number is composite number\")\n",
    "   "
   ]
  },
  {
   "cell_type": "code",
   "execution_count": 3,
   "id": "0069ce4e",
   "metadata": {},
   "outputs": [
    {
     "name": "stdout",
     "output_type": "stream",
     "text": [
      "Please enter your own String : 252\n",
      "This is a Palindrome String\n"
     ]
    }
   ],
   "source": [
    "#3--Python Program to Check a Given String is Palindrome or Not\n",
    "\n",
    "string = input(\"Please enter your own String : \")#Take any palindrome input from the user.\n",
    "\n",
    "if(string == string[:: - 1]):\n",
    "   print(\"This is a Palindrome String\")\n",
    "else:\n",
    "   print(\"This is Not a Palindrome String\")"
   ]
  },
  {
   "cell_type": "code",
   "execution_count": 4,
   "id": "7cdeb662",
   "metadata": {},
   "outputs": [
    {
     "name": "stdout",
     "output_type": "stream",
     "text": [
      "Enter base: 12\n",
      "Enter height: 124\n",
      "Enter angle: 125\n",
      "Hypotenuse = 124.57929201917949\n"
     ]
    }
   ],
   "source": [
    "#4--Python program to get the third side of right-angled triangle from two given sides.\n",
    "\n",
    "import math\n",
    "\n",
    "a = float(input(\"Enter base: \"))\n",
    "b = float(input(\"Enter height: \"))\n",
    "d = float(input(\"Enter angle: \"))\n",
    "\n",
    "c = math.sqrt(a ** 2 + b ** 2)#formulae to find right angle hypotenuse (c=sqrt*a2+b2)\n",
    "\n",
    "print(\"Hypotenuse =\", c)"
   ]
  },
  {
   "cell_type": "code",
   "execution_count": 18,
   "id": "2321c5c1",
   "metadata": {},
   "outputs": [
    {
     "name": "stdout",
     "output_type": "stream",
     "text": [
      "{'p': 2, 'y': 1, 't': 1, 'h': 1, 'o': 2, 'n': 2, ' ': 1, 'r': 2, 'g': 2, 'a': 1, 'm': 2, 'i': 1}\n"
     ]
    }
   ],
   "source": [
    "#5--Python program to check the occurance of characters using list\n",
    "def char_frequency(str1):\n",
    "    dict = {}\n",
    "    for n in str1:\n",
    "        keys = dict.keys()\n",
    "        if n in keys:\n",
    "            dict[n] += 1\n",
    "        else:\n",
    "            dict[n] = 1\n",
    "    return dict\n",
    "print(char_frequency('python programming'))"
   ]
  }
 ],
 "metadata": {
  "kernelspec": {
   "display_name": "Python 3",
   "language": "python",
   "name": "python3"
  },
  "language_info": {
   "codemirror_mode": {
    "name": "ipython",
    "version": 3
   },
   "file_extension": ".py",
   "mimetype": "text/x-python",
   "name": "python",
   "nbconvert_exporter": "python",
   "pygments_lexer": "ipython3",
   "version": "3.8.8"
  }
 },
 "nbformat": 4,
 "nbformat_minor": 5
}
