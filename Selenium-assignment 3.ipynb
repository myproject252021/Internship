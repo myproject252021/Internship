{
 "cells": [
  {
   "cell_type": "markdown",
   "id": "75572793",
   "metadata": {},
   "source": [
    "# Install selenium "
   ]
  },
  {
   "cell_type": "code",
   "execution_count": 1,
   "id": "19a335be",
   "metadata": {},
   "outputs": [
    {
     "name": "stdout",
     "output_type": "stream",
     "text": [
      "Requirement already satisfied: selenium in c:\\users\\user\\anaconda3\\lib\\site-packages (4.1.0)\n",
      "Requirement already satisfied: urllib3[secure]~=1.26 in c:\\users\\user\\anaconda3\\lib\\site-packages (from selenium) (1.26.4)\n",
      "Requirement already satisfied: trio-websocket~=0.9 in c:\\users\\user\\anaconda3\\lib\\site-packages (from selenium) (0.9.2)\n",
      "Requirement already satisfied: trio~=0.17 in c:\\users\\user\\anaconda3\\lib\\site-packages (from selenium) (0.19.0)\n",
      "Requirement already satisfied: idna in c:\\users\\user\\anaconda3\\lib\\site-packages (from trio~=0.17->selenium) (2.10)\n",
      "Requirement already satisfied: async-generator>=1.9 in c:\\users\\user\\anaconda3\\lib\\site-packages (from trio~=0.17->selenium) (1.10)\n",
      "Requirement already satisfied: attrs>=19.2.0 in c:\\users\\user\\anaconda3\\lib\\site-packages (from trio~=0.17->selenium) (20.3.0)\n",
      "Requirement already satisfied: sortedcontainers in c:\\users\\user\\anaconda3\\lib\\site-packages (from trio~=0.17->selenium) (2.3.0)\n",
      "Requirement already satisfied: sniffio in c:\\users\\user\\anaconda3\\lib\\site-packages (from trio~=0.17->selenium) (1.2.0)\n",
      "Requirement already satisfied: outcome in c:\\users\\user\\anaconda3\\lib\\site-packages (from trio~=0.17->selenium) (1.1.0)\n",
      "Requirement already satisfied: cffi>=1.14 in c:\\users\\user\\anaconda3\\lib\\site-packages (from trio~=0.17->selenium) (1.14.5)\n",
      "Requirement already satisfied: pycparser in c:\\users\\user\\anaconda3\\lib\\site-packages (from cffi>=1.14->trio~=0.17->selenium) (2.20)\n",
      "Requirement already satisfied: wsproto>=0.14 in c:\\users\\user\\anaconda3\\lib\\site-packages (from trio-websocket~=0.9->selenium) (1.0.0)\n",
      "Requirement already satisfied: cryptography>=1.3.4 in c:\\users\\user\\anaconda3\\lib\\site-packages (from urllib3[secure]~=1.26->selenium) (3.4.7)\n",
      "Requirement already satisfied: pyOpenSSL>=0.14 in c:\\users\\user\\anaconda3\\lib\\site-packages (from urllib3[secure]~=1.26->selenium) (20.0.1)\n",
      "Requirement already satisfied: certifi in c:\\users\\user\\anaconda3\\lib\\site-packages (from urllib3[secure]~=1.26->selenium) (2020.12.5)\n",
      "Requirement already satisfied: six>=1.5.2 in c:\\users\\user\\anaconda3\\lib\\site-packages (from pyOpenSSL>=0.14->urllib3[secure]~=1.26->selenium) (1.15.0)\n",
      "Requirement already satisfied: h11<1,>=0.9.0 in c:\\users\\user\\anaconda3\\lib\\site-packages (from wsproto>=0.14->trio-websocket~=0.9->selenium) (0.12.0)\n"
     ]
    }
   ],
   "source": [
    "!pip install selenium"
   ]
  },
  {
   "cell_type": "markdown",
   "id": "e880f2ee",
   "metadata": {},
   "source": [
    "# Loading important libraries"
   ]
  },
  {
   "cell_type": "code",
   "execution_count": 2,
   "id": "8c878021",
   "metadata": {},
   "outputs": [],
   "source": [
    "import selenium \n",
    "from selenium import webdriver \n",
    "import pandas as pd\n",
    "import numpy as np\n",
    "import matplotlib.pyplot as plt\n",
    "import warnings \n",
    "warnings.filterwarnings('ignore')"
   ]
  },
  {
   "cell_type": "markdown",
   "id": "7a85c125",
   "metadata": {},
   "source": [
    "# another method to load chrome web driver"
   ]
  },
  {
   "cell_type": "code",
   "execution_count": 3,
   "id": "441813ef",
   "metadata": {},
   "outputs": [],
   "source": [
    "#driver=webdriver.Chrome('chromedriver.exe')"
   ]
  },
  {
   "cell_type": "markdown",
   "id": "2e6ecbc5",
   "metadata": {},
   "source": [
    "# 1.Data Analyst "
   ]
  },
  {
   "cell_type": "markdown",
   "id": "0d2791d7",
   "metadata": {},
   "source": [
    "\n",
    "# Before executing selenium web scraping need to run chrome webdriver "
   ]
  },
  {
   "cell_type": "code",
   "execution_count": 4,
   "id": "01a9438e",
   "metadata": {},
   "outputs": [
    {
     "data": {
      "text/plain": [
       "<selenium.webdriver.chrome.webdriver.WebDriver (session=\"707e955bed9c329d0b2c41ab55f06746\")>"
      ]
     },
     "execution_count": 4,
     "metadata": {},
     "output_type": "execute_result"
    }
   ],
   "source": [
    "#link to run the web driver \n",
    "driver=webdriver.Chrome(r'C:\\Users\\User\\Downloads\\Fliprobo\\chromedriver_win32\\chromedriver.exe')\n",
    "driver"
   ]
  },
  {
   "cell_type": "code",
   "execution_count": 5,
   "id": "a7f02d75",
   "metadata": {},
   "outputs": [],
   "source": [
    "#website url\n",
    "url='https://www.naukri.com/'\n",
    "driver.get(url)"
   ]
  },
  {
   "cell_type": "code",
   "execution_count": 6,
   "id": "1a5dfa06",
   "metadata": {},
   "outputs": [
    {
     "data": {
      "text/plain": [
       "<selenium.webdriver.remote.webelement.WebElement (session=\"707e955bed9c329d0b2c41ab55f06746\", element=\"b9c2ae2a-86c7-49e5-ac07-fb092b7b7241\")>"
      ]
     },
     "execution_count": 6,
     "metadata": {},
     "output_type": "execute_result"
    }
   ],
   "source": [
    "#content to search.\n",
    "search_job=driver.find_element_by_xpath(\"/html/body/div/div[2]/div[3]/div/div/div[1]/div/div/div/input\")\n",
    "search_job"
   ]
  },
  {
   "cell_type": "code",
   "execution_count": 7,
   "id": "9dcd4f01",
   "metadata": {},
   "outputs": [],
   "source": [
    "#write on search bar\n",
    "search_job.send_keys('Data Analyst')"
   ]
  },
  {
   "cell_type": "code",
   "execution_count": 8,
   "id": "13a6fc5c",
   "metadata": {},
   "outputs": [
    {
     "data": {
      "text/plain": [
       "<selenium.webdriver.remote.webelement.WebElement (session=\"707e955bed9c329d0b2c41ab55f06746\", element=\"f5b43f54-671c-4c19-bc0c-ca5172c25c7c\")>"
      ]
     },
     "execution_count": 8,
     "metadata": {},
     "output_type": "execute_result"
    }
   ],
   "source": [
    "#location input \n",
    "search_loc=driver.find_element_by_xpath('/html/body/div/div[2]/div[3]/div/div/div[3]/div/div/div/input')\n",
    "search_loc"
   ]
  },
  {
   "cell_type": "code",
   "execution_count": 9,
   "id": "8f876e94",
   "metadata": {},
   "outputs": [],
   "source": [
    "#data to search loaction \n",
    "search_loc.send_keys('Banglore')"
   ]
  },
  {
   "cell_type": "code",
   "execution_count": 10,
   "id": "093ba965",
   "metadata": {},
   "outputs": [
    {
     "data": {
      "text/plain": [
       "<selenium.webdriver.remote.webelement.WebElement (session=\"707e955bed9c329d0b2c41ab55f06746\", element=\"30b24676-75d6-485b-8b1e-ae6bef75ab70\")>"
      ]
     },
     "execution_count": 10,
     "metadata": {},
     "output_type": "execute_result"
    }
   ],
   "source": [
    "search_button=driver.find_element_by_xpath('/html/body/div/div[2]/div[3]/div/div/div[6]')\n",
    "search_button"
   ]
  },
  {
   "cell_type": "code",
   "execution_count": 11,
   "id": "b7b44653",
   "metadata": {},
   "outputs": [],
   "source": [
    "#execution of search button\n",
    "search_button.click()"
   ]
  },
  {
   "cell_type": "code",
   "execution_count": 32,
   "id": "4887f836",
   "metadata": {},
   "outputs": [
    {
     "data": {
      "text/plain": [
       "10"
      ]
     },
     "execution_count": 32,
     "metadata": {},
     "output_type": "execute_result"
    }
   ],
   "source": [
    "#xpath for expecting job search\n",
    "job_tags=driver.find_elements_by_xpath('//a[@class=\"title fw500 ellipsis\"]')[:10]\n",
    "job_tags\n",
    "len(job_tags)"
   ]
  },
  {
   "cell_type": "code",
   "execution_count": 33,
   "id": "0136e548",
   "metadata": {},
   "outputs": [
    {
     "data": {
      "text/plain": [
       "['Junior Data Analyst/ Scientist- Fresher Position',\n",
       " 'Assistant Clinical Data Analyst',\n",
       " 'Senior Data Analyst - CRM',\n",
       " 'Lead - Data Analyst / Scientist',\n",
       " 'Hiring For Data Analyst',\n",
       " 'Senior Data Analyst',\n",
       " 'Senior Data Analyst',\n",
       " 'Senior Data Analyst - CRM',\n",
       " 'Data Analyst',\n",
       " 'Global Data Analyst']"
      ]
     },
     "execution_count": 33,
     "metadata": {},
     "output_type": "execute_result"
    }
   ],
   "source": [
    "job_titles=[]\n",
    "\n",
    "for i in job_tags:\n",
    "    job_titles.append(i.text)\n",
    "\n",
    "job_titles"
   ]
  },
  {
   "cell_type": "code",
   "execution_count": 34,
   "id": "ce3639c6",
   "metadata": {},
   "outputs": [
    {
     "data": {
      "text/plain": [
       "[<selenium.webdriver.remote.webelement.WebElement (session=\"707e955bed9c329d0b2c41ab55f06746\", element=\"0597a22c-03b2-438f-8b64-d45983ee2479\")>,\n",
       " <selenium.webdriver.remote.webelement.WebElement (session=\"707e955bed9c329d0b2c41ab55f06746\", element=\"5393afbb-9049-4c4a-b45d-d04aec8ed385\")>,\n",
       " <selenium.webdriver.remote.webelement.WebElement (session=\"707e955bed9c329d0b2c41ab55f06746\", element=\"357841f0-b1c5-4eae-915e-7bd7554fd42c\")>,\n",
       " <selenium.webdriver.remote.webelement.WebElement (session=\"707e955bed9c329d0b2c41ab55f06746\", element=\"17637583-19e3-483a-bde6-53b1ce07b0df\")>,\n",
       " <selenium.webdriver.remote.webelement.WebElement (session=\"707e955bed9c329d0b2c41ab55f06746\", element=\"f58d6c6e-8bed-4020-9d0e-8498ed51d8a6\")>,\n",
       " <selenium.webdriver.remote.webelement.WebElement (session=\"707e955bed9c329d0b2c41ab55f06746\", element=\"409f7359-0bb3-47f4-ac5a-6aac194cdd92\")>,\n",
       " <selenium.webdriver.remote.webelement.WebElement (session=\"707e955bed9c329d0b2c41ab55f06746\", element=\"0d58c4de-a10f-4f23-93b1-5f03ecaa61df\")>,\n",
       " <selenium.webdriver.remote.webelement.WebElement (session=\"707e955bed9c329d0b2c41ab55f06746\", element=\"835e8564-396f-4fa0-9fa8-167775b4abb5\")>,\n",
       " <selenium.webdriver.remote.webelement.WebElement (session=\"707e955bed9c329d0b2c41ab55f06746\", element=\"03efe43f-2411-4e0e-88ef-1363a8f28eb5\")>,\n",
       " <selenium.webdriver.remote.webelement.WebElement (session=\"707e955bed9c329d0b2c41ab55f06746\", element=\"b1000055-4e52-4b4f-91d3-b0fa0a7ae657\")>]"
      ]
     },
     "execution_count": 34,
     "metadata": {},
     "output_type": "execute_result"
    }
   ],
   "source": [
    "#xpath for expecting company names \n",
    "company_tags=driver.find_elements_by_xpath('//div[@class=\"mt-7 companyInfo subheading lh16\"]')[:10]\n",
    "company_tags"
   ]
  },
  {
   "cell_type": "code",
   "execution_count": 35,
   "id": "4fa85271",
   "metadata": {},
   "outputs": [
    {
     "data": {
      "text/plain": [
       "10"
      ]
     },
     "execution_count": 35,
     "metadata": {},
     "output_type": "execute_result"
    }
   ],
   "source": [
    "company_names=[]\n",
    "\n",
    "for i in company_tags:\n",
    "    company_names.append(i.text)\n",
    "    \n",
    "company_names\n",
    "len(company_names)"
   ]
  },
  {
   "cell_type": "code",
   "execution_count": 36,
   "id": "09b43c78",
   "metadata": {},
   "outputs": [
    {
     "data": {
      "text/plain": [
       "10"
      ]
     },
     "execution_count": 36,
     "metadata": {},
     "output_type": "execute_result"
    }
   ],
   "source": [
    "#relevent locations\n",
    "loc_tags=driver.find_elements_by_xpath('//li[@class=\"fleft grey-text br2 placeHolderLi location\"]')[:10]\n",
    "loc_tags\n",
    "len(loc_tags)"
   ]
  },
  {
   "cell_type": "code",
   "execution_count": 37,
   "id": "736797b5",
   "metadata": {
    "scrolled": true
   },
   "outputs": [
    {
     "data": {
      "text/plain": [
       "['Kolkata, Gurgaon/Gurugram, Bangalore/Bengaluru\\n(WFH during Covid)',\n",
       " 'Bangalore/Bengaluru',\n",
       " 'Bangalore/Bengaluru',\n",
       " 'Bangalore/Bengaluru',\n",
       " 'Bangalore/Bengaluru',\n",
       " 'Bangalore/Bengaluru',\n",
       " 'Bangalore/Bengaluru\\n(WFH during Covid)',\n",
       " 'Bangalore/Bengaluru',\n",
       " 'Hyderabad/Secunderabad, Chennai, Bangalore/Bengaluru',\n",
       " 'Bangalore/Bengaluru']"
      ]
     },
     "execution_count": 37,
     "metadata": {},
     "output_type": "execute_result"
    }
   ],
   "source": [
    "loc_names=[]\n",
    "\n",
    "for i in loc_tags:\n",
    "    loc_names.append(i.text)\n",
    "    \n",
    "loc_names"
   ]
  },
  {
   "cell_type": "code",
   "execution_count": 38,
   "id": "90de96bf",
   "metadata": {},
   "outputs": [
    {
     "data": {
      "text/plain": [
       "10"
      ]
     },
     "execution_count": 38,
     "metadata": {},
     "output_type": "execute_result"
    }
   ],
   "source": [
    "# experience relevency\n",
    "exp_req=driver.find_elements_by_xpath('//li[@class=\"fleft grey-text br2 placeHolderLi experience\"]')[:10]\n",
    "exp_req\n",
    "len(exp_req)"
   ]
  },
  {
   "cell_type": "code",
   "execution_count": 39,
   "id": "917e7085",
   "metadata": {},
   "outputs": [
    {
     "data": {
      "text/plain": [
       "10"
      ]
     },
     "execution_count": 39,
     "metadata": {},
     "output_type": "execute_result"
    }
   ],
   "source": [
    "experience=[]\n",
    "\n",
    "for i in exp_req:\n",
    "    experience.append(i.text)\n",
    "    \n",
    "experience\n",
    "len(experience)"
   ]
  },
  {
   "cell_type": "code",
   "execution_count": 40,
   "id": "a48c6434",
   "metadata": {},
   "outputs": [
    {
     "data": {
      "text/html": [
       "<div>\n",
       "<style scoped>\n",
       "    .dataframe tbody tr th:only-of-type {\n",
       "        vertical-align: middle;\n",
       "    }\n",
       "\n",
       "    .dataframe tbody tr th {\n",
       "        vertical-align: top;\n",
       "    }\n",
       "\n",
       "    .dataframe thead th {\n",
       "        text-align: right;\n",
       "    }\n",
       "</style>\n",
       "<table border=\"1\" class=\"dataframe\">\n",
       "  <thead>\n",
       "    <tr style=\"text-align: right;\">\n",
       "      <th></th>\n",
       "      <th>Job Title</th>\n",
       "      <th>Company Name</th>\n",
       "      <th>Location</th>\n",
       "      <th>Experiance Required</th>\n",
       "    </tr>\n",
       "  </thead>\n",
       "  <tbody>\n",
       "    <tr>\n",
       "      <th>0</th>\n",
       "      <td>Junior Data Analyst/ Scientist- Fresher Position</td>\n",
       "      <td>Sejal Consulting Hub</td>\n",
       "      <td>Kolkata, Gurgaon/Gurugram, Bangalore/Bengaluru...</td>\n",
       "      <td>0-3 Yrs</td>\n",
       "    </tr>\n",
       "    <tr>\n",
       "      <th>1</th>\n",
       "      <td>Assistant Clinical Data Analyst</td>\n",
       "      <td>Labcorp Drug Development India Private Limited...</td>\n",
       "      <td>Bangalore/Bengaluru</td>\n",
       "      <td>0-2 Yrs</td>\n",
       "    </tr>\n",
       "    <tr>\n",
       "      <th>2</th>\n",
       "      <td>Senior Data Analyst - CRM</td>\n",
       "      <td>Gojek Tech\\n4.3\\n(8 Reviews)</td>\n",
       "      <td>Bangalore/Bengaluru</td>\n",
       "      <td>2-5 Yrs</td>\n",
       "    </tr>\n",
       "    <tr>\n",
       "      <th>3</th>\n",
       "      <td>Lead - Data Analyst / Scientist</td>\n",
       "      <td>Axim Technologies</td>\n",
       "      <td>Bangalore/Bengaluru</td>\n",
       "      <td>12-14 Yrs</td>\n",
       "    </tr>\n",
       "    <tr>\n",
       "      <th>4</th>\n",
       "      <td>Hiring For Data Analyst</td>\n",
       "      <td>Flipkart\\n4.2\\n(4067 Reviews)</td>\n",
       "      <td>Bangalore/Bengaluru</td>\n",
       "      <td>4-8 Yrs</td>\n",
       "    </tr>\n",
       "    <tr>\n",
       "      <th>5</th>\n",
       "      <td>Senior Data Analyst</td>\n",
       "      <td>Walmart\\n4.2\\n(984 Reviews)</td>\n",
       "      <td>Bangalore/Bengaluru</td>\n",
       "      <td>4-7 Yrs</td>\n",
       "    </tr>\n",
       "    <tr>\n",
       "      <th>6</th>\n",
       "      <td>Senior Data Analyst</td>\n",
       "      <td>SMEDC SERVICES PRIVATE LIMITED\\n4.6\\n(2 Reviews)</td>\n",
       "      <td>Bangalore/Bengaluru\\n(WFH during Covid)</td>\n",
       "      <td>4-8 Yrs</td>\n",
       "    </tr>\n",
       "    <tr>\n",
       "      <th>7</th>\n",
       "      <td>Senior Data Analyst - CRM</td>\n",
       "      <td>GO-JEK India\\n4.3\\n(8 Reviews)</td>\n",
       "      <td>Bangalore/Bengaluru</td>\n",
       "      <td>4-8 Yrs</td>\n",
       "    </tr>\n",
       "    <tr>\n",
       "      <th>8</th>\n",
       "      <td>Data Analyst</td>\n",
       "      <td>Verizon\\n4.0\\n(731 Reviews)</td>\n",
       "      <td>Hyderabad/Secunderabad, Chennai, Bangalore/Ben...</td>\n",
       "      <td>4-9 Yrs</td>\n",
       "    </tr>\n",
       "    <tr>\n",
       "      <th>9</th>\n",
       "      <td>Global Data Analyst</td>\n",
       "      <td>ExecBoardinAsia</td>\n",
       "      <td>Bangalore/Bengaluru</td>\n",
       "      <td>5-10 Yrs</td>\n",
       "    </tr>\n",
       "  </tbody>\n",
       "</table>\n",
       "</div>"
      ],
      "text/plain": [
       "                                          Job Title  \\\n",
       "0  Junior Data Analyst/ Scientist- Fresher Position   \n",
       "1                   Assistant Clinical Data Analyst   \n",
       "2                         Senior Data Analyst - CRM   \n",
       "3                   Lead - Data Analyst / Scientist   \n",
       "4                           Hiring For Data Analyst   \n",
       "5                               Senior Data Analyst   \n",
       "6                               Senior Data Analyst   \n",
       "7                         Senior Data Analyst - CRM   \n",
       "8                                      Data Analyst   \n",
       "9                               Global Data Analyst   \n",
       "\n",
       "                                        Company Name  \\\n",
       "0                               Sejal Consulting Hub   \n",
       "1  Labcorp Drug Development India Private Limited...   \n",
       "2                       Gojek Tech\\n4.3\\n(8 Reviews)   \n",
       "3                                  Axim Technologies   \n",
       "4                      Flipkart\\n4.2\\n(4067 Reviews)   \n",
       "5                        Walmart\\n4.2\\n(984 Reviews)   \n",
       "6   SMEDC SERVICES PRIVATE LIMITED\\n4.6\\n(2 Reviews)   \n",
       "7                     GO-JEK India\\n4.3\\n(8 Reviews)   \n",
       "8                        Verizon\\n4.0\\n(731 Reviews)   \n",
       "9                                    ExecBoardinAsia   \n",
       "\n",
       "                                            Location Experiance Required  \n",
       "0  Kolkata, Gurgaon/Gurugram, Bangalore/Bengaluru...             0-3 Yrs  \n",
       "1                                Bangalore/Bengaluru             0-2 Yrs  \n",
       "2                                Bangalore/Bengaluru             2-5 Yrs  \n",
       "3                                Bangalore/Bengaluru           12-14 Yrs  \n",
       "4                                Bangalore/Bengaluru             4-8 Yrs  \n",
       "5                                Bangalore/Bengaluru             4-7 Yrs  \n",
       "6            Bangalore/Bengaluru\\n(WFH during Covid)             4-8 Yrs  \n",
       "7                                Bangalore/Bengaluru             4-8 Yrs  \n",
       "8  Hyderabad/Secunderabad, Chennai, Bangalore/Ben...             4-9 Yrs  \n",
       "9                                Bangalore/Bengaluru            5-10 Yrs  "
      ]
     },
     "execution_count": 40,
     "metadata": {},
     "output_type": "execute_result"
    }
   ],
   "source": [
    "Data_analyst=pd.DataFrame({'Job Title':job_titles,'Company Name':company_names,'Location':loc_names,'Experiance Required':experience})\n",
    "Data_analyst[0:10]"
   ]
  },
  {
   "cell_type": "markdown",
   "id": "116ece16",
   "metadata": {},
   "source": [
    "# 2.Data Scientist"
   ]
  },
  {
   "cell_type": "code",
   "execution_count": 60,
   "id": "3c76f81b",
   "metadata": {},
   "outputs": [
    {
     "data": {
      "text/plain": [
       "<selenium.webdriver.chrome.webdriver.WebDriver (session=\"2545d2af4d0e5cc0d29c36f0fab58a59\")>"
      ]
     },
     "execution_count": 60,
     "metadata": {},
     "output_type": "execute_result"
    }
   ],
   "source": [
    "# link to run chrome web driver\n",
    "driver=webdriver.Chrome(r'C:\\Users\\User\\Downloads\\Fliprobo\\chromedriver_win32\\chromedriver.exe')\n",
    "driver"
   ]
  },
  {
   "cell_type": "code",
   "execution_count": 61,
   "id": "88db0e7f",
   "metadata": {},
   "outputs": [],
   "source": [
    "#url link \n",
    "url='https://www.naukri.com/'\n",
    "driver.get(url)"
   ]
  },
  {
   "cell_type": "code",
   "execution_count": 62,
   "id": "8ab96a2b",
   "metadata": {},
   "outputs": [
    {
     "data": {
      "text/plain": [
       "<selenium.webdriver.remote.webelement.WebElement (session=\"2545d2af4d0e5cc0d29c36f0fab58a59\", element=\"4ac9e26c-8f9f-49b4-b2a1-0f40c4c01fc9\")>"
      ]
     },
     "execution_count": 62,
     "metadata": {},
     "output_type": "execute_result"
    }
   ],
   "source": [
    "#xpath for job search\n",
    "search_job=driver.find_element_by_xpath(\"/html/body/div/div[2]/div[3]/div/div/div[1]/div/div/div/input\")\n",
    "search_job"
   ]
  },
  {
   "cell_type": "code",
   "execution_count": 63,
   "id": "7647259d",
   "metadata": {},
   "outputs": [],
   "source": [
    "#to execute search segment\n",
    "search_job.send_keys('Data Scientist')"
   ]
  },
  {
   "cell_type": "code",
   "execution_count": 64,
   "id": "f608bb3e",
   "metadata": {},
   "outputs": [
    {
     "data": {
      "text/plain": [
       "<selenium.webdriver.remote.webelement.WebElement (session=\"2545d2af4d0e5cc0d29c36f0fab58a59\", element=\"b8c8f998-9050-4c2b-aaab-fca567239bc0\")>"
      ]
     },
     "execution_count": 64,
     "metadata": {},
     "output_type": "execute_result"
    }
   ],
   "source": [
    "#location search\n",
    "loc1=driver.find_element_by_xpath('/html/body/div/div[2]/div[3]/div/div/div[3]/div/div/div/input')\n",
    "loc1"
   ]
  },
  {
   "cell_type": "code",
   "execution_count": 65,
   "id": "8c290898",
   "metadata": {},
   "outputs": [],
   "source": [
    "loc1.send_keys('Banglore')"
   ]
  },
  {
   "cell_type": "code",
   "execution_count": 66,
   "id": "5d1c105c",
   "metadata": {},
   "outputs": [
    {
     "data": {
      "text/plain": [
       "<selenium.webdriver.remote.webelement.WebElement (session=\"2545d2af4d0e5cc0d29c36f0fab58a59\", element=\"10043436-226a-4ec0-9687-23723f472d1e\")>"
      ]
     },
     "execution_count": 66,
     "metadata": {},
     "output_type": "execute_result"
    }
   ],
   "source": [
    "search_btn=driver.find_element_by_xpath('/html/body/div/div[2]/div[3]/div/div/div[6]')\n",
    "search_btn"
   ]
  },
  {
   "cell_type": "code",
   "execution_count": 67,
   "id": "3b7810b9",
   "metadata": {},
   "outputs": [],
   "source": [
    "search_btn.click()"
   ]
  },
  {
   "cell_type": "code",
   "execution_count": 75,
   "id": "8a756787",
   "metadata": {},
   "outputs": [
    {
     "data": {
      "text/plain": [
       "[<selenium.webdriver.remote.webelement.WebElement (session=\"2545d2af4d0e5cc0d29c36f0fab58a59\", element=\"ecc85ad3-a78f-4f81-8f76-7e332cbd4b78\")>,\n",
       " <selenium.webdriver.remote.webelement.WebElement (session=\"2545d2af4d0e5cc0d29c36f0fab58a59\", element=\"693c126f-4093-40c4-95eb-7c401613c5f0\")>,\n",
       " <selenium.webdriver.remote.webelement.WebElement (session=\"2545d2af4d0e5cc0d29c36f0fab58a59\", element=\"f5bd9cc8-f0d6-4257-8089-659ac3274867\")>,\n",
       " <selenium.webdriver.remote.webelement.WebElement (session=\"2545d2af4d0e5cc0d29c36f0fab58a59\", element=\"f893fe3b-ec7a-41b5-84f6-8c899e2e27b8\")>,\n",
       " <selenium.webdriver.remote.webelement.WebElement (session=\"2545d2af4d0e5cc0d29c36f0fab58a59\", element=\"206279ba-606c-4bf1-b5fb-44885946efe2\")>,\n",
       " <selenium.webdriver.remote.webelement.WebElement (session=\"2545d2af4d0e5cc0d29c36f0fab58a59\", element=\"e62eda6d-afa2-42ce-91f4-2f1c9e9dfdb2\")>,\n",
       " <selenium.webdriver.remote.webelement.WebElement (session=\"2545d2af4d0e5cc0d29c36f0fab58a59\", element=\"ed631d32-e085-40f1-9c4b-65f1aabe0afd\")>,\n",
       " <selenium.webdriver.remote.webelement.WebElement (session=\"2545d2af4d0e5cc0d29c36f0fab58a59\", element=\"6aa360c0-6d95-4db0-8744-0f00515ed871\")>,\n",
       " <selenium.webdriver.remote.webelement.WebElement (session=\"2545d2af4d0e5cc0d29c36f0fab58a59\", element=\"76f8626c-0efe-4725-947e-7ab09e7cc3a8\")>,\n",
       " <selenium.webdriver.remote.webelement.WebElement (session=\"2545d2af4d0e5cc0d29c36f0fab58a59\", element=\"f669fb3a-0f52-43b3-a66b-b3b9c3de6acc\")>]"
      ]
     },
     "execution_count": 75,
     "metadata": {},
     "output_type": "execute_result"
    }
   ],
   "source": [
    "job_title=driver.find_elements_by_xpath('//a[@class=\"title fw500 ellipsis\"]')[:10]\n",
    "job_title"
   ]
  },
  {
   "cell_type": "code",
   "execution_count": 76,
   "id": "22d12955",
   "metadata": {},
   "outputs": [
    {
     "data": {
      "text/plain": [
       "10"
      ]
     },
     "execution_count": 76,
     "metadata": {},
     "output_type": "execute_result"
    }
   ],
   "source": [
    "job_titles=[]\n",
    "\n",
    "for i in job_title:\n",
    "    job_titles.append(i.text)\n",
    "    \n",
    "job_titles\n",
    "len(job_titles)"
   ]
  },
  {
   "cell_type": "code",
   "execution_count": 77,
   "id": "d2e66ec2",
   "metadata": {},
   "outputs": [
    {
     "data": {
      "text/plain": [
       "[<selenium.webdriver.remote.webelement.WebElement (session=\"2545d2af4d0e5cc0d29c36f0fab58a59\", element=\"dbf1eb15-638d-4dcc-968e-4e5011d2ccb0\")>,\n",
       " <selenium.webdriver.remote.webelement.WebElement (session=\"2545d2af4d0e5cc0d29c36f0fab58a59\", element=\"3b2b1bcb-ce92-444e-a6dc-23eda362bcac\")>,\n",
       " <selenium.webdriver.remote.webelement.WebElement (session=\"2545d2af4d0e5cc0d29c36f0fab58a59\", element=\"82958ac8-e15e-4f5e-8480-8e10adc861d5\")>,\n",
       " <selenium.webdriver.remote.webelement.WebElement (session=\"2545d2af4d0e5cc0d29c36f0fab58a59\", element=\"93e16865-bbd6-4a4d-b178-0f48b3b1d92a\")>,\n",
       " <selenium.webdriver.remote.webelement.WebElement (session=\"2545d2af4d0e5cc0d29c36f0fab58a59\", element=\"bf13dee0-0e26-426b-bd41-bdfdffb484aa\")>,\n",
       " <selenium.webdriver.remote.webelement.WebElement (session=\"2545d2af4d0e5cc0d29c36f0fab58a59\", element=\"ace7191d-cbfa-42d9-b83f-229946e90118\")>,\n",
       " <selenium.webdriver.remote.webelement.WebElement (session=\"2545d2af4d0e5cc0d29c36f0fab58a59\", element=\"e2a22192-8335-44da-abec-e9a706e1cb22\")>,\n",
       " <selenium.webdriver.remote.webelement.WebElement (session=\"2545d2af4d0e5cc0d29c36f0fab58a59\", element=\"8930c2f2-a78b-45bb-a347-af3bd0485655\")>,\n",
       " <selenium.webdriver.remote.webelement.WebElement (session=\"2545d2af4d0e5cc0d29c36f0fab58a59\", element=\"42515a82-11df-4fc3-a861-c12791009a93\")>,\n",
       " <selenium.webdriver.remote.webelement.WebElement (session=\"2545d2af4d0e5cc0d29c36f0fab58a59\", element=\"ca746e59-2a67-45f4-a744-5400aadcf9c7\")>]"
      ]
     },
     "execution_count": 77,
     "metadata": {},
     "output_type": "execute_result"
    }
   ],
   "source": [
    "loc_job=driver.find_elements_by_xpath('//li[@class=\"fleft grey-text br2 placeHolderLi location\"]')[:10]\n",
    "loc_job"
   ]
  },
  {
   "cell_type": "code",
   "execution_count": 78,
   "id": "324a98cd",
   "metadata": {},
   "outputs": [
    {
     "data": {
      "text/plain": [
       "10"
      ]
     },
     "execution_count": 78,
     "metadata": {},
     "output_type": "execute_result"
    }
   ],
   "source": [
    "loc_jobs=[]\n",
    "\n",
    "for i in loc_job:\n",
    "    loc_jobs.append(i.text)\n",
    "    \n",
    "loc_jobs   \n",
    "len(loc_jobs)    "
   ]
  },
  {
   "cell_type": "code",
   "execution_count": 79,
   "id": "24ad4a9f",
   "metadata": {},
   "outputs": [
    {
     "data": {
      "text/plain": [
       "[<selenium.webdriver.remote.webelement.WebElement (session=\"2545d2af4d0e5cc0d29c36f0fab58a59\", element=\"2a9566cb-cc05-4118-a5fa-19da9765b29a\")>,\n",
       " <selenium.webdriver.remote.webelement.WebElement (session=\"2545d2af4d0e5cc0d29c36f0fab58a59\", element=\"7dd76953-9ff3-44bf-b235-9f0f5905f540\")>,\n",
       " <selenium.webdriver.remote.webelement.WebElement (session=\"2545d2af4d0e5cc0d29c36f0fab58a59\", element=\"2ee02734-d0c3-43e9-8f5c-fd8ede270e2f\")>,\n",
       " <selenium.webdriver.remote.webelement.WebElement (session=\"2545d2af4d0e5cc0d29c36f0fab58a59\", element=\"58cc52a9-eab0-4069-bb14-45abbd372b62\")>,\n",
       " <selenium.webdriver.remote.webelement.WebElement (session=\"2545d2af4d0e5cc0d29c36f0fab58a59\", element=\"38758503-6b22-4905-8dd4-46ce6dcdacfa\")>,\n",
       " <selenium.webdriver.remote.webelement.WebElement (session=\"2545d2af4d0e5cc0d29c36f0fab58a59\", element=\"0c417207-5ec7-4205-92ca-88a96e146002\")>,\n",
       " <selenium.webdriver.remote.webelement.WebElement (session=\"2545d2af4d0e5cc0d29c36f0fab58a59\", element=\"4041d2f2-26db-4a6b-a575-e99178969789\")>,\n",
       " <selenium.webdriver.remote.webelement.WebElement (session=\"2545d2af4d0e5cc0d29c36f0fab58a59\", element=\"b1906212-6ef0-434e-ae6c-37459ae49fe8\")>,\n",
       " <selenium.webdriver.remote.webelement.WebElement (session=\"2545d2af4d0e5cc0d29c36f0fab58a59\", element=\"ec2808f3-5f3f-4154-8ad6-bdeb7f600d5d\")>,\n",
       " <selenium.webdriver.remote.webelement.WebElement (session=\"2545d2af4d0e5cc0d29c36f0fab58a59\", element=\"223b2b6a-1251-41e6-99e4-d1ce0f0843e6\")>]"
      ]
     },
     "execution_count": 79,
     "metadata": {},
     "output_type": "execute_result"
    }
   ],
   "source": [
    "company_name=driver.find_elements_by_xpath('//div[@class=\"mt-7 companyInfo subheading lh16\"]')[:10]\n",
    "company_name"
   ]
  },
  {
   "cell_type": "code",
   "execution_count": 80,
   "id": "d3d667ca",
   "metadata": {},
   "outputs": [
    {
     "data": {
      "text/plain": [
       "10"
      ]
     },
     "execution_count": 80,
     "metadata": {},
     "output_type": "execute_result"
    }
   ],
   "source": [
    "company_titles=[]\n",
    "for i in company_name:\n",
    "    company_titles.append(i.text)\n",
    "    \n",
    "company_titles  \n",
    "len(company_titles)\n",
    "    "
   ]
  },
  {
   "cell_type": "code",
   "execution_count": 81,
   "id": "1f4c5d60",
   "metadata": {},
   "outputs": [
    {
     "data": {
      "text/html": [
       "<div>\n",
       "<style scoped>\n",
       "    .dataframe tbody tr th:only-of-type {\n",
       "        vertical-align: middle;\n",
       "    }\n",
       "\n",
       "    .dataframe tbody tr th {\n",
       "        vertical-align: top;\n",
       "    }\n",
       "\n",
       "    .dataframe thead th {\n",
       "        text-align: right;\n",
       "    }\n",
       "</style>\n",
       "<table border=\"1\" class=\"dataframe\">\n",
       "  <thead>\n",
       "    <tr style=\"text-align: right;\">\n",
       "      <th></th>\n",
       "      <th>Job Title</th>\n",
       "      <th>Job Location</th>\n",
       "      <th>Company Name</th>\n",
       "    </tr>\n",
       "  </thead>\n",
       "  <tbody>\n",
       "    <tr>\n",
       "      <th>0</th>\n",
       "      <td>Sr Data Scientist</td>\n",
       "      <td>Bangalore/Bengaluru</td>\n",
       "      <td>Siemens\\n4.2\\n(2392 Reviews)</td>\n",
       "    </tr>\n",
       "    <tr>\n",
       "      <th>1</th>\n",
       "      <td>Senior Manager - Lead Data Scientist</td>\n",
       "      <td>Bangalore/Bengaluru</td>\n",
       "      <td>ExecBoardinAsia</td>\n",
       "    </tr>\n",
       "    <tr>\n",
       "      <th>2</th>\n",
       "      <td>Associate Data Scientist</td>\n",
       "      <td>Chennai, Bangalore/Bengaluru</td>\n",
       "      <td>Shell\\n4.2\\n(749 Reviews)</td>\n",
       "    </tr>\n",
       "    <tr>\n",
       "      <th>3</th>\n",
       "      <td>Junior Programmer - Data Scientist</td>\n",
       "      <td>Bangalore/Bengaluru</td>\n",
       "      <td>GSK India\\n4.3\\n(927 Reviews)</td>\n",
       "    </tr>\n",
       "    <tr>\n",
       "      <th>4</th>\n",
       "      <td>Lead/Senior Data Scientist (NLP)</td>\n",
       "      <td>Bangalore/Bengaluru\\n(WFH during Covid)</td>\n",
       "      <td>Samya.AI A FRACTAL Entity</td>\n",
       "    </tr>\n",
       "    <tr>\n",
       "      <th>5</th>\n",
       "      <td>Sr . Data Scientist</td>\n",
       "      <td>Mumbai, Bangalore/Bengaluru</td>\n",
       "      <td>RKSV\\n3.9\\n(36 Reviews)</td>\n",
       "    </tr>\n",
       "    <tr>\n",
       "      <th>6</th>\n",
       "      <td>Sr. Data Scientist</td>\n",
       "      <td>Pune, Bangalore/Bengaluru, Mumbai (All Areas)\\...</td>\n",
       "      <td>NutaNXT Technologies\\n4.5\\n(2 Reviews)</td>\n",
       "    </tr>\n",
       "    <tr>\n",
       "      <th>7</th>\n",
       "      <td>Senior Data Scientist, Data Sciences</td>\n",
       "      <td>Bangalore/Bengaluru</td>\n",
       "      <td>Vmware\\n4.3\\n(271 Reviews)</td>\n",
       "    </tr>\n",
       "    <tr>\n",
       "      <th>8</th>\n",
       "      <td>Lead Data Scientist</td>\n",
       "      <td>Bangalore/Bengaluru\\n(WFH during Covid)</td>\n",
       "      <td>Gadgeon Smart Systems\\n4.1\\n(14 Reviews)</td>\n",
       "    </tr>\n",
       "    <tr>\n",
       "      <th>9</th>\n",
       "      <td>Senior Data Scientist</td>\n",
       "      <td>Bangalore/Bengaluru</td>\n",
       "      <td>Dell\\n4.0\\n(1968 Reviews)</td>\n",
       "    </tr>\n",
       "  </tbody>\n",
       "</table>\n",
       "</div>"
      ],
      "text/plain": [
       "                              Job Title  \\\n",
       "0                     Sr Data Scientist   \n",
       "1  Senior Manager - Lead Data Scientist   \n",
       "2              Associate Data Scientist   \n",
       "3    Junior Programmer - Data Scientist   \n",
       "4      Lead/Senior Data Scientist (NLP)   \n",
       "5                   Sr . Data Scientist   \n",
       "6                    Sr. Data Scientist   \n",
       "7  Senior Data Scientist, Data Sciences   \n",
       "8                   Lead Data Scientist   \n",
       "9                 Senior Data Scientist   \n",
       "\n",
       "                                        Job Location  \\\n",
       "0                                Bangalore/Bengaluru   \n",
       "1                                Bangalore/Bengaluru   \n",
       "2                       Chennai, Bangalore/Bengaluru   \n",
       "3                                Bangalore/Bengaluru   \n",
       "4            Bangalore/Bengaluru\\n(WFH during Covid)   \n",
       "5                        Mumbai, Bangalore/Bengaluru   \n",
       "6  Pune, Bangalore/Bengaluru, Mumbai (All Areas)\\...   \n",
       "7                                Bangalore/Bengaluru   \n",
       "8            Bangalore/Bengaluru\\n(WFH during Covid)   \n",
       "9                                Bangalore/Bengaluru   \n",
       "\n",
       "                               Company Name  \n",
       "0              Siemens\\n4.2\\n(2392 Reviews)  \n",
       "1                           ExecBoardinAsia  \n",
       "2                 Shell\\n4.2\\n(749 Reviews)  \n",
       "3             GSK India\\n4.3\\n(927 Reviews)  \n",
       "4                 Samya.AI A FRACTAL Entity  \n",
       "5                   RKSV\\n3.9\\n(36 Reviews)  \n",
       "6    NutaNXT Technologies\\n4.5\\n(2 Reviews)  \n",
       "7                Vmware\\n4.3\\n(271 Reviews)  \n",
       "8  Gadgeon Smart Systems\\n4.1\\n(14 Reviews)  \n",
       "9                 Dell\\n4.0\\n(1968 Reviews)  "
      ]
     },
     "execution_count": 81,
     "metadata": {},
     "output_type": "execute_result"
    }
   ],
   "source": [
    "Data_scientist=pd.DataFrame({\"Job Title\":job_titles,\"Job Location\":loc_jobs,\"Company Name\":company_titles })\n",
    "Data_scientist"
   ]
  },
  {
   "cell_type": "markdown",
   "id": "48151187",
   "metadata": {},
   "source": [
    "# 3.Data science "
   ]
  },
  {
   "cell_type": "code",
   "execution_count": 82,
   "id": "21354b64",
   "metadata": {},
   "outputs": [
    {
     "data": {
      "text/plain": [
       "<selenium.webdriver.chrome.webdriver.WebDriver (session=\"03aea9a139e8fb1aac6d139f1d1387af\")>"
      ]
     },
     "execution_count": 82,
     "metadata": {},
     "output_type": "execute_result"
    }
   ],
   "source": [
    "driver=webdriver.Chrome(r'C:\\Users\\User\\Downloads\\Fliprobo\\chromedriver_win32\\chromedriver.exe')\n",
    "driver"
   ]
  },
  {
   "cell_type": "code",
   "execution_count": 83,
   "id": "d19950d0",
   "metadata": {},
   "outputs": [],
   "source": [
    "url='https://www.naukri.com/'\n",
    "driver.get(url)"
   ]
  },
  {
   "cell_type": "code",
   "execution_count": 84,
   "id": "054e002e",
   "metadata": {},
   "outputs": [
    {
     "data": {
      "text/plain": [
       "<selenium.webdriver.remote.webelement.WebElement (session=\"03aea9a139e8fb1aac6d139f1d1387af\", element=\"2030642e-95f6-4cde-8979-686767815839\")>"
      ]
     },
     "execution_count": 84,
     "metadata": {},
     "output_type": "execute_result"
    }
   ],
   "source": [
    "search_job=driver.find_element_by_xpath(\"/html/body/div/div[2]/div[3]/div/div/div[1]/div/div/div/input\")\n",
    "search_job"
   ]
  },
  {
   "cell_type": "code",
   "execution_count": 85,
   "id": "302a9200",
   "metadata": {},
   "outputs": [],
   "source": [
    "search_job.send_keys(\"Data Scientist\")"
   ]
  },
  {
   "cell_type": "code",
   "execution_count": 86,
   "id": "490d9a64",
   "metadata": {},
   "outputs": [
    {
     "data": {
      "text/plain": [
       "<selenium.webdriver.remote.webelement.WebElement (session=\"03aea9a139e8fb1aac6d139f1d1387af\", element=\"a02f2234-5d76-4a84-a653-1689e27111ad\")>"
      ]
     },
     "execution_count": 86,
     "metadata": {},
     "output_type": "execute_result"
    }
   ],
   "source": [
    "loc1=driver.find_element_by_xpath(\"/html/body/div/div[2]/div[3]/div/div/div[3]/div/div/div/input\")\n",
    "loc1"
   ]
  },
  {
   "cell_type": "code",
   "execution_count": 87,
   "id": "a695afeb",
   "metadata": {},
   "outputs": [],
   "source": [
    "loc1.send_keys(\"Delhi/NCR\")"
   ]
  },
  {
   "cell_type": "code",
   "execution_count": 88,
   "id": "7f79d4a0",
   "metadata": {},
   "outputs": [
    {
     "data": {
      "text/plain": [
       "<selenium.webdriver.remote.webelement.WebElement (session=\"03aea9a139e8fb1aac6d139f1d1387af\", element=\"a93ae51b-315d-4a6a-953d-939164b89083\")>"
      ]
     },
     "execution_count": 88,
     "metadata": {},
     "output_type": "execute_result"
    }
   ],
   "source": [
    "search_btn=driver.find_element_by_xpath('/html/body/div/div[2]/div[3]/div/div/div[6]')\n",
    "search_btn"
   ]
  },
  {
   "cell_type": "code",
   "execution_count": 89,
   "id": "5f4407a0",
   "metadata": {},
   "outputs": [],
   "source": [
    "search_btn.click()"
   ]
  },
  {
   "cell_type": "code",
   "execution_count": 104,
   "id": "5fa1c38d",
   "metadata": {},
   "outputs": [
    {
     "data": {
      "text/plain": [
       "[<selenium.webdriver.remote.webelement.WebElement (session=\"03aea9a139e8fb1aac6d139f1d1387af\", element=\"651971b5-cb7b-4dbb-a676-f8ec6cb7f54d\")>,\n",
       " <selenium.webdriver.remote.webelement.WebElement (session=\"03aea9a139e8fb1aac6d139f1d1387af\", element=\"6b4e972c-2de7-4e6b-856c-18ef0abdea46\")>,\n",
       " <selenium.webdriver.remote.webelement.WebElement (session=\"03aea9a139e8fb1aac6d139f1d1387af\", element=\"00a85789-d6fc-4fe1-a8b9-2c5f2f3098e5\")>,\n",
       " <selenium.webdriver.remote.webelement.WebElement (session=\"03aea9a139e8fb1aac6d139f1d1387af\", element=\"025d6483-524b-4cf2-90ca-f4acb2ffced2\")>,\n",
       " <selenium.webdriver.remote.webelement.WebElement (session=\"03aea9a139e8fb1aac6d139f1d1387af\", element=\"f2e60fcf-e9d2-4d8f-a3fe-94583fd8cbd6\")>,\n",
       " <selenium.webdriver.remote.webelement.WebElement (session=\"03aea9a139e8fb1aac6d139f1d1387af\", element=\"4edfde78-0b78-4518-91bc-7dd757cd1e71\")>,\n",
       " <selenium.webdriver.remote.webelement.WebElement (session=\"03aea9a139e8fb1aac6d139f1d1387af\", element=\"feece168-ed69-4b5c-878f-6d72dc0686a8\")>,\n",
       " <selenium.webdriver.remote.webelement.WebElement (session=\"03aea9a139e8fb1aac6d139f1d1387af\", element=\"60a98a22-80de-4fb3-9b47-bec124826a9a\")>,\n",
       " <selenium.webdriver.remote.webelement.WebElement (session=\"03aea9a139e8fb1aac6d139f1d1387af\", element=\"cba52daf-c9c3-4039-9255-c327fbb92c11\")>,\n",
       " <selenium.webdriver.remote.webelement.WebElement (session=\"03aea9a139e8fb1aac6d139f1d1387af\", element=\"e9355f90-88a5-4cf8-af71-c202e02d9985\")>]"
      ]
     },
     "execution_count": 104,
     "metadata": {},
     "output_type": "execute_result"
    }
   ],
   "source": [
    "job=driver.find_elements_by_xpath('//a[@class=\"title fw500 ellipsis\"]')[:10]\n",
    "job"
   ]
  },
  {
   "cell_type": "code",
   "execution_count": 105,
   "id": "be959795",
   "metadata": {},
   "outputs": [
    {
     "data": {
      "text/plain": [
       "['Job Opportunity || Data Scientist || HCL Technologies',\n",
       " 'Data Scientist',\n",
       " 'Data Scientist | Python | Machine Learning | Deep Learning- Fresher',\n",
       " 'Senior Data Scientist I',\n",
       " 'Openings For Jr/mid/Sr level data Scientists',\n",
       " 'Data Scientist role',\n",
       " 'Urgent Hiring For Data Scientist',\n",
       " 'Urgent Hiring For Data Scientist',\n",
       " 'Data Scientist role',\n",
       " 'Data Scientist role']"
      ]
     },
     "execution_count": 105,
     "metadata": {},
     "output_type": "execute_result"
    }
   ],
   "source": [
    "jobs=[]\n",
    "for i in job:\n",
    "    jobs.append(i.text)\n",
    "    \n",
    "jobs\n",
    "#jobs[:10]"
   ]
  },
  {
   "cell_type": "code",
   "execution_count": 106,
   "id": "9f4f69db",
   "metadata": {},
   "outputs": [
    {
     "data": {
      "text/plain": [
       "[<selenium.webdriver.remote.webelement.WebElement (session=\"03aea9a139e8fb1aac6d139f1d1387af\", element=\"4fd86f0f-bafc-4ac2-9ba5-46c83bfda272\")>,\n",
       " <selenium.webdriver.remote.webelement.WebElement (session=\"03aea9a139e8fb1aac6d139f1d1387af\", element=\"b182646f-ed0f-4862-a9ba-b2af56e7e750\")>,\n",
       " <selenium.webdriver.remote.webelement.WebElement (session=\"03aea9a139e8fb1aac6d139f1d1387af\", element=\"960018f9-7b45-4c52-86a7-e15b9c563c59\")>,\n",
       " <selenium.webdriver.remote.webelement.WebElement (session=\"03aea9a139e8fb1aac6d139f1d1387af\", element=\"902af62f-8d82-4b0a-a3cf-00160fec9894\")>,\n",
       " <selenium.webdriver.remote.webelement.WebElement (session=\"03aea9a139e8fb1aac6d139f1d1387af\", element=\"efed482d-9746-431b-b21e-59e50a222868\")>,\n",
       " <selenium.webdriver.remote.webelement.WebElement (session=\"03aea9a139e8fb1aac6d139f1d1387af\", element=\"3ed4451b-250a-41e1-a2c4-49aa4dde56c0\")>,\n",
       " <selenium.webdriver.remote.webelement.WebElement (session=\"03aea9a139e8fb1aac6d139f1d1387af\", element=\"f2db7138-7ab0-4982-a73a-14364d1a1a71\")>,\n",
       " <selenium.webdriver.remote.webelement.WebElement (session=\"03aea9a139e8fb1aac6d139f1d1387af\", element=\"eca00656-4260-4b7f-a9e6-7bdb1aaa9e2d\")>,\n",
       " <selenium.webdriver.remote.webelement.WebElement (session=\"03aea9a139e8fb1aac6d139f1d1387af\", element=\"c6d7a2e0-85c7-4e0b-8f43-00dae63e2b56\")>,\n",
       " <selenium.webdriver.remote.webelement.WebElement (session=\"03aea9a139e8fb1aac6d139f1d1387af\", element=\"93f85dcb-2bd7-406b-98c8-1a359310f1d1\")>]"
      ]
     },
     "execution_count": 106,
     "metadata": {},
     "output_type": "execute_result"
    }
   ],
   "source": [
    "loc2=driver.find_elements_by_xpath('//li[@class=\"fleft grey-text br2 placeHolderLi location\"]')[:10]\n",
    "loc2\n",
    "#loc2[:10]"
   ]
  },
  {
   "cell_type": "code",
   "execution_count": 107,
   "id": "0fa5c7d4",
   "metadata": {},
   "outputs": [
    {
     "data": {
      "text/plain": [
       "10"
      ]
     },
     "execution_count": 107,
     "metadata": {},
     "output_type": "execute_result"
    }
   ],
   "source": [
    "loc_2=[]\n",
    "for i in loc2:\n",
    "    loc_2.append(i.text)\n",
    "    \n",
    "loc_2 \n",
    "len(loc_2)\n"
   ]
  },
  {
   "cell_type": "code",
   "execution_count": 108,
   "id": "66a82c89",
   "metadata": {},
   "outputs": [
    {
     "data": {
      "text/plain": [
       "10"
      ]
     },
     "execution_count": 108,
     "metadata": {},
     "output_type": "execute_result"
    }
   ],
   "source": [
    "company2=driver.find_elements_by_xpath('//div[@class=\"mt-7 companyInfo subheading lh16\"]')[:10]\n",
    "company2\n",
    "len(company2)\n",
    "#company2[:10]"
   ]
  },
  {
   "cell_type": "code",
   "execution_count": 109,
   "id": "db94720e",
   "metadata": {},
   "outputs": [
    {
     "data": {
      "text/plain": [
       "10"
      ]
     },
     "execution_count": 109,
     "metadata": {},
     "output_type": "execute_result"
    }
   ],
   "source": [
    "company_title=[]\n",
    "for i in company2:\n",
    "    company_title.append(i.text)\n",
    "\n",
    "company_title\n",
    "len(company_title)\n",
    "#company_title[:10]"
   ]
  },
  {
   "cell_type": "code",
   "execution_count": 110,
   "id": "afb82784",
   "metadata": {},
   "outputs": [
    {
     "data": {
      "text/plain": [
       "10"
      ]
     },
     "execution_count": 110,
     "metadata": {},
     "output_type": "execute_result"
    }
   ],
   "source": [
    "experience=driver.find_elements_by_xpath('//li[@class=\"fleft grey-text br2 placeHolderLi experience\"]')[:10]\n",
    "experience\n",
    "len(experience)\n",
    "#experience[:10]"
   ]
  },
  {
   "cell_type": "code",
   "execution_count": 111,
   "id": "f413eb36",
   "metadata": {},
   "outputs": [
    {
     "data": {
      "text/plain": [
       "10"
      ]
     },
     "execution_count": 111,
     "metadata": {},
     "output_type": "execute_result"
    }
   ],
   "source": [
    "experiences=[]\n",
    "for i in experience:\n",
    "    experiences.append(i.text)\n",
    "\n",
    "experiences\n",
    "len(experiences)"
   ]
  },
  {
   "cell_type": "code",
   "execution_count": 122,
   "id": "51d74e33",
   "metadata": {
    "scrolled": true
   },
   "outputs": [],
   "source": [
    "salary=driver.find_element_by_xpath('/html/body/div[1]/div[3]/div[2]/section[1]/div[2]/div[1]/div[2]/div[1]/label/p/span[1]')"
   ]
  },
  {
   "cell_type": "code",
   "execution_count": 123,
   "id": "961eddee",
   "metadata": {},
   "outputs": [],
   "source": [
    "salary.click()"
   ]
  },
  {
   "cell_type": "code",
   "execution_count": 125,
   "id": "0ab6370f",
   "metadata": {},
   "outputs": [
    {
     "data": {
      "text/plain": [
       "<selenium.webdriver.remote.webelement.WebElement (session=\"03aea9a139e8fb1aac6d139f1d1387af\", element=\"4b40c8c8-d5dc-4a9d-9e9e-b42edcd07448\")>"
      ]
     },
     "execution_count": 125,
     "metadata": {},
     "output_type": "execute_result"
    }
   ],
   "source": [
    "salary1=driver.find_elements_by_xpath('//label[@class=\"chkLbl\"]')[:10]\n",
    "salary\n"
   ]
  },
  {
   "cell_type": "code",
   "execution_count": 126,
   "id": "3278147c",
   "metadata": {},
   "outputs": [
    {
     "data": {
      "text/plain": [
       "['0-3 Lakhs\\n(201)',\n",
       " '3-6 Lakhs\\n(673)',\n",
       " '6-10 Lakhs\\n(1283)',\n",
       " '10-15 Lakhs\\n(1197)',\n",
       " 'WFH during Covid\\n(16)',\n",
       " 'Remote\\n(1)',\n",
       " 'Delhi / NCR\\n(200)',\n",
       " 'Gurgaon/Gurugram\\n(94)',\n",
       " 'Noida\\n(70)',\n",
       " 'Premium Engg\\n(5)']"
      ]
     },
     "execution_count": 126,
     "metadata": {},
     "output_type": "execute_result"
    }
   ],
   "source": [
    "salary_1=[]\n",
    "for i in salary1:\n",
    "    salary_1.append(i.text)\n",
    "salary_1   "
   ]
  },
  {
   "cell_type": "code",
   "execution_count": 128,
   "id": "5d73f066",
   "metadata": {},
   "outputs": [
    {
     "data": {
      "text/html": [
       "<div>\n",
       "<style scoped>\n",
       "    .dataframe tbody tr th:only-of-type {\n",
       "        vertical-align: middle;\n",
       "    }\n",
       "\n",
       "    .dataframe tbody tr th {\n",
       "        vertical-align: top;\n",
       "    }\n",
       "\n",
       "    .dataframe thead th {\n",
       "        text-align: right;\n",
       "    }\n",
       "</style>\n",
       "<table border=\"1\" class=\"dataframe\">\n",
       "  <thead>\n",
       "    <tr style=\"text-align: right;\">\n",
       "      <th></th>\n",
       "      <th>Job Title</th>\n",
       "      <th>Job Location</th>\n",
       "      <th>Company name</th>\n",
       "      <th>Experience</th>\n",
       "      <th>Salary</th>\n",
       "    </tr>\n",
       "  </thead>\n",
       "  <tbody>\n",
       "    <tr>\n",
       "      <th>0</th>\n",
       "      <td>Job Opportunity || Data Scientist || HCL Techn...</td>\n",
       "      <td>Delhi / NCR</td>\n",
       "      <td>HCL\\n3.8\\n(13982 Reviews)</td>\n",
       "      <td>2-6 Yrs</td>\n",
       "      <td>0-3 Lakhs\\n(201)</td>\n",
       "    </tr>\n",
       "    <tr>\n",
       "      <th>1</th>\n",
       "      <td>Data Scientist</td>\n",
       "      <td>Gurgaon/Gurugram</td>\n",
       "      <td>T &amp; A Solutions</td>\n",
       "      <td>2-6 Yrs</td>\n",
       "      <td>3-6 Lakhs\\n(673)</td>\n",
       "    </tr>\n",
       "    <tr>\n",
       "      <th>2</th>\n",
       "      <td>Data Scientist | Python | Machine Learning | D...</td>\n",
       "      <td>Noida, Gurgaon/Gurugram, Delhi / NCR</td>\n",
       "      <td>Schlesinger Group</td>\n",
       "      <td>0-3 Yrs</td>\n",
       "      <td>6-10 Lakhs\\n(1283)</td>\n",
       "    </tr>\n",
       "    <tr>\n",
       "      <th>3</th>\n",
       "      <td>Senior Data Scientist I</td>\n",
       "      <td>Gurgaon/Gurugram</td>\n",
       "      <td>Delhivery\\n4.2\\n(1934 Reviews)</td>\n",
       "      <td>3-7 Yrs</td>\n",
       "      <td>10-15 Lakhs\\n(1197)</td>\n",
       "    </tr>\n",
       "    <tr>\n",
       "      <th>4</th>\n",
       "      <td>Openings For Jr/mid/Sr level data Scientists</td>\n",
       "      <td>Kolkata, Hyderabad/Secunderabad, Pune, Ahmedab...</td>\n",
       "      <td>Pluto seven business solutions (p) limited</td>\n",
       "      <td>2-6 Yrs</td>\n",
       "      <td>WFH during Covid\\n(16)</td>\n",
       "    </tr>\n",
       "    <tr>\n",
       "      <th>5</th>\n",
       "      <td>Data Scientist role</td>\n",
       "      <td>Noida, Hyderabad/Secunderabad, Pune, Gurgaon/G...</td>\n",
       "      <td>Mount Talent Consulting Private Limited</td>\n",
       "      <td>1-4 Yrs</td>\n",
       "      <td>Remote\\n(1)</td>\n",
       "    </tr>\n",
       "    <tr>\n",
       "      <th>6</th>\n",
       "      <td>Urgent Hiring For Data Scientist</td>\n",
       "      <td>Gurgaon/Gurugram, Bangalore/Bengaluru</td>\n",
       "      <td>Mount Talent Consulting Private Limited</td>\n",
       "      <td>1-6 Yrs</td>\n",
       "      <td>Delhi / NCR\\n(200)</td>\n",
       "    </tr>\n",
       "    <tr>\n",
       "      <th>7</th>\n",
       "      <td>Urgent Hiring For Data Scientist</td>\n",
       "      <td>Gurgaon/Gurugram, Bangalore/Bengaluru</td>\n",
       "      <td>Mount Talent Consulting Private Limited</td>\n",
       "      <td>1-6 Yrs</td>\n",
       "      <td>Gurgaon/Gurugram\\n(94)</td>\n",
       "    </tr>\n",
       "    <tr>\n",
       "      <th>8</th>\n",
       "      <td>Data Scientist role</td>\n",
       "      <td>Noida, Hyderabad/Secunderabad, Pune, Gurgaon/G...</td>\n",
       "      <td>Mount Talent Consulting Private Limited</td>\n",
       "      <td>1-3 Yrs</td>\n",
       "      <td>Noida\\n(70)</td>\n",
       "    </tr>\n",
       "    <tr>\n",
       "      <th>9</th>\n",
       "      <td>Data Scientist role</td>\n",
       "      <td>Noida, Hyderabad/Secunderabad, Pune, Gurgaon/G...</td>\n",
       "      <td>Mount Talent Consulting Private Limited</td>\n",
       "      <td>1-3 Yrs</td>\n",
       "      <td>Premium Engg\\n(5)</td>\n",
       "    </tr>\n",
       "  </tbody>\n",
       "</table>\n",
       "</div>"
      ],
      "text/plain": [
       "                                           Job Title  \\\n",
       "0  Job Opportunity || Data Scientist || HCL Techn...   \n",
       "1                                     Data Scientist   \n",
       "2  Data Scientist | Python | Machine Learning | D...   \n",
       "3                            Senior Data Scientist I   \n",
       "4       Openings For Jr/mid/Sr level data Scientists   \n",
       "5                                Data Scientist role   \n",
       "6                   Urgent Hiring For Data Scientist   \n",
       "7                   Urgent Hiring For Data Scientist   \n",
       "8                                Data Scientist role   \n",
       "9                                Data Scientist role   \n",
       "\n",
       "                                        Job Location  \\\n",
       "0                                        Delhi / NCR   \n",
       "1                                   Gurgaon/Gurugram   \n",
       "2               Noida, Gurgaon/Gurugram, Delhi / NCR   \n",
       "3                                   Gurgaon/Gurugram   \n",
       "4  Kolkata, Hyderabad/Secunderabad, Pune, Ahmedab...   \n",
       "5  Noida, Hyderabad/Secunderabad, Pune, Gurgaon/G...   \n",
       "6              Gurgaon/Gurugram, Bangalore/Bengaluru   \n",
       "7              Gurgaon/Gurugram, Bangalore/Bengaluru   \n",
       "8  Noida, Hyderabad/Secunderabad, Pune, Gurgaon/G...   \n",
       "9  Noida, Hyderabad/Secunderabad, Pune, Gurgaon/G...   \n",
       "\n",
       "                                 Company name Experience  \\\n",
       "0                   HCL\\n3.8\\n(13982 Reviews)    2-6 Yrs   \n",
       "1                             T & A Solutions    2-6 Yrs   \n",
       "2                           Schlesinger Group    0-3 Yrs   \n",
       "3              Delhivery\\n4.2\\n(1934 Reviews)    3-7 Yrs   \n",
       "4  Pluto seven business solutions (p) limited    2-6 Yrs   \n",
       "5     Mount Talent Consulting Private Limited    1-4 Yrs   \n",
       "6     Mount Talent Consulting Private Limited    1-6 Yrs   \n",
       "7     Mount Talent Consulting Private Limited    1-6 Yrs   \n",
       "8     Mount Talent Consulting Private Limited    1-3 Yrs   \n",
       "9     Mount Talent Consulting Private Limited    1-3 Yrs   \n",
       "\n",
       "                   Salary  \n",
       "0        0-3 Lakhs\\n(201)  \n",
       "1        3-6 Lakhs\\n(673)  \n",
       "2      6-10 Lakhs\\n(1283)  \n",
       "3     10-15 Lakhs\\n(1197)  \n",
       "4  WFH during Covid\\n(16)  \n",
       "5             Remote\\n(1)  \n",
       "6      Delhi / NCR\\n(200)  \n",
       "7  Gurgaon/Gurugram\\n(94)  \n",
       "8             Noida\\n(70)  \n",
       "9       Premium Engg\\n(5)  "
      ]
     },
     "execution_count": 128,
     "metadata": {},
     "output_type": "execute_result"
    }
   ],
   "source": [
    "Dt=pd.DataFrame({\"Job Title\":jobs,\"Job Location\":loc_2,\"Company name\":company_title,\"Experience\":experiences,\"Salary\":salary_1})\n",
    "Dt[0:10]"
   ]
  },
  {
   "cell_type": "code",
   "execution_count": null,
   "id": "e7481da7",
   "metadata": {},
   "outputs": [],
   "source": [
    "#having trouble in fetching relevent salary ranging from 3-6 lakhs."
   ]
  },
  {
   "cell_type": "markdown",
   "id": "909c9bae",
   "metadata": {},
   "source": [
    "# 4-Flipkart-Sunglasses"
   ]
  },
  {
   "cell_type": "code",
   "execution_count": 129,
   "id": "084e0142",
   "metadata": {},
   "outputs": [
    {
     "data": {
      "text/plain": [
       "<selenium.webdriver.chrome.webdriver.WebDriver (session=\"b35fbb471bb6ed3517b373fe11895e7c\")>"
      ]
     },
     "execution_count": 129,
     "metadata": {},
     "output_type": "execute_result"
    }
   ],
   "source": [
    "driver=webdriver.Chrome(r'C:\\Users\\User\\Downloads\\Fliprobo\\chromedriver_win32\\chromedriver.exe')\n",
    "driver"
   ]
  },
  {
   "cell_type": "code",
   "execution_count": 130,
   "id": "73925086",
   "metadata": {},
   "outputs": [],
   "source": [
    "url='https://www.flipkart.com/'\n",
    "driver.get(url)"
   ]
  },
  {
   "cell_type": "code",
   "execution_count": 131,
   "id": "df92f3e4",
   "metadata": {},
   "outputs": [
    {
     "data": {
      "text/plain": [
       "<selenium.webdriver.remote.webelement.WebElement (session=\"b35fbb471bb6ed3517b373fe11895e7c\", element=\"707029d6-19a2-423c-a31d-f7942020ec21\")>"
      ]
     },
     "execution_count": 131,
     "metadata": {},
     "output_type": "execute_result"
    }
   ],
   "source": [
    "item=driver.find_element_by_xpath('/html/body/div[1]/div/div[1]/div[1]/div[2]/div[2]/form/div/div/input')\n",
    "item"
   ]
  },
  {
   "cell_type": "code",
   "execution_count": 132,
   "id": "daae5b6e",
   "metadata": {},
   "outputs": [],
   "source": [
    "item.send_keys('sunglasses')"
   ]
  },
  {
   "cell_type": "code",
   "execution_count": 135,
   "id": "1aa4d8be",
   "metadata": {},
   "outputs": [
    {
     "data": {
      "text/plain": [
       "<selenium.webdriver.remote.webelement.WebElement (session=\"b35fbb471bb6ed3517b373fe11895e7c\", element=\"e2cd399f-d09f-4409-8115-0cde2d84a7cc\")>"
      ]
     },
     "execution_count": 135,
     "metadata": {},
     "output_type": "execute_result"
    }
   ],
   "source": [
    "item_search=driver.find_element_by_xpath('/html/body/div[1]/div/div[1]/div[1]/div[2]/div[2]/form/div/button')\n",
    "item_search\n",
    "#pop up on site interrupting the program to execute after this stage."
   ]
  },
  {
   "cell_type": "code",
   "execution_count": 136,
   "id": "1c6b5567",
   "metadata": {},
   "outputs": [],
   "source": [
    "item_search.click()"
   ]
  },
  {
   "cell_type": "code",
   "execution_count": 137,
   "id": "54d66ac3",
   "metadata": {
    "scrolled": true
   },
   "outputs": [
    {
     "data": {
      "text/plain": [
       "[<selenium.webdriver.remote.webelement.WebElement (session=\"b35fbb471bb6ed3517b373fe11895e7c\", element=\"6da74139-7ed8-43f9-88a3-d1737ab8834a\")>,\n",
       " <selenium.webdriver.remote.webelement.WebElement (session=\"b35fbb471bb6ed3517b373fe11895e7c\", element=\"724e76de-4f89-4306-a595-c935abc3a879\")>,\n",
       " <selenium.webdriver.remote.webelement.WebElement (session=\"b35fbb471bb6ed3517b373fe11895e7c\", element=\"19c94276-8a07-408c-976d-dbb1ec2566e2\")>,\n",
       " <selenium.webdriver.remote.webelement.WebElement (session=\"b35fbb471bb6ed3517b373fe11895e7c\", element=\"d5b3f6c1-177c-4ef6-a25b-1dadb23f7186\")>,\n",
       " <selenium.webdriver.remote.webelement.WebElement (session=\"b35fbb471bb6ed3517b373fe11895e7c\", element=\"a5cf37f0-03c7-4d23-9121-319b0ffa0b4b\")>,\n",
       " <selenium.webdriver.remote.webelement.WebElement (session=\"b35fbb471bb6ed3517b373fe11895e7c\", element=\"a701eec7-179b-4e40-a9d4-84e9ef726136\")>,\n",
       " <selenium.webdriver.remote.webelement.WebElement (session=\"b35fbb471bb6ed3517b373fe11895e7c\", element=\"c07fc492-865b-49ed-9243-a0ed38bb456f\")>,\n",
       " <selenium.webdriver.remote.webelement.WebElement (session=\"b35fbb471bb6ed3517b373fe11895e7c\", element=\"e27d232b-e26c-433b-a456-58c004ac8e4f\")>,\n",
       " <selenium.webdriver.remote.webelement.WebElement (session=\"b35fbb471bb6ed3517b373fe11895e7c\", element=\"6c6f5b09-85af-4c1d-888c-0199eadf3cd0\")>,\n",
       " <selenium.webdriver.remote.webelement.WebElement (session=\"b35fbb471bb6ed3517b373fe11895e7c\", element=\"0e53b643-64d1-4b60-a3c2-e6b131c86ed8\")>,\n",
       " <selenium.webdriver.remote.webelement.WebElement (session=\"b35fbb471bb6ed3517b373fe11895e7c\", element=\"9589d30a-1b67-4490-a103-f0bc3e17d66d\")>,\n",
       " <selenium.webdriver.remote.webelement.WebElement (session=\"b35fbb471bb6ed3517b373fe11895e7c\", element=\"745ed674-7053-429e-9cbd-31bc1f12eeab\")>,\n",
       " <selenium.webdriver.remote.webelement.WebElement (session=\"b35fbb471bb6ed3517b373fe11895e7c\", element=\"166becb0-3d49-471e-8140-a1cc0e7247aa\")>,\n",
       " <selenium.webdriver.remote.webelement.WebElement (session=\"b35fbb471bb6ed3517b373fe11895e7c\", element=\"3782d5e5-75a6-4bec-9a13-3027af200361\")>,\n",
       " <selenium.webdriver.remote.webelement.WebElement (session=\"b35fbb471bb6ed3517b373fe11895e7c\", element=\"974762c6-a0d2-4a06-9213-a9f2e3be02e6\")>,\n",
       " <selenium.webdriver.remote.webelement.WebElement (session=\"b35fbb471bb6ed3517b373fe11895e7c\", element=\"55751095-b6a5-40a0-b21e-5d0a7832f75e\")>,\n",
       " <selenium.webdriver.remote.webelement.WebElement (session=\"b35fbb471bb6ed3517b373fe11895e7c\", element=\"c4fb8b53-aac7-4aab-ab50-41873f4a00a8\")>,\n",
       " <selenium.webdriver.remote.webelement.WebElement (session=\"b35fbb471bb6ed3517b373fe11895e7c\", element=\"96f1e5b9-0885-4ef5-836a-f300f963ef1a\")>,\n",
       " <selenium.webdriver.remote.webelement.WebElement (session=\"b35fbb471bb6ed3517b373fe11895e7c\", element=\"a729dff3-adac-4b29-82dd-b3d6285e1d74\")>,\n",
       " <selenium.webdriver.remote.webelement.WebElement (session=\"b35fbb471bb6ed3517b373fe11895e7c\", element=\"b8aa10f9-3943-48be-b390-623b4b0107dd\")>]"
      ]
     },
     "execution_count": 137,
     "metadata": {},
     "output_type": "execute_result"
    }
   ],
   "source": [
    "search_brand=driver.find_elements_by_xpath('//a[@class=\"s1Q9rs\"]')\n",
    "search_brand\n",
    "len(search_brand)\n",
    "brand2=driver.find_elements_by_xpath('//a[@class=\"s1Q9rs\"]')\n",
    "brand2\n",
    "brand3=driver.find_elements_by_xpath('//a[@class=\"s1Q9rs\"]')[:20]\n",
    "brand3\n"
   ]
  },
  {
   "cell_type": "code",
   "execution_count": 138,
   "id": "4dcd9084",
   "metadata": {},
   "outputs": [
    {
     "data": {
      "text/plain": [
       "100"
      ]
     },
     "execution_count": 138,
     "metadata": {},
     "output_type": "execute_result"
    }
   ],
   "source": [
    "brand=[]\n",
    "for i in search_brand:\n",
    "    brand.append(i.text)\n",
    "for i in brand2:\n",
    "    brand.append(i.text)\n",
    "for i in brand3:\n",
    "    brand.append(i.text)\n",
    "brand\n",
    "len(brand)"
   ]
  },
  {
   "cell_type": "code",
   "execution_count": 139,
   "id": "88bd276b",
   "metadata": {},
   "outputs": [
    {
     "data": {
      "text/plain": [
       "[<selenium.webdriver.remote.webelement.WebElement (session=\"b35fbb471bb6ed3517b373fe11895e7c\", element=\"ad9f2742-08fb-4e0c-a715-15dda91a7486\")>,\n",
       " <selenium.webdriver.remote.webelement.WebElement (session=\"b35fbb471bb6ed3517b373fe11895e7c\", element=\"2b90af90-1ceb-4028-8762-f1b3520f1c13\")>,\n",
       " <selenium.webdriver.remote.webelement.WebElement (session=\"b35fbb471bb6ed3517b373fe11895e7c\", element=\"fdd5eff3-720b-4151-a0db-ee62f3573a7c\")>,\n",
       " <selenium.webdriver.remote.webelement.WebElement (session=\"b35fbb471bb6ed3517b373fe11895e7c\", element=\"edcb1728-398a-4075-b7f6-dcd2ab2e40d5\")>,\n",
       " <selenium.webdriver.remote.webelement.WebElement (session=\"b35fbb471bb6ed3517b373fe11895e7c\", element=\"adcd4ecd-5356-4ced-9441-4b2cb74778a9\")>,\n",
       " <selenium.webdriver.remote.webelement.WebElement (session=\"b35fbb471bb6ed3517b373fe11895e7c\", element=\"5cf45495-450c-4390-ad6a-d6f075bf5a3d\")>,\n",
       " <selenium.webdriver.remote.webelement.WebElement (session=\"b35fbb471bb6ed3517b373fe11895e7c\", element=\"474003cb-1db8-471e-bf9a-70f63f0cb8f7\")>,\n",
       " <selenium.webdriver.remote.webelement.WebElement (session=\"b35fbb471bb6ed3517b373fe11895e7c\", element=\"07012689-ac6d-401f-8b6e-d57e2a3972aa\")>,\n",
       " <selenium.webdriver.remote.webelement.WebElement (session=\"b35fbb471bb6ed3517b373fe11895e7c\", element=\"59cc42fa-8df4-441a-8090-253c01dd7d7f\")>,\n",
       " <selenium.webdriver.remote.webelement.WebElement (session=\"b35fbb471bb6ed3517b373fe11895e7c\", element=\"c3ffe084-cc83-4a74-8381-6876c4e4b373\")>,\n",
       " <selenium.webdriver.remote.webelement.WebElement (session=\"b35fbb471bb6ed3517b373fe11895e7c\", element=\"7f22338f-a005-43fe-b135-cb57253da255\")>,\n",
       " <selenium.webdriver.remote.webelement.WebElement (session=\"b35fbb471bb6ed3517b373fe11895e7c\", element=\"aabab964-2253-4872-8e5f-711080f58e7d\")>,\n",
       " <selenium.webdriver.remote.webelement.WebElement (session=\"b35fbb471bb6ed3517b373fe11895e7c\", element=\"834f06c7-ba42-41df-baa9-ae08bc552dbf\")>,\n",
       " <selenium.webdriver.remote.webelement.WebElement (session=\"b35fbb471bb6ed3517b373fe11895e7c\", element=\"39e7f5bd-c6c1-4213-ba1e-80bef5c7a246\")>,\n",
       " <selenium.webdriver.remote.webelement.WebElement (session=\"b35fbb471bb6ed3517b373fe11895e7c\", element=\"6d6ab09b-d7c0-4388-8067-e47819527883\")>,\n",
       " <selenium.webdriver.remote.webelement.WebElement (session=\"b35fbb471bb6ed3517b373fe11895e7c\", element=\"0c0257cf-d6e6-498c-be72-c732e7fac273\")>,\n",
       " <selenium.webdriver.remote.webelement.WebElement (session=\"b35fbb471bb6ed3517b373fe11895e7c\", element=\"015a20e8-b54f-4424-9f98-99ba381f8ee7\")>,\n",
       " <selenium.webdriver.remote.webelement.WebElement (session=\"b35fbb471bb6ed3517b373fe11895e7c\", element=\"c0c52ff9-eb4b-4b3e-9013-06092e866c8c\")>,\n",
       " <selenium.webdriver.remote.webelement.WebElement (session=\"b35fbb471bb6ed3517b373fe11895e7c\", element=\"1ab074c9-7641-469c-b002-3fbcf9bf379a\")>,\n",
       " <selenium.webdriver.remote.webelement.WebElement (session=\"b35fbb471bb6ed3517b373fe11895e7c\", element=\"a000c45a-da31-4acb-8c3d-bb9d462215bd\")>]"
      ]
     },
     "execution_count": 139,
     "metadata": {},
     "output_type": "execute_result"
    }
   ],
   "source": [
    "product_detail=driver.find_elements_by_xpath('//div[@class=\"_3Djpdu\"]')\n",
    "product_detail\n",
    "product_detail2=driver.find_elements_by_xpath('//div[@class=\"_3Djpdu\"]')\n",
    "product_detail2\n",
    "product_detail3=driver.find_elements_by_xpath('//div[@class=\"_3Djpdu\"]')[:20]\n",
    "product_detail3"
   ]
  },
  {
   "cell_type": "code",
   "execution_count": 140,
   "id": "827cd924",
   "metadata": {},
   "outputs": [
    {
     "data": {
      "text/plain": [
       "100"
      ]
     },
     "execution_count": 140,
     "metadata": {},
     "output_type": "execute_result"
    }
   ],
   "source": [
    "products_details=[]\n",
    "for i in product_detail:\n",
    "    products_details.append(i.text)\n",
    "for i in product_detail2:\n",
    "    products_details.append(i.text)\n",
    "for i in product_detail3:\n",
    "    products_details.append(i.text)\n",
    "    \n",
    "products_details  \n",
    "len(products_details)"
   ]
  },
  {
   "cell_type": "code",
   "execution_count": 141,
   "id": "4546c9fb",
   "metadata": {},
   "outputs": [
    {
     "data": {
      "text/plain": [
       "[<selenium.webdriver.remote.webelement.WebElement (session=\"b35fbb471bb6ed3517b373fe11895e7c\", element=\"85cca813-125a-4951-82b3-2923ed5c5754\")>,\n",
       " <selenium.webdriver.remote.webelement.WebElement (session=\"b35fbb471bb6ed3517b373fe11895e7c\", element=\"e2274157-d0a2-4128-b604-db33f0acbc76\")>,\n",
       " <selenium.webdriver.remote.webelement.WebElement (session=\"b35fbb471bb6ed3517b373fe11895e7c\", element=\"c8a95ee3-2393-4372-91e1-59782d6a4247\")>,\n",
       " <selenium.webdriver.remote.webelement.WebElement (session=\"b35fbb471bb6ed3517b373fe11895e7c\", element=\"6161a3c7-12cc-4947-84a7-eaa5f1e0c576\")>,\n",
       " <selenium.webdriver.remote.webelement.WebElement (session=\"b35fbb471bb6ed3517b373fe11895e7c\", element=\"707e0bff-b632-4c78-8377-26064e3fc90e\")>,\n",
       " <selenium.webdriver.remote.webelement.WebElement (session=\"b35fbb471bb6ed3517b373fe11895e7c\", element=\"1e01c4fc-c9ca-492a-b213-8772ed40543c\")>,\n",
       " <selenium.webdriver.remote.webelement.WebElement (session=\"b35fbb471bb6ed3517b373fe11895e7c\", element=\"2d3b6814-6a85-4ee6-993b-aa9d0a604898\")>,\n",
       " <selenium.webdriver.remote.webelement.WebElement (session=\"b35fbb471bb6ed3517b373fe11895e7c\", element=\"d0f11f87-e2c4-4418-88f1-e19f7638caeb\")>,\n",
       " <selenium.webdriver.remote.webelement.WebElement (session=\"b35fbb471bb6ed3517b373fe11895e7c\", element=\"c8b970c2-bf4c-4f13-bf88-c0f36044ddb9\")>,\n",
       " <selenium.webdriver.remote.webelement.WebElement (session=\"b35fbb471bb6ed3517b373fe11895e7c\", element=\"4169488c-9863-49bc-8376-9ec9b9117deb\")>,\n",
       " <selenium.webdriver.remote.webelement.WebElement (session=\"b35fbb471bb6ed3517b373fe11895e7c\", element=\"8848ae05-d5e4-4932-9680-e5c08f7aa43d\")>,\n",
       " <selenium.webdriver.remote.webelement.WebElement (session=\"b35fbb471bb6ed3517b373fe11895e7c\", element=\"96823330-8333-44cc-bb1f-622dbb46e3a6\")>,\n",
       " <selenium.webdriver.remote.webelement.WebElement (session=\"b35fbb471bb6ed3517b373fe11895e7c\", element=\"a3d4057c-484d-4300-a7f3-a19b2320502c\")>,\n",
       " <selenium.webdriver.remote.webelement.WebElement (session=\"b35fbb471bb6ed3517b373fe11895e7c\", element=\"1b51ff31-1e5a-47f1-ab97-d3bae75ae79a\")>,\n",
       " <selenium.webdriver.remote.webelement.WebElement (session=\"b35fbb471bb6ed3517b373fe11895e7c\", element=\"aaacb71a-bbb4-42d0-8e6b-ba55d8a06cd2\")>,\n",
       " <selenium.webdriver.remote.webelement.WebElement (session=\"b35fbb471bb6ed3517b373fe11895e7c\", element=\"8ff73f22-0fb7-4610-9456-fd4734e9e132\")>,\n",
       " <selenium.webdriver.remote.webelement.WebElement (session=\"b35fbb471bb6ed3517b373fe11895e7c\", element=\"c29f9531-11bf-448e-8aaa-e9884ad86517\")>,\n",
       " <selenium.webdriver.remote.webelement.WebElement (session=\"b35fbb471bb6ed3517b373fe11895e7c\", element=\"fec2b345-e038-43ab-937a-b4edd1f27469\")>,\n",
       " <selenium.webdriver.remote.webelement.WebElement (session=\"b35fbb471bb6ed3517b373fe11895e7c\", element=\"4a67f48f-9ee5-4e30-8120-20b7f6871dd7\")>,\n",
       " <selenium.webdriver.remote.webelement.WebElement (session=\"b35fbb471bb6ed3517b373fe11895e7c\", element=\"436ad8a5-0906-4cab-98c4-352f6bd5a34c\")>]"
      ]
     },
     "execution_count": 141,
     "metadata": {},
     "output_type": "execute_result"
    }
   ],
   "source": [
    "price=driver.find_elements_by_xpath('//div[@class=\"_30jeq3\"]')\n",
    "price\n",
    "price2=driver.find_elements_by_xpath('//div[@class=\"_30jeq3\"]')\n",
    "price2\n",
    "price3=driver.find_elements_by_xpath('//div[@class=\"_30jeq3\"]')[:20]\n",
    "price3"
   ]
  },
  {
   "cell_type": "code",
   "execution_count": 142,
   "id": "ff0b7fc6",
   "metadata": {},
   "outputs": [
    {
     "data": {
      "text/plain": [
       "100"
      ]
     },
     "execution_count": 142,
     "metadata": {},
     "output_type": "execute_result"
    }
   ],
   "source": [
    "prices=[]\n",
    "for i in price:\n",
    "    prices.append(i.text)\n",
    "for i in price2:\n",
    "    prices.append(i.text)\n",
    "for i in price3:\n",
    "    prices.append(i.text)\n",
    "    \n",
    "prices    \n",
    "len(prices)"
   ]
  },
  {
   "cell_type": "code",
   "execution_count": 143,
   "id": "0b7c306e",
   "metadata": {},
   "outputs": [
    {
     "data": {
      "text/html": [
       "<div>\n",
       "<style scoped>\n",
       "    .dataframe tbody tr th:only-of-type {\n",
       "        vertical-align: middle;\n",
       "    }\n",
       "\n",
       "    .dataframe tbody tr th {\n",
       "        vertical-align: top;\n",
       "    }\n",
       "\n",
       "    .dataframe thead th {\n",
       "        text-align: right;\n",
       "    }\n",
       "</style>\n",
       "<table border=\"1\" class=\"dataframe\">\n",
       "  <thead>\n",
       "    <tr style=\"text-align: right;\">\n",
       "      <th></th>\n",
       "      <th>Brand Name</th>\n",
       "      <th>Product Description</th>\n",
       "      <th>Price</th>\n",
       "    </tr>\n",
       "  </thead>\n",
       "  <tbody>\n",
       "    <tr>\n",
       "      <th>0</th>\n",
       "      <td>CRYSTAL CART Wrap-around, Sports Sunglasses</td>\n",
       "      <td>For Men &amp; Women, Black</td>\n",
       "      <td>₹449</td>\n",
       "    </tr>\n",
       "    <tr>\n",
       "      <th>1</th>\n",
       "      <td>CRYSTAL CART Retro Square Sunglasses</td>\n",
       "      <td>For Men &amp; Women, Black</td>\n",
       "      <td>₹489</td>\n",
       "    </tr>\n",
       "    <tr>\n",
       "      <th>2</th>\n",
       "      <td>ZINGTEL Tempered Glass Guard for SAMSUNG B310</td>\n",
       "      <td>Pack of 1</td>\n",
       "      <td>₹219</td>\n",
       "    </tr>\n",
       "    <tr>\n",
       "      <th>3</th>\n",
       "      <td>SRPM Wayfarer Sunglasses</td>\n",
       "      <td>For Men &amp; Women, Clear, Black, Brown</td>\n",
       "      <td>₹198</td>\n",
       "    </tr>\n",
       "    <tr>\n",
       "      <th>4</th>\n",
       "      <td>Elligator Round Sunglasses</td>\n",
       "      <td>For Men &amp; Women, Multicolor</td>\n",
       "      <td>₹248</td>\n",
       "    </tr>\n",
       "    <tr>\n",
       "      <th>...</th>\n",
       "      <td>...</td>\n",
       "      <td>...</td>\n",
       "      <td>...</td>\n",
       "    </tr>\n",
       "    <tr>\n",
       "      <th>95</th>\n",
       "      <td>VINCENT CHASE by Lenskart Wayfarer Sunglasses</td>\n",
       "      <td>For Men &amp; Women, Grey</td>\n",
       "      <td>₹799</td>\n",
       "    </tr>\n",
       "    <tr>\n",
       "      <th>96</th>\n",
       "      <td>New Specs Rectangular Sunglasses</td>\n",
       "      <td>For Men &amp; Women, Red, Black, Yellow, Blue, Black</td>\n",
       "      <td>₹259</td>\n",
       "    </tr>\n",
       "    <tr>\n",
       "      <th>97</th>\n",
       "      <td>PHENOMENAL Retro Square Sunglasses</td>\n",
       "      <td>For Men &amp; Women, Yellow, Red</td>\n",
       "      <td>₹309</td>\n",
       "    </tr>\n",
       "    <tr>\n",
       "      <th>98</th>\n",
       "      <td>SHAAH COLLECTIONS Rectangular Sunglasses</td>\n",
       "      <td>For Men &amp; Women, Black</td>\n",
       "      <td>₹181</td>\n",
       "    </tr>\n",
       "    <tr>\n",
       "      <th>99</th>\n",
       "      <td>ROZZETTA CRAFT Spectacle Sunglasses</td>\n",
       "      <td>For Men &amp; Women, Clear</td>\n",
       "      <td>₹449</td>\n",
       "    </tr>\n",
       "  </tbody>\n",
       "</table>\n",
       "<p>100 rows × 3 columns</p>\n",
       "</div>"
      ],
      "text/plain": [
       "                                       Brand Name  \\\n",
       "0     CRYSTAL CART Wrap-around, Sports Sunglasses   \n",
       "1            CRYSTAL CART Retro Square Sunglasses   \n",
       "2   ZINGTEL Tempered Glass Guard for SAMSUNG B310   \n",
       "3                        SRPM Wayfarer Sunglasses   \n",
       "4                      Elligator Round Sunglasses   \n",
       "..                                            ...   \n",
       "95  VINCENT CHASE by Lenskart Wayfarer Sunglasses   \n",
       "96               New Specs Rectangular Sunglasses   \n",
       "97             PHENOMENAL Retro Square Sunglasses   \n",
       "98       SHAAH COLLECTIONS Rectangular Sunglasses   \n",
       "99            ROZZETTA CRAFT Spectacle Sunglasses   \n",
       "\n",
       "                                 Product Description Price  \n",
       "0                             For Men & Women, Black  ₹449  \n",
       "1                             For Men & Women, Black  ₹489  \n",
       "2                                          Pack of 1  ₹219  \n",
       "3               For Men & Women, Clear, Black, Brown  ₹198  \n",
       "4                        For Men & Women, Multicolor  ₹248  \n",
       "..                                               ...   ...  \n",
       "95                             For Men & Women, Grey  ₹799  \n",
       "96  For Men & Women, Red, Black, Yellow, Blue, Black  ₹259  \n",
       "97                      For Men & Women, Yellow, Red  ₹309  \n",
       "98                            For Men & Women, Black  ₹181  \n",
       "99                            For Men & Women, Clear  ₹449  \n",
       "\n",
       "[100 rows x 3 columns]"
      ]
     },
     "execution_count": 143,
     "metadata": {},
     "output_type": "execute_result"
    }
   ],
   "source": [
    "brands=pd.DataFrame({\"Brand Name\":brand,\"Product Description\":products_details,\"Price\":prices})\n",
    "brands\n"
   ]
  },
  {
   "cell_type": "markdown",
   "id": "5689e1ba",
   "metadata": {},
   "source": [
    "# 5-Flipkart-iphone11"
   ]
  },
  {
   "cell_type": "code",
   "execution_count": 144,
   "id": "1263359a",
   "metadata": {},
   "outputs": [
    {
     "data": {
      "text/plain": [
       "<selenium.webdriver.chrome.webdriver.WebDriver (session=\"8dec5518652890aae71d2fcebe0f5c9c\")>"
      ]
     },
     "execution_count": 144,
     "metadata": {},
     "output_type": "execute_result"
    }
   ],
   "source": [
    "driver=webdriver.Chrome(r'C:\\Users\\User\\Downloads\\Fliprobo\\chromedriver_win32\\chromedriver.exe')\n",
    "driver"
   ]
  },
  {
   "cell_type": "code",
   "execution_count": 145,
   "id": "e77de71f",
   "metadata": {},
   "outputs": [],
   "source": [
    "url=' https://www.flipkart.com/'\n",
    "driver.get(url)"
   ]
  },
  {
   "cell_type": "code",
   "execution_count": 146,
   "id": "9f3b3e98",
   "metadata": {},
   "outputs": [
    {
     "data": {
      "text/plain": [
       "<selenium.webdriver.remote.webelement.WebElement (session=\"8dec5518652890aae71d2fcebe0f5c9c\", element=\"d5513489-9b3a-4267-af38-e16105e3ffb4\")>"
      ]
     },
     "execution_count": 146,
     "metadata": {},
     "output_type": "execute_result"
    }
   ],
   "source": [
    "product=driver.find_element_by_xpath('/html/body/div[1]/div/div[1]/div[1]/div[2]/div[2]/form/div/div/input')\n",
    "product"
   ]
  },
  {
   "cell_type": "code",
   "execution_count": 147,
   "id": "12297222",
   "metadata": {},
   "outputs": [],
   "source": [
    "product.send_keys(\"iphone 11\")"
   ]
  },
  {
   "cell_type": "code",
   "execution_count": 148,
   "id": "33fc7103",
   "metadata": {},
   "outputs": [
    {
     "data": {
      "text/plain": [
       "<selenium.webdriver.remote.webelement.WebElement (session=\"8dec5518652890aae71d2fcebe0f5c9c\", element=\"0fb0f145-4ac3-4fea-9c38-57c804e80d6a\")>"
      ]
     },
     "execution_count": 148,
     "metadata": {},
     "output_type": "execute_result"
    }
   ],
   "source": [
    "search_key=driver.find_element_by_xpath('/html/body/div[1]/div/div[1]/div[1]/div[2]/div[2]/form/div/button')\n",
    "search_key"
   ]
  },
  {
   "cell_type": "code",
   "execution_count": 154,
   "id": "c73d71ff",
   "metadata": {},
   "outputs": [],
   "source": [
    "search_key.click()"
   ]
  },
  {
   "cell_type": "code",
   "execution_count": 155,
   "id": "b470df4e",
   "metadata": {},
   "outputs": [
    {
     "data": {
      "text/plain": [
       "<selenium.webdriver.remote.webelement.WebElement (session=\"8dec5518652890aae71d2fcebe0f5c9c\", element=\"8584a8bc-9c48-4c7e-aba4-75bb2fa432d2\")>"
      ]
     },
     "execution_count": 155,
     "metadata": {},
     "output_type": "execute_result"
    }
   ],
   "source": [
    "phone=driver.find_element_by_xpath('//div[@class=\"col col-7-12\"]')     \n",
    "phone\n"
   ]
  },
  {
   "cell_type": "code",
   "execution_count": 156,
   "id": "fe1fa021",
   "metadata": {},
   "outputs": [],
   "source": [
    "phone.click()"
   ]
  },
  {
   "cell_type": "code",
   "execution_count": 157,
   "id": "fe7eac12",
   "metadata": {},
   "outputs": [],
   "source": [
    "url2='https://www.flipkart.com/apple-iphone-11-yellow-64-gb/product-reviews/itm39b1a0ba9ddcb?pid=MOBFWQ6BWGX9VRFS&lid=LSTMOBFWQ6BWGX9VRFSWACBGI&marketplace=FLIPKART'\n",
    "driver.get(url2)"
   ]
  },
  {
   "cell_type": "code",
   "execution_count": 158,
   "id": "42ebc7fe",
   "metadata": {},
   "outputs": [
    {
     "data": {
      "text/plain": [
       "[<selenium.webdriver.remote.webelement.WebElement (session=\"8dec5518652890aae71d2fcebe0f5c9c\", element=\"2c699111-b8dc-4509-9554-631d1f2e4bad\")>,\n",
       " <selenium.webdriver.remote.webelement.WebElement (session=\"8dec5518652890aae71d2fcebe0f5c9c\", element=\"65bada3d-610e-4142-979c-584aca53e949\")>,\n",
       " <selenium.webdriver.remote.webelement.WebElement (session=\"8dec5518652890aae71d2fcebe0f5c9c\", element=\"a0eb6fc0-a67d-42f9-a325-d74187997dd9\")>,\n",
       " <selenium.webdriver.remote.webelement.WebElement (session=\"8dec5518652890aae71d2fcebe0f5c9c\", element=\"9ddfdb7d-d6f6-4006-bbeb-0e5436c711b7\")>,\n",
       " <selenium.webdriver.remote.webelement.WebElement (session=\"8dec5518652890aae71d2fcebe0f5c9c\", element=\"a0b1407e-9cec-4b08-a7eb-9ff4651ff234\")>,\n",
       " <selenium.webdriver.remote.webelement.WebElement (session=\"8dec5518652890aae71d2fcebe0f5c9c\", element=\"81eeefe1-21c9-4f5c-8ae7-311fdcb704f3\")>,\n",
       " <selenium.webdriver.remote.webelement.WebElement (session=\"8dec5518652890aae71d2fcebe0f5c9c\", element=\"d012b8d0-4f09-41bc-af02-ee0321c41e30\")>,\n",
       " <selenium.webdriver.remote.webelement.WebElement (session=\"8dec5518652890aae71d2fcebe0f5c9c\", element=\"1af4e527-e5e2-4c6e-8b14-822b4e7c545a\")>,\n",
       " <selenium.webdriver.remote.webelement.WebElement (session=\"8dec5518652890aae71d2fcebe0f5c9c\", element=\"3d2978e5-ef8c-41bb-b96b-94463dbf586d\")>,\n",
       " <selenium.webdriver.remote.webelement.WebElement (session=\"8dec5518652890aae71d2fcebe0f5c9c\", element=\"6a94e599-444c-4915-a0b1-b87dada1c4cb\")>]"
      ]
     },
     "execution_count": 158,
     "metadata": {},
     "output_type": "execute_result"
    }
   ],
   "source": [
    "phone_rating=driver.find_elements_by_xpath('//div[@class=\"_3LWZlK _1BLPMq\"]')\n",
    "phone_rating\n",
    "phone_rating1=driver.find_elements_by_xpath('//div[@class=\"_3LWZlK _1BLPMq\"]')\n",
    "phone_rating1\n",
    "phone_rating2=driver.find_elements_by_xpath('//div[@class=\"_3LWZlK _1BLPMq\"]')\n",
    "phone_rating2\n",
    "phone_rating3=driver.find_elements_by_xpath('//div[@class=\"_3LWZlK _1BLPMq\"]')\n",
    "phone_rating3\n",
    "phone_rating4=driver.find_elements_by_xpath('//div[@class=\"_3LWZlK _1BLPMq\"]')\n",
    "phone_rating4\n",
    "phone_rating5=driver.find_elements_by_xpath('//div[@class=\"_3LWZlK _1BLPMq\"]')\n",
    "phone_rating5\n",
    "phone_rating6=driver.find_elements_by_xpath('//div[@class=\"_3LWZlK _1BLPMq\"]')\n",
    "phone_rating6\n",
    "phone_rating7=driver.find_elements_by_xpath('//div[@class=\"_3LWZlK _1BLPMq\"]')\n",
    "phone_rating7\n",
    "phone_rating8=driver.find_elements_by_xpath('//div[@class=\"_3LWZlK _1BLPMq\"]')           \n",
    "phone_rating8\n",
    "phone_rating9=driver.find_elements_by_xpath('//div[@class=\"_3LWZlK _1BLPMq\"]')\n",
    "phone_rating9\n",
    "\n"
   ]
  },
  {
   "cell_type": "code",
   "execution_count": 159,
   "id": "3df4106b",
   "metadata": {},
   "outputs": [
    {
     "data": {
      "text/plain": [
       "['5',\n",
       " '5',\n",
       " '5',\n",
       " '5',\n",
       " '5',\n",
       " '5',\n",
       " '5',\n",
       " '4',\n",
       " '5',\n",
       " '5',\n",
       " '5',\n",
       " '5',\n",
       " '5',\n",
       " '5',\n",
       " '5',\n",
       " '5',\n",
       " '5',\n",
       " '4',\n",
       " '5',\n",
       " '5',\n",
       " '5',\n",
       " '5',\n",
       " '5',\n",
       " '5',\n",
       " '5',\n",
       " '5',\n",
       " '5',\n",
       " '4',\n",
       " '5',\n",
       " '5',\n",
       " '5',\n",
       " '5',\n",
       " '5',\n",
       " '5',\n",
       " '5',\n",
       " '5',\n",
       " '5',\n",
       " '4',\n",
       " '5',\n",
       " '5',\n",
       " '5',\n",
       " '5',\n",
       " '5',\n",
       " '5',\n",
       " '5',\n",
       " '5',\n",
       " '5',\n",
       " '4',\n",
       " '5',\n",
       " '5',\n",
       " '5',\n",
       " '5',\n",
       " '5',\n",
       " '5',\n",
       " '5',\n",
       " '5',\n",
       " '5',\n",
       " '4',\n",
       " '5',\n",
       " '5',\n",
       " '5',\n",
       " '5',\n",
       " '5',\n",
       " '5',\n",
       " '5',\n",
       " '5',\n",
       " '5',\n",
       " '4',\n",
       " '5',\n",
       " '5',\n",
       " '5',\n",
       " '5',\n",
       " '5',\n",
       " '5',\n",
       " '5',\n",
       " '5',\n",
       " '5',\n",
       " '4',\n",
       " '5',\n",
       " '5',\n",
       " '5',\n",
       " '5',\n",
       " '5',\n",
       " '5',\n",
       " '5',\n",
       " '5',\n",
       " '5',\n",
       " '4',\n",
       " '5',\n",
       " '5',\n",
       " '5',\n",
       " '5',\n",
       " '5',\n",
       " '5',\n",
       " '5',\n",
       " '5',\n",
       " '5',\n",
       " '4',\n",
       " '5',\n",
       " '5']"
      ]
     },
     "execution_count": 159,
     "metadata": {},
     "output_type": "execute_result"
    }
   ],
   "source": [
    "product_rate=[]\n",
    "\n",
    "for i in phone_rating:\n",
    "    product_rate.append(i.text)\n",
    "for i in phone_rating1:\n",
    "    product_rate.append(i.text)\n",
    "for i in phone_rating2:\n",
    "    product_rate.append(i.text)\n",
    "for i in phone_rating3:\n",
    "    product_rate.append(i.text)\n",
    "for i in phone_rating4:\n",
    "    product_rate.append(i.text)\n",
    "for i in phone_rating5:\n",
    "    product_rate.append(i.text)\n",
    "for i in phone_rating6:\n",
    "    product_rate.append(i.text)\n",
    "for i in phone_rating7:\n",
    "    product_rate.append(i.text)\n",
    "for i in phone_rating8:\n",
    "    product_rate.append(i.text)\n",
    "for i in phone_rating9:\n",
    "    product_rate.append(i.text)\n",
    "    \n",
    "    \n",
    "\n",
    "product_rate\n",
    "#len(product_rate) "
   ]
  },
  {
   "cell_type": "code",
   "execution_count": 160,
   "id": "ceb20daf",
   "metadata": {},
   "outputs": [
    {
     "data": {
      "text/plain": [
       "[<selenium.webdriver.remote.webelement.WebElement (session=\"8dec5518652890aae71d2fcebe0f5c9c\", element=\"43feada6-cad3-4fdb-9a51-07a73d02b98d\")>,\n",
       " <selenium.webdriver.remote.webelement.WebElement (session=\"8dec5518652890aae71d2fcebe0f5c9c\", element=\"3d5875af-0886-4c07-abdc-f4c59fa6e27c\")>,\n",
       " <selenium.webdriver.remote.webelement.WebElement (session=\"8dec5518652890aae71d2fcebe0f5c9c\", element=\"eb3f02b8-9acc-41d0-b326-b7a6b6a42300\")>,\n",
       " <selenium.webdriver.remote.webelement.WebElement (session=\"8dec5518652890aae71d2fcebe0f5c9c\", element=\"de8a26a9-17d7-4418-8905-c772bafc670b\")>,\n",
       " <selenium.webdriver.remote.webelement.WebElement (session=\"8dec5518652890aae71d2fcebe0f5c9c\", element=\"2a42436c-dc71-4835-bc05-3821525bcbf4\")>,\n",
       " <selenium.webdriver.remote.webelement.WebElement (session=\"8dec5518652890aae71d2fcebe0f5c9c\", element=\"6e69af13-8740-4f5b-8fd3-2f326626b40f\")>,\n",
       " <selenium.webdriver.remote.webelement.WebElement (session=\"8dec5518652890aae71d2fcebe0f5c9c\", element=\"fb012f10-2336-490b-bdef-30094af6bdd4\")>,\n",
       " <selenium.webdriver.remote.webelement.WebElement (session=\"8dec5518652890aae71d2fcebe0f5c9c\", element=\"7d14af2d-3f8a-43d3-b550-ab4ce6b88af1\")>,\n",
       " <selenium.webdriver.remote.webelement.WebElement (session=\"8dec5518652890aae71d2fcebe0f5c9c\", element=\"c26ac4ab-3fd5-420c-b11a-6448aa6a823b\")>,\n",
       " <selenium.webdriver.remote.webelement.WebElement (session=\"8dec5518652890aae71d2fcebe0f5c9c\", element=\"18a1f62a-a8a4-4cea-b280-55db2394421a\")>]"
      ]
     },
     "execution_count": 160,
     "metadata": {},
     "output_type": "execute_result"
    }
   ],
   "source": [
    "phone_review=driver.find_elements_by_xpath('//p[@class=\"_2-N8zT\"]')\n",
    "phone_review\n",
    "phone_review1=driver.find_elements_by_xpath('//p[@class=\"_2-N8zT\"]')\n",
    "phone_review1\n",
    "phone_review2=driver.find_elements_by_xpath('//p[@class=\"_2-N8zT\"]')\n",
    "phone_review2\n",
    "phone_review3=driver.find_elements_by_xpath('//p[@class=\"_2-N8zT\"]')\n",
    "phone_review3\n",
    "phone_review4=driver.find_elements_by_xpath('//p[@class=\"_2-N8zT\"]')\n",
    "phone_review4\n",
    "phone_review5=driver.find_elements_by_xpath('//p[@class=\"_2-N8zT\"]')\n",
    "phone_review5\n",
    "phone_review6=driver.find_elements_by_xpath('//p[@class=\"_2-N8zT\"]')\n",
    "phone_review6\n",
    "phone_review7=driver.find_elements_by_xpath('//p[@class=\"_2-N8zT\"]')\n",
    "phone_review7\n",
    "phone_review8=driver.find_elements_by_xpath('//p[@class=\"_2-N8zT\"]')           \n",
    "phone_review8\n",
    "phone_review9=driver.find_elements_by_xpath('//p[@class=\"_2-N8zT\"]')\n",
    "phone_review9\n",
    "\n"
   ]
  },
  {
   "cell_type": "code",
   "execution_count": 161,
   "id": "95a58494",
   "metadata": {},
   "outputs": [
    {
     "data": {
      "text/plain": [
       "['Brilliant',\n",
       " 'Simply awesome',\n",
       " 'Perfect product!',\n",
       " 'Best in the market!',\n",
       " 'Worth every penny',\n",
       " 'Fabulous!',\n",
       " 'Great product',\n",
       " 'Good choice',\n",
       " 'Highly recommended',\n",
       " 'Worth every penny',\n",
       " 'Brilliant',\n",
       " 'Simply awesome',\n",
       " 'Perfect product!',\n",
       " 'Best in the market!',\n",
       " 'Worth every penny',\n",
       " 'Fabulous!',\n",
       " 'Great product',\n",
       " 'Good choice',\n",
       " 'Highly recommended',\n",
       " 'Worth every penny',\n",
       " 'Brilliant',\n",
       " 'Simply awesome',\n",
       " 'Perfect product!',\n",
       " 'Best in the market!',\n",
       " 'Worth every penny',\n",
       " 'Fabulous!',\n",
       " 'Great product',\n",
       " 'Good choice',\n",
       " 'Highly recommended',\n",
       " 'Worth every penny',\n",
       " 'Brilliant',\n",
       " 'Simply awesome',\n",
       " 'Perfect product!',\n",
       " 'Best in the market!',\n",
       " 'Worth every penny',\n",
       " 'Fabulous!',\n",
       " 'Great product',\n",
       " 'Good choice',\n",
       " 'Highly recommended',\n",
       " 'Worth every penny',\n",
       " 'Brilliant',\n",
       " 'Simply awesome',\n",
       " 'Perfect product!',\n",
       " 'Best in the market!',\n",
       " 'Worth every penny',\n",
       " 'Fabulous!',\n",
       " 'Great product',\n",
       " 'Good choice',\n",
       " 'Highly recommended',\n",
       " 'Worth every penny',\n",
       " 'Brilliant',\n",
       " 'Simply awesome',\n",
       " 'Perfect product!',\n",
       " 'Best in the market!',\n",
       " 'Worth every penny',\n",
       " 'Fabulous!',\n",
       " 'Great product',\n",
       " 'Good choice',\n",
       " 'Highly recommended',\n",
       " 'Worth every penny',\n",
       " 'Brilliant',\n",
       " 'Simply awesome',\n",
       " 'Perfect product!',\n",
       " 'Best in the market!',\n",
       " 'Worth every penny',\n",
       " 'Fabulous!',\n",
       " 'Great product',\n",
       " 'Good choice',\n",
       " 'Highly recommended',\n",
       " 'Worth every penny',\n",
       " 'Brilliant',\n",
       " 'Simply awesome',\n",
       " 'Perfect product!',\n",
       " 'Best in the market!',\n",
       " 'Worth every penny',\n",
       " 'Fabulous!',\n",
       " 'Great product',\n",
       " 'Good choice',\n",
       " 'Highly recommended',\n",
       " 'Worth every penny',\n",
       " 'Brilliant',\n",
       " 'Simply awesome',\n",
       " 'Perfect product!',\n",
       " 'Best in the market!',\n",
       " 'Worth every penny',\n",
       " 'Fabulous!',\n",
       " 'Great product',\n",
       " 'Good choice',\n",
       " 'Highly recommended',\n",
       " 'Worth every penny',\n",
       " 'Brilliant',\n",
       " 'Simply awesome',\n",
       " 'Perfect product!',\n",
       " 'Best in the market!',\n",
       " 'Worth every penny',\n",
       " 'Fabulous!',\n",
       " 'Great product',\n",
       " 'Good choice',\n",
       " 'Highly recommended',\n",
       " 'Worth every penny']"
      ]
     },
     "execution_count": 161,
     "metadata": {},
     "output_type": "execute_result"
    }
   ],
   "source": [
    "product_review=[]\n",
    "\n",
    "for i in phone_review:\n",
    "    product_review.append(i.text)\n",
    "for i in phone_review1:\n",
    "    product_review.append(i.text)\n",
    "for i in phone_review2:\n",
    "    product_review.append(i.text)\n",
    "for i in phone_review3:\n",
    "    product_review.append(i.text)\n",
    "for i in phone_review4:\n",
    "    product_review.append(i.text)\n",
    "for i in phone_review5:\n",
    "    product_review.append(i.text)\n",
    "for i in phone_review6:\n",
    "    product_review.append(i.text)\n",
    "for i in phone_review7:\n",
    "    product_review.append(i.text)\n",
    "for i in phone_review8:\n",
    "    product_review.append(i.text)\n",
    "for i in phone_review9:\n",
    "    product_review.append(i.text)\n",
    "    \n",
    "    \n",
    "\n",
    "product_review\n",
    "#len(product_review) "
   ]
  },
  {
   "cell_type": "code",
   "execution_count": 162,
   "id": "c7597f43",
   "metadata": {},
   "outputs": [
    {
     "data": {
      "text/plain": [
       "[<selenium.webdriver.remote.webelement.WebElement (session=\"8dec5518652890aae71d2fcebe0f5c9c\", element=\"ce5fffa8-b68a-422b-9e3e-02763cf0297d\")>,\n",
       " <selenium.webdriver.remote.webelement.WebElement (session=\"8dec5518652890aae71d2fcebe0f5c9c\", element=\"3670f702-d08e-4ca3-85f1-88fbd714197d\")>,\n",
       " <selenium.webdriver.remote.webelement.WebElement (session=\"8dec5518652890aae71d2fcebe0f5c9c\", element=\"ac1c5aa6-71c2-4526-a12f-554b6526bd4e\")>,\n",
       " <selenium.webdriver.remote.webelement.WebElement (session=\"8dec5518652890aae71d2fcebe0f5c9c\", element=\"76192ca5-6e00-4e88-bd2d-e8b9f14afdea\")>,\n",
       " <selenium.webdriver.remote.webelement.WebElement (session=\"8dec5518652890aae71d2fcebe0f5c9c\", element=\"d62a9bd5-bff3-4691-bfd1-87960eb480e7\")>,\n",
       " <selenium.webdriver.remote.webelement.WebElement (session=\"8dec5518652890aae71d2fcebe0f5c9c\", element=\"0daec0f4-2ee9-43ce-99b4-c9072ddf5703\")>,\n",
       " <selenium.webdriver.remote.webelement.WebElement (session=\"8dec5518652890aae71d2fcebe0f5c9c\", element=\"26afe263-0720-4a56-97c6-b0e06919c456\")>,\n",
       " <selenium.webdriver.remote.webelement.WebElement (session=\"8dec5518652890aae71d2fcebe0f5c9c\", element=\"e515394f-4a16-4f95-8646-fc9ffe69699a\")>,\n",
       " <selenium.webdriver.remote.webelement.WebElement (session=\"8dec5518652890aae71d2fcebe0f5c9c\", element=\"642fdf48-4612-4bb7-8c79-7afe4327f8bd\")>,\n",
       " <selenium.webdriver.remote.webelement.WebElement (session=\"8dec5518652890aae71d2fcebe0f5c9c\", element=\"8f4088e6-4e4d-4781-8ea5-cdc001389166\")>]"
      ]
     },
     "execution_count": 162,
     "metadata": {},
     "output_type": "execute_result"
    }
   ],
   "source": [
    "full_review=driver.find_elements_by_xpath('//div[@class=\"t-ZTKy\"]')\n",
    "full_review\n",
    "full_review1=driver.find_elements_by_xpath('//div[@class=\"t-ZTKy\"]')\n",
    "full_review1\n",
    "full_review2=driver.find_elements_by_xpath('//div[@class=\"t-ZTKy\"]')\n",
    "full_review2\n",
    "full_review3=driver.find_elements_by_xpath('//div[@class=\"t-ZTKy\"]')\n",
    "full_review3\n",
    "full_review4=driver.find_elements_by_xpath('//div[@class=\"t-ZTKy\"]')\n",
    "full_review4\n",
    "full_review5=driver.find_elements_by_xpath('//div[@class=\"t-ZTKy\"]')\n",
    "full_review5\n",
    "full_review6=driver.find_elements_by_xpath('//div[@class=\"t-ZTKy\"]')\n",
    "full_review6\n",
    "full_review7=driver.find_elements_by_xpath('//div[@class=\"t-ZTKy\"]')\n",
    "full_review7\n",
    "full_review8=driver.find_elements_by_xpath('//div[@class=\"t-ZTKy\"]')           \n",
    "full_review8\n",
    "full_review9=driver.find_elements_by_xpath('//div[@class=\"t-ZTKy\"]')\n",
    "full_review9\n",
    "\n"
   ]
  },
  {
   "cell_type": "code",
   "execution_count": 163,
   "id": "64270cf9",
   "metadata": {},
   "outputs": [
    {
     "data": {
      "text/plain": [
       "['The Best Phone for the Money\\n\\nThe iPhone 11 offers superb cameras, a more durable design and excellent battery life for an affordable price.\\n\\nCompelling ultra-wide camera\\nNew Night mode is excellent\\nLong battery life',\n",
       " 'Really satisfied with the Product I received... It’s totally genuine and the packaging was also really good so if ur planning to buy just go for it.',\n",
       " 'Amazing phone with great cameras and better battery which gives you the best performance. I just love the camera .',\n",
       " 'Great iPhone very snappy experience as apple kind. Upgraded from iPhone 7.\\nPros\\n-Camera top class\\n- Battery top performed\\n-Chipset no need to say as apple kind\\n-Security as you expect from apple\\n- Display super bright industry leading colour\\naccuracy and super responsive\\n-Build quality as expect from apple sturdy\\npremium durable beautiful stylish.\\n-Os most stable os in smartphone industry\\n\\nCons\\n-No 5G\\n-Display is not based on OLED technology\\n-Charger headphones and 1 apple stic...\\nREAD MORE',\n",
       " 'Previously I was using one plus 3t it was a great phone\\nAnd then I decided to upgrade I am stuck between Samsung s10 plus or iPhone 11\\nI have seen the specs and everything were good except the display it’s somewhere between 720-1080 and it’s not even an amoled it’s an LCD display\\nBut I decided to go with iPhone because I have never used an IOS device I have Been an android user from the past 9 years I ordered IPhone 11 (128gb) product red\\nMy experience after using 3 weeks\\n1. The delivery ...\\nREAD MORE',\n",
       " 'This is my first iOS phone. I am very happy with this product. Very much satisfied with this. I love this phone.',\n",
       " 'Amazing Powerful and Durable Gadget.\\n\\nI’m am very happy with the camera picture quality, Amazing face id unlocked in dark room, Strong battery with perfect screen size as you can carry easily in pocket. This is my third iPhone.\\n\\nI shifted from android Samsung Note series to iPhone because of the strong build quality and peace of mind for next 3-4 years.\\n\\nDon’t think to much just go for it and I suggest you to go for minimum 128gb variant or more 256gb.\\n\\nI’ve attached my puppy pics and no fi...\\nREAD MORE',\n",
       " 'So far it’s been an AMAZING experience coming back to iOS after nearly a decade but it’s not as versatile as android though phone is sturdy dropped it accidentally a couple of times and nothing happened fortunately camera is awesome',\n",
       " 'What a camera .....just awesome ..you can feel this iPhone just awesome . Good for gaming also ...try pubg in hd it’s just wow',\n",
       " 'i11 is worthy to buy, too much happy with the product. Thank u flipkart I received the item on time..loved it..',\n",
       " 'The Best Phone for the Money\\n\\nThe iPhone 11 offers superb cameras, a more durable design and excellent battery life for an affordable price.\\n\\nCompelling ultra-wide camera\\nNew Night mode is excellent\\nLong battery life',\n",
       " 'Really satisfied with the Product I received... It’s totally genuine and the packaging was also really good so if ur planning to buy just go for it.',\n",
       " 'Amazing phone with great cameras and better battery which gives you the best performance. I just love the camera .',\n",
       " 'Great iPhone very snappy experience as apple kind. Upgraded from iPhone 7.\\nPros\\n-Camera top class\\n- Battery top performed\\n-Chipset no need to say as apple kind\\n-Security as you expect from apple\\n- Display super bright industry leading colour\\naccuracy and super responsive\\n-Build quality as expect from apple sturdy\\npremium durable beautiful stylish.\\n-Os most stable os in smartphone industry\\n\\nCons\\n-No 5G\\n-Display is not based on OLED technology\\n-Charger headphones and 1 apple stic...\\nREAD MORE',\n",
       " 'Previously I was using one plus 3t it was a great phone\\nAnd then I decided to upgrade I am stuck between Samsung s10 plus or iPhone 11\\nI have seen the specs and everything were good except the display it’s somewhere between 720-1080 and it’s not even an amoled it’s an LCD display\\nBut I decided to go with iPhone because I have never used an IOS device I have Been an android user from the past 9 years I ordered IPhone 11 (128gb) product red\\nMy experience after using 3 weeks\\n1. The delivery ...\\nREAD MORE',\n",
       " 'This is my first iOS phone. I am very happy with this product. Very much satisfied with this. I love this phone.',\n",
       " 'Amazing Powerful and Durable Gadget.\\n\\nI’m am very happy with the camera picture quality, Amazing face id unlocked in dark room, Strong battery with perfect screen size as you can carry easily in pocket. This is my third iPhone.\\n\\nI shifted from android Samsung Note series to iPhone because of the strong build quality and peace of mind for next 3-4 years.\\n\\nDon’t think to much just go for it and I suggest you to go for minimum 128gb variant or more 256gb.\\n\\nI’ve attached my puppy pics and no fi...\\nREAD MORE',\n",
       " 'So far it’s been an AMAZING experience coming back to iOS after nearly a decade but it’s not as versatile as android though phone is sturdy dropped it accidentally a couple of times and nothing happened fortunately camera is awesome',\n",
       " 'What a camera .....just awesome ..you can feel this iPhone just awesome . Good for gaming also ...try pubg in hd it’s just wow',\n",
       " 'i11 is worthy to buy, too much happy with the product. Thank u flipkart I received the item on time..loved it..',\n",
       " 'The Best Phone for the Money\\n\\nThe iPhone 11 offers superb cameras, a more durable design and excellent battery life for an affordable price.\\n\\nCompelling ultra-wide camera\\nNew Night mode is excellent\\nLong battery life',\n",
       " 'Really satisfied with the Product I received... It’s totally genuine and the packaging was also really good so if ur planning to buy just go for it.',\n",
       " 'Amazing phone with great cameras and better battery which gives you the best performance. I just love the camera .',\n",
       " 'Great iPhone very snappy experience as apple kind. Upgraded from iPhone 7.\\nPros\\n-Camera top class\\n- Battery top performed\\n-Chipset no need to say as apple kind\\n-Security as you expect from apple\\n- Display super bright industry leading colour\\naccuracy and super responsive\\n-Build quality as expect from apple sturdy\\npremium durable beautiful stylish.\\n-Os most stable os in smartphone industry\\n\\nCons\\n-No 5G\\n-Display is not based on OLED technology\\n-Charger headphones and 1 apple stic...\\nREAD MORE',\n",
       " 'Previously I was using one plus 3t it was a great phone\\nAnd then I decided to upgrade I am stuck between Samsung s10 plus or iPhone 11\\nI have seen the specs and everything were good except the display it’s somewhere between 720-1080 and it’s not even an amoled it’s an LCD display\\nBut I decided to go with iPhone because I have never used an IOS device I have Been an android user from the past 9 years I ordered IPhone 11 (128gb) product red\\nMy experience after using 3 weeks\\n1. The delivery ...\\nREAD MORE',\n",
       " 'This is my first iOS phone. I am very happy with this product. Very much satisfied with this. I love this phone.',\n",
       " 'Amazing Powerful and Durable Gadget.\\n\\nI’m am very happy with the camera picture quality, Amazing face id unlocked in dark room, Strong battery with perfect screen size as you can carry easily in pocket. This is my third iPhone.\\n\\nI shifted from android Samsung Note series to iPhone because of the strong build quality and peace of mind for next 3-4 years.\\n\\nDon’t think to much just go for it and I suggest you to go for minimum 128gb variant or more 256gb.\\n\\nI’ve attached my puppy pics and no fi...\\nREAD MORE',\n",
       " 'So far it’s been an AMAZING experience coming back to iOS after nearly a decade but it’s not as versatile as android though phone is sturdy dropped it accidentally a couple of times and nothing happened fortunately camera is awesome',\n",
       " 'What a camera .....just awesome ..you can feel this iPhone just awesome . Good for gaming also ...try pubg in hd it’s just wow',\n",
       " 'i11 is worthy to buy, too much happy with the product. Thank u flipkart I received the item on time..loved it..',\n",
       " 'The Best Phone for the Money\\n\\nThe iPhone 11 offers superb cameras, a more durable design and excellent battery life for an affordable price.\\n\\nCompelling ultra-wide camera\\nNew Night mode is excellent\\nLong battery life',\n",
       " 'Really satisfied with the Product I received... It’s totally genuine and the packaging was also really good so if ur planning to buy just go for it.',\n",
       " 'Amazing phone with great cameras and better battery which gives you the best performance. I just love the camera .',\n",
       " 'Great iPhone very snappy experience as apple kind. Upgraded from iPhone 7.\\nPros\\n-Camera top class\\n- Battery top performed\\n-Chipset no need to say as apple kind\\n-Security as you expect from apple\\n- Display super bright industry leading colour\\naccuracy and super responsive\\n-Build quality as expect from apple sturdy\\npremium durable beautiful stylish.\\n-Os most stable os in smartphone industry\\n\\nCons\\n-No 5G\\n-Display is not based on OLED technology\\n-Charger headphones and 1 apple stic...\\nREAD MORE',\n",
       " 'Previously I was using one plus 3t it was a great phone\\nAnd then I decided to upgrade I am stuck between Samsung s10 plus or iPhone 11\\nI have seen the specs and everything were good except the display it’s somewhere between 720-1080 and it’s not even an amoled it’s an LCD display\\nBut I decided to go with iPhone because I have never used an IOS device I have Been an android user from the past 9 years I ordered IPhone 11 (128gb) product red\\nMy experience after using 3 weeks\\n1. The delivery ...\\nREAD MORE',\n",
       " 'This is my first iOS phone. I am very happy with this product. Very much satisfied with this. I love this phone.',\n",
       " 'Amazing Powerful and Durable Gadget.\\n\\nI’m am very happy with the camera picture quality, Amazing face id unlocked in dark room, Strong battery with perfect screen size as you can carry easily in pocket. This is my third iPhone.\\n\\nI shifted from android Samsung Note series to iPhone because of the strong build quality and peace of mind for next 3-4 years.\\n\\nDon’t think to much just go for it and I suggest you to go for minimum 128gb variant or more 256gb.\\n\\nI’ve attached my puppy pics and no fi...\\nREAD MORE',\n",
       " 'So far it’s been an AMAZING experience coming back to iOS after nearly a decade but it’s not as versatile as android though phone is sturdy dropped it accidentally a couple of times and nothing happened fortunately camera is awesome',\n",
       " 'What a camera .....just awesome ..you can feel this iPhone just awesome . Good for gaming also ...try pubg in hd it’s just wow',\n",
       " 'i11 is worthy to buy, too much happy with the product. Thank u flipkart I received the item on time..loved it..',\n",
       " 'The Best Phone for the Money\\n\\nThe iPhone 11 offers superb cameras, a more durable design and excellent battery life for an affordable price.\\n\\nCompelling ultra-wide camera\\nNew Night mode is excellent\\nLong battery life',\n",
       " 'Really satisfied with the Product I received... It’s totally genuine and the packaging was also really good so if ur planning to buy just go for it.',\n",
       " 'Amazing phone with great cameras and better battery which gives you the best performance. I just love the camera .',\n",
       " 'Great iPhone very snappy experience as apple kind. Upgraded from iPhone 7.\\nPros\\n-Camera top class\\n- Battery top performed\\n-Chipset no need to say as apple kind\\n-Security as you expect from apple\\n- Display super bright industry leading colour\\naccuracy and super responsive\\n-Build quality as expect from apple sturdy\\npremium durable beautiful stylish.\\n-Os most stable os in smartphone industry\\n\\nCons\\n-No 5G\\n-Display is not based on OLED technology\\n-Charger headphones and 1 apple stic...\\nREAD MORE',\n",
       " 'Previously I was using one plus 3t it was a great phone\\nAnd then I decided to upgrade I am stuck between Samsung s10 plus or iPhone 11\\nI have seen the specs and everything were good except the display it’s somewhere between 720-1080 and it’s not even an amoled it’s an LCD display\\nBut I decided to go with iPhone because I have never used an IOS device I have Been an android user from the past 9 years I ordered IPhone 11 (128gb) product red\\nMy experience after using 3 weeks\\n1. The delivery ...\\nREAD MORE',\n",
       " 'This is my first iOS phone. I am very happy with this product. Very much satisfied with this. I love this phone.',\n",
       " 'Amazing Powerful and Durable Gadget.\\n\\nI’m am very happy with the camera picture quality, Amazing face id unlocked in dark room, Strong battery with perfect screen size as you can carry easily in pocket. This is my third iPhone.\\n\\nI shifted from android Samsung Note series to iPhone because of the strong build quality and peace of mind for next 3-4 years.\\n\\nDon’t think to much just go for it and I suggest you to go for minimum 128gb variant or more 256gb.\\n\\nI’ve attached my puppy pics and no fi...\\nREAD MORE',\n",
       " 'So far it’s been an AMAZING experience coming back to iOS after nearly a decade but it’s not as versatile as android though phone is sturdy dropped it accidentally a couple of times and nothing happened fortunately camera is awesome',\n",
       " 'What a camera .....just awesome ..you can feel this iPhone just awesome . Good for gaming also ...try pubg in hd it’s just wow',\n",
       " 'i11 is worthy to buy, too much happy with the product. Thank u flipkart I received the item on time..loved it..',\n",
       " 'The Best Phone for the Money\\n\\nThe iPhone 11 offers superb cameras, a more durable design and excellent battery life for an affordable price.\\n\\nCompelling ultra-wide camera\\nNew Night mode is excellent\\nLong battery life',\n",
       " 'Really satisfied with the Product I received... It’s totally genuine and the packaging was also really good so if ur planning to buy just go for it.',\n",
       " 'Amazing phone with great cameras and better battery which gives you the best performance. I just love the camera .',\n",
       " 'Great iPhone very snappy experience as apple kind. Upgraded from iPhone 7.\\nPros\\n-Camera top class\\n- Battery top performed\\n-Chipset no need to say as apple kind\\n-Security as you expect from apple\\n- Display super bright industry leading colour\\naccuracy and super responsive\\n-Build quality as expect from apple sturdy\\npremium durable beautiful stylish.\\n-Os most stable os in smartphone industry\\n\\nCons\\n-No 5G\\n-Display is not based on OLED technology\\n-Charger headphones and 1 apple stic...\\nREAD MORE',\n",
       " 'Previously I was using one plus 3t it was a great phone\\nAnd then I decided to upgrade I am stuck between Samsung s10 plus or iPhone 11\\nI have seen the specs and everything were good except the display it’s somewhere between 720-1080 and it’s not even an amoled it’s an LCD display\\nBut I decided to go with iPhone because I have never used an IOS device I have Been an android user from the past 9 years I ordered IPhone 11 (128gb) product red\\nMy experience after using 3 weeks\\n1. The delivery ...\\nREAD MORE',\n",
       " 'This is my first iOS phone. I am very happy with this product. Very much satisfied with this. I love this phone.',\n",
       " 'Amazing Powerful and Durable Gadget.\\n\\nI’m am very happy with the camera picture quality, Amazing face id unlocked in dark room, Strong battery with perfect screen size as you can carry easily in pocket. This is my third iPhone.\\n\\nI shifted from android Samsung Note series to iPhone because of the strong build quality and peace of mind for next 3-4 years.\\n\\nDon’t think to much just go for it and I suggest you to go for minimum 128gb variant or more 256gb.\\n\\nI’ve attached my puppy pics and no fi...\\nREAD MORE',\n",
       " 'So far it’s been an AMAZING experience coming back to iOS after nearly a decade but it’s not as versatile as android though phone is sturdy dropped it accidentally a couple of times and nothing happened fortunately camera is awesome',\n",
       " 'What a camera .....just awesome ..you can feel this iPhone just awesome . Good for gaming also ...try pubg in hd it’s just wow',\n",
       " 'i11 is worthy to buy, too much happy with the product. Thank u flipkart I received the item on time..loved it..',\n",
       " 'The Best Phone for the Money\\n\\nThe iPhone 11 offers superb cameras, a more durable design and excellent battery life for an affordable price.\\n\\nCompelling ultra-wide camera\\nNew Night mode is excellent\\nLong battery life',\n",
       " 'Really satisfied with the Product I received... It’s totally genuine and the packaging was also really good so if ur planning to buy just go for it.',\n",
       " 'Amazing phone with great cameras and better battery which gives you the best performance. I just love the camera .',\n",
       " 'Great iPhone very snappy experience as apple kind. Upgraded from iPhone 7.\\nPros\\n-Camera top class\\n- Battery top performed\\n-Chipset no need to say as apple kind\\n-Security as you expect from apple\\n- Display super bright industry leading colour\\naccuracy and super responsive\\n-Build quality as expect from apple sturdy\\npremium durable beautiful stylish.\\n-Os most stable os in smartphone industry\\n\\nCons\\n-No 5G\\n-Display is not based on OLED technology\\n-Charger headphones and 1 apple stic...\\nREAD MORE',\n",
       " 'Previously I was using one plus 3t it was a great phone\\nAnd then I decided to upgrade I am stuck between Samsung s10 plus or iPhone 11\\nI have seen the specs and everything were good except the display it’s somewhere between 720-1080 and it’s not even an amoled it’s an LCD display\\nBut I decided to go with iPhone because I have never used an IOS device I have Been an android user from the past 9 years I ordered IPhone 11 (128gb) product red\\nMy experience after using 3 weeks\\n1. The delivery ...\\nREAD MORE',\n",
       " 'This is my first iOS phone. I am very happy with this product. Very much satisfied with this. I love this phone.',\n",
       " 'Amazing Powerful and Durable Gadget.\\n\\nI’m am very happy with the camera picture quality, Amazing face id unlocked in dark room, Strong battery with perfect screen size as you can carry easily in pocket. This is my third iPhone.\\n\\nI shifted from android Samsung Note series to iPhone because of the strong build quality and peace of mind for next 3-4 years.\\n\\nDon’t think to much just go for it and I suggest you to go for minimum 128gb variant or more 256gb.\\n\\nI’ve attached my puppy pics and no fi...\\nREAD MORE',\n",
       " 'So far it’s been an AMAZING experience coming back to iOS after nearly a decade but it’s not as versatile as android though phone is sturdy dropped it accidentally a couple of times and nothing happened fortunately camera is awesome',\n",
       " 'What a camera .....just awesome ..you can feel this iPhone just awesome . Good for gaming also ...try pubg in hd it’s just wow',\n",
       " 'i11 is worthy to buy, too much happy with the product. Thank u flipkart I received the item on time..loved it..',\n",
       " 'The Best Phone for the Money\\n\\nThe iPhone 11 offers superb cameras, a more durable design and excellent battery life for an affordable price.\\n\\nCompelling ultra-wide camera\\nNew Night mode is excellent\\nLong battery life',\n",
       " 'Really satisfied with the Product I received... It’s totally genuine and the packaging was also really good so if ur planning to buy just go for it.',\n",
       " 'Amazing phone with great cameras and better battery which gives you the best performance. I just love the camera .',\n",
       " 'Great iPhone very snappy experience as apple kind. Upgraded from iPhone 7.\\nPros\\n-Camera top class\\n- Battery top performed\\n-Chipset no need to say as apple kind\\n-Security as you expect from apple\\n- Display super bright industry leading colour\\naccuracy and super responsive\\n-Build quality as expect from apple sturdy\\npremium durable beautiful stylish.\\n-Os most stable os in smartphone industry\\n\\nCons\\n-No 5G\\n-Display is not based on OLED technology\\n-Charger headphones and 1 apple stic...\\nREAD MORE',\n",
       " 'Previously I was using one plus 3t it was a great phone\\nAnd then I decided to upgrade I am stuck between Samsung s10 plus or iPhone 11\\nI have seen the specs and everything were good except the display it’s somewhere between 720-1080 and it’s not even an amoled it’s an LCD display\\nBut I decided to go with iPhone because I have never used an IOS device I have Been an android user from the past 9 years I ordered IPhone 11 (128gb) product red\\nMy experience after using 3 weeks\\n1. The delivery ...\\nREAD MORE',\n",
       " 'This is my first iOS phone. I am very happy with this product. Very much satisfied with this. I love this phone.',\n",
       " 'Amazing Powerful and Durable Gadget.\\n\\nI’m am very happy with the camera picture quality, Amazing face id unlocked in dark room, Strong battery with perfect screen size as you can carry easily in pocket. This is my third iPhone.\\n\\nI shifted from android Samsung Note series to iPhone because of the strong build quality and peace of mind for next 3-4 years.\\n\\nDon’t think to much just go for it and I suggest you to go for minimum 128gb variant or more 256gb.\\n\\nI’ve attached my puppy pics and no fi...\\nREAD MORE',\n",
       " 'So far it’s been an AMAZING experience coming back to iOS after nearly a decade but it’s not as versatile as android though phone is sturdy dropped it accidentally a couple of times and nothing happened fortunately camera is awesome',\n",
       " 'What a camera .....just awesome ..you can feel this iPhone just awesome . Good for gaming also ...try pubg in hd it’s just wow',\n",
       " 'i11 is worthy to buy, too much happy with the product. Thank u flipkart I received the item on time..loved it..',\n",
       " 'The Best Phone for the Money\\n\\nThe iPhone 11 offers superb cameras, a more durable design and excellent battery life for an affordable price.\\n\\nCompelling ultra-wide camera\\nNew Night mode is excellent\\nLong battery life',\n",
       " 'Really satisfied with the Product I received... It’s totally genuine and the packaging was also really good so if ur planning to buy just go for it.',\n",
       " 'Amazing phone with great cameras and better battery which gives you the best performance. I just love the camera .',\n",
       " 'Great iPhone very snappy experience as apple kind. Upgraded from iPhone 7.\\nPros\\n-Camera top class\\n- Battery top performed\\n-Chipset no need to say as apple kind\\n-Security as you expect from apple\\n- Display super bright industry leading colour\\naccuracy and super responsive\\n-Build quality as expect from apple sturdy\\npremium durable beautiful stylish.\\n-Os most stable os in smartphone industry\\n\\nCons\\n-No 5G\\n-Display is not based on OLED technology\\n-Charger headphones and 1 apple stic...\\nREAD MORE',\n",
       " 'Previously I was using one plus 3t it was a great phone\\nAnd then I decided to upgrade I am stuck between Samsung s10 plus or iPhone 11\\nI have seen the specs and everything were good except the display it’s somewhere between 720-1080 and it’s not even an amoled it’s an LCD display\\nBut I decided to go with iPhone because I have never used an IOS device I have Been an android user from the past 9 years I ordered IPhone 11 (128gb) product red\\nMy experience after using 3 weeks\\n1. The delivery ...\\nREAD MORE',\n",
       " 'This is my first iOS phone. I am very happy with this product. Very much satisfied with this. I love this phone.',\n",
       " 'Amazing Powerful and Durable Gadget.\\n\\nI’m am very happy with the camera picture quality, Amazing face id unlocked in dark room, Strong battery with perfect screen size as you can carry easily in pocket. This is my third iPhone.\\n\\nI shifted from android Samsung Note series to iPhone because of the strong build quality and peace of mind for next 3-4 years.\\n\\nDon’t think to much just go for it and I suggest you to go for minimum 128gb variant or more 256gb.\\n\\nI’ve attached my puppy pics and no fi...\\nREAD MORE',\n",
       " 'So far it’s been an AMAZING experience coming back to iOS after nearly a decade but it’s not as versatile as android though phone is sturdy dropped it accidentally a couple of times and nothing happened fortunately camera is awesome',\n",
       " 'What a camera .....just awesome ..you can feel this iPhone just awesome . Good for gaming also ...try pubg in hd it’s just wow',\n",
       " 'i11 is worthy to buy, too much happy with the product. Thank u flipkart I received the item on time..loved it..',\n",
       " 'The Best Phone for the Money\\n\\nThe iPhone 11 offers superb cameras, a more durable design and excellent battery life for an affordable price.\\n\\nCompelling ultra-wide camera\\nNew Night mode is excellent\\nLong battery life',\n",
       " 'Really satisfied with the Product I received... It’s totally genuine and the packaging was also really good so if ur planning to buy just go for it.',\n",
       " 'Amazing phone with great cameras and better battery which gives you the best performance. I just love the camera .',\n",
       " 'Great iPhone very snappy experience as apple kind. Upgraded from iPhone 7.\\nPros\\n-Camera top class\\n- Battery top performed\\n-Chipset no need to say as apple kind\\n-Security as you expect from apple\\n- Display super bright industry leading colour\\naccuracy and super responsive\\n-Build quality as expect from apple sturdy\\npremium durable beautiful stylish.\\n-Os most stable os in smartphone industry\\n\\nCons\\n-No 5G\\n-Display is not based on OLED technology\\n-Charger headphones and 1 apple stic...\\nREAD MORE',\n",
       " 'Previously I was using one plus 3t it was a great phone\\nAnd then I decided to upgrade I am stuck between Samsung s10 plus or iPhone 11\\nI have seen the specs and everything were good except the display it’s somewhere between 720-1080 and it’s not even an amoled it’s an LCD display\\nBut I decided to go with iPhone because I have never used an IOS device I have Been an android user from the past 9 years I ordered IPhone 11 (128gb) product red\\nMy experience after using 3 weeks\\n1. The delivery ...\\nREAD MORE',\n",
       " 'This is my first iOS phone. I am very happy with this product. Very much satisfied with this. I love this phone.',\n",
       " 'Amazing Powerful and Durable Gadget.\\n\\nI’m am very happy with the camera picture quality, Amazing face id unlocked in dark room, Strong battery with perfect screen size as you can carry easily in pocket. This is my third iPhone.\\n\\nI shifted from android Samsung Note series to iPhone because of the strong build quality and peace of mind for next 3-4 years.\\n\\nDon’t think to much just go for it and I suggest you to go for minimum 128gb variant or more 256gb.\\n\\nI’ve attached my puppy pics and no fi...\\nREAD MORE',\n",
       " 'So far it’s been an AMAZING experience coming back to iOS after nearly a decade but it’s not as versatile as android though phone is sturdy dropped it accidentally a couple of times and nothing happened fortunately camera is awesome',\n",
       " 'What a camera .....just awesome ..you can feel this iPhone just awesome . Good for gaming also ...try pubg in hd it’s just wow',\n",
       " 'i11 is worthy to buy, too much happy with the product. Thank u flipkart I received the item on time..loved it..']"
      ]
     },
     "execution_count": 163,
     "metadata": {},
     "output_type": "execute_result"
    }
   ],
   "source": [
    "full_reviews=[]\n",
    "\n",
    "for i in full_review:\n",
    "    full_reviews.append(i.text)\n",
    "for i in full_review1:\n",
    "    full_reviews.append(i.text)\n",
    "for i in full_review2:\n",
    "    full_reviews.append(i.text)\n",
    "for i in full_review3:\n",
    "    full_reviews.append(i.text)\n",
    "for i in full_review4:\n",
    "    full_reviews.append(i.text)\n",
    "for i in full_review5:\n",
    "    full_reviews.append(i.text)\n",
    "for i in full_review6:\n",
    "    full_reviews.append(i.text)\n",
    "for i in full_review7:\n",
    "    full_reviews.append(i.text)\n",
    "for i in full_review8:\n",
    "    full_reviews.append(i.text)\n",
    "for i in full_review9:\n",
    "    full_reviews.append(i.text)\n",
    "    \n",
    "full_reviews\n",
    "#len(full_reviews)"
   ]
  },
  {
   "cell_type": "code",
   "execution_count": 164,
   "id": "157fb3b2",
   "metadata": {},
   "outputs": [
    {
     "data": {
      "text/html": [
       "<div>\n",
       "<style scoped>\n",
       "    .dataframe tbody tr th:only-of-type {\n",
       "        vertical-align: middle;\n",
       "    }\n",
       "\n",
       "    .dataframe tbody tr th {\n",
       "        vertical-align: top;\n",
       "    }\n",
       "\n",
       "    .dataframe thead th {\n",
       "        text-align: right;\n",
       "    }\n",
       "</style>\n",
       "<table border=\"1\" class=\"dataframe\">\n",
       "  <thead>\n",
       "    <tr style=\"text-align: right;\">\n",
       "      <th></th>\n",
       "      <th>Phone Ratings</th>\n",
       "      <th>Phone Reviews</th>\n",
       "      <th>Phone's Full Reviews</th>\n",
       "    </tr>\n",
       "  </thead>\n",
       "  <tbody>\n",
       "    <tr>\n",
       "      <th>0</th>\n",
       "      <td>5</td>\n",
       "      <td>Brilliant</td>\n",
       "      <td>The Best Phone for the Money\\n\\nThe iPhone 11 ...</td>\n",
       "    </tr>\n",
       "    <tr>\n",
       "      <th>1</th>\n",
       "      <td>5</td>\n",
       "      <td>Simply awesome</td>\n",
       "      <td>Really satisfied with the Product I received.....</td>\n",
       "    </tr>\n",
       "    <tr>\n",
       "      <th>2</th>\n",
       "      <td>5</td>\n",
       "      <td>Perfect product!</td>\n",
       "      <td>Amazing phone with great cameras and better ba...</td>\n",
       "    </tr>\n",
       "    <tr>\n",
       "      <th>3</th>\n",
       "      <td>5</td>\n",
       "      <td>Best in the market!</td>\n",
       "      <td>Great iPhone very snappy experience as apple k...</td>\n",
       "    </tr>\n",
       "    <tr>\n",
       "      <th>4</th>\n",
       "      <td>5</td>\n",
       "      <td>Worth every penny</td>\n",
       "      <td>Previously I was using one plus 3t it was a gr...</td>\n",
       "    </tr>\n",
       "    <tr>\n",
       "      <th>...</th>\n",
       "      <td>...</td>\n",
       "      <td>...</td>\n",
       "      <td>...</td>\n",
       "    </tr>\n",
       "    <tr>\n",
       "      <th>95</th>\n",
       "      <td>5</td>\n",
       "      <td>Fabulous!</td>\n",
       "      <td>This is my first iOS phone. I am very happy wi...</td>\n",
       "    </tr>\n",
       "    <tr>\n",
       "      <th>96</th>\n",
       "      <td>5</td>\n",
       "      <td>Great product</td>\n",
       "      <td>Amazing Powerful and Durable Gadget.\\n\\nI’m am...</td>\n",
       "    </tr>\n",
       "    <tr>\n",
       "      <th>97</th>\n",
       "      <td>4</td>\n",
       "      <td>Good choice</td>\n",
       "      <td>So far it’s been an AMAZING experience coming ...</td>\n",
       "    </tr>\n",
       "    <tr>\n",
       "      <th>98</th>\n",
       "      <td>5</td>\n",
       "      <td>Highly recommended</td>\n",
       "      <td>What a camera .....just awesome ..you can feel...</td>\n",
       "    </tr>\n",
       "    <tr>\n",
       "      <th>99</th>\n",
       "      <td>5</td>\n",
       "      <td>Worth every penny</td>\n",
       "      <td>i11 is worthy to buy, too much happy with the ...</td>\n",
       "    </tr>\n",
       "  </tbody>\n",
       "</table>\n",
       "<p>100 rows × 3 columns</p>\n",
       "</div>"
      ],
      "text/plain": [
       "   Phone Ratings        Phone Reviews  \\\n",
       "0              5            Brilliant   \n",
       "1              5       Simply awesome   \n",
       "2              5     Perfect product!   \n",
       "3              5  Best in the market!   \n",
       "4              5    Worth every penny   \n",
       "..           ...                  ...   \n",
       "95             5            Fabulous!   \n",
       "96             5        Great product   \n",
       "97             4          Good choice   \n",
       "98             5   Highly recommended   \n",
       "99             5    Worth every penny   \n",
       "\n",
       "                                 Phone's Full Reviews  \n",
       "0   The Best Phone for the Money\\n\\nThe iPhone 11 ...  \n",
       "1   Really satisfied with the Product I received.....  \n",
       "2   Amazing phone with great cameras and better ba...  \n",
       "3   Great iPhone very snappy experience as apple k...  \n",
       "4   Previously I was using one plus 3t it was a gr...  \n",
       "..                                                ...  \n",
       "95  This is my first iOS phone. I am very happy wi...  \n",
       "96  Amazing Powerful and Durable Gadget.\\n\\nI’m am...  \n",
       "97  So far it’s been an AMAZING experience coming ...  \n",
       "98  What a camera .....just awesome ..you can feel...  \n",
       "99  i11 is worthy to buy, too much happy with the ...  \n",
       "\n",
       "[100 rows x 3 columns]"
      ]
     },
     "execution_count": 164,
     "metadata": {},
     "output_type": "execute_result"
    }
   ],
   "source": [
    "iphone11=pd.DataFrame({\"Phone Ratings\":product_rate,\"Phone Reviews\":product_review,\"Phone's Full Reviews\":full_reviews})\n",
    "iphone11"
   ]
  },
  {
   "cell_type": "markdown",
   "id": "141e549b",
   "metadata": {},
   "source": [
    "# 6-Myntra "
   ]
  },
  {
   "cell_type": "code",
   "execution_count": 165,
   "id": "0ff7e2c4",
   "metadata": {},
   "outputs": [
    {
     "data": {
      "text/plain": [
       "<selenium.webdriver.chrome.webdriver.WebDriver (session=\"c40416ad0cb87b083a71ad564657c9a0\")>"
      ]
     },
     "execution_count": 165,
     "metadata": {},
     "output_type": "execute_result"
    }
   ],
   "source": [
    "driver=webdriver.Chrome(r'C:\\Users\\User\\Downloads\\Fliprobo\\chromedriver_win32\\chromedriver.exe')\n",
    "driver"
   ]
  },
  {
   "cell_type": "code",
   "execution_count": 166,
   "id": "a2190e1f",
   "metadata": {},
   "outputs": [],
   "source": [
    "url=' https://www.myntra.com/'\n",
    "driver.get(url)"
   ]
  },
  {
   "cell_type": "code",
   "execution_count": 167,
   "id": "525c868e",
   "metadata": {},
   "outputs": [
    {
     "data": {
      "text/plain": [
       "<selenium.webdriver.remote.webelement.WebElement (session=\"c40416ad0cb87b083a71ad564657c9a0\", element=\"2a6b1166-9a37-443e-8fa6-247ffdce9f34\")>"
      ]
     },
     "execution_count": 167,
     "metadata": {},
     "output_type": "execute_result"
    }
   ],
   "source": [
    "item=driver.find_element_by_xpath('/html/body/div[1]/div/div/header/div[2]/div[3]/input')\n",
    "item"
   ]
  },
  {
   "cell_type": "code",
   "execution_count": 168,
   "id": "5e8c9e09",
   "metadata": {},
   "outputs": [],
   "source": [
    "item.send_keys('Shoes')"
   ]
  },
  {
   "cell_type": "code",
   "execution_count": 169,
   "id": "ff864e4c",
   "metadata": {},
   "outputs": [
    {
     "data": {
      "text/plain": [
       "<selenium.webdriver.remote.webelement.WebElement (session=\"c40416ad0cb87b083a71ad564657c9a0\", element=\"f5c67374-70f9-4318-a5ae-f912f22fd510\")>"
      ]
     },
     "execution_count": 169,
     "metadata": {},
     "output_type": "execute_result"
    }
   ],
   "source": [
    "search_button=driver.find_element_by_xpath('/html/body/div[1]/div/div/header/div[2]/div[3]/a/span')\n",
    "search_button"
   ]
  },
  {
   "cell_type": "code",
   "execution_count": 170,
   "id": "1c8ed413",
   "metadata": {},
   "outputs": [],
   "source": [
    "search_button.click()"
   ]
  },
  {
   "cell_type": "code",
   "execution_count": 171,
   "id": "caca9d9c",
   "metadata": {},
   "outputs": [
    {
     "data": {
      "text/plain": [
       "<selenium.webdriver.remote.webelement.WebElement (session=\"c40416ad0cb87b083a71ad564657c9a0\", element=\"bb8b690d-c05b-4f9d-bd00-8cacf01fb6b8\")>"
      ]
     },
     "execution_count": 171,
     "metadata": {},
     "output_type": "execute_result"
    }
   ],
   "source": [
    "price_filter=driver.find_element_by_xpath('/html/body/div[2]/div/div[1]/main/div[3]/div[1]/section/div/div[5]/ul/li[2]/label')\n",
    "price_filter"
   ]
  },
  {
   "cell_type": "code",
   "execution_count": 172,
   "id": "5d8a5e7d",
   "metadata": {},
   "outputs": [],
   "source": [
    "price_filter.click()"
   ]
  },
  {
   "cell_type": "code",
   "execution_count": 173,
   "id": "1b42c718",
   "metadata": {},
   "outputs": [
    {
     "data": {
      "text/plain": [
       "<selenium.webdriver.remote.webelement.WebElement (session=\"c40416ad0cb87b083a71ad564657c9a0\", element=\"8ee72f36-f3c5-4aa7-9898-081b451cb4c5\")>"
      ]
     },
     "execution_count": 173,
     "metadata": {},
     "output_type": "execute_result"
    }
   ],
   "source": [
    "color_filter=driver.find_element_by_xpath('/html/body/div[2]/div/div[1]/main/div[3]/div[1]/section/div/div[6]/ul/li[1]/label')\n",
    "color_filter"
   ]
  },
  {
   "cell_type": "code",
   "execution_count": 174,
   "id": "d1b282b6",
   "metadata": {},
   "outputs": [],
   "source": [
    "color_filter.click()"
   ]
  },
  {
   "cell_type": "code",
   "execution_count": 179,
   "id": "37b6e52a",
   "metadata": {},
   "outputs": [
    {
     "data": {
      "text/plain": [
       "[<selenium.webdriver.remote.webelement.WebElement (session=\"c40416ad0cb87b083a71ad564657c9a0\", element=\"1dabc67c-585e-4c0c-9500-1be3deebc221\")>,\n",
       " <selenium.webdriver.remote.webelement.WebElement (session=\"c40416ad0cb87b083a71ad564657c9a0\", element=\"cb614a46-3123-4507-9187-2591e6136e67\")>,\n",
       " <selenium.webdriver.remote.webelement.WebElement (session=\"c40416ad0cb87b083a71ad564657c9a0\", element=\"8f258b9c-c36a-454d-a763-d998583d4fc0\")>,\n",
       " <selenium.webdriver.remote.webelement.WebElement (session=\"c40416ad0cb87b083a71ad564657c9a0\", element=\"0f5afdeb-9503-41fd-9ea3-e019cf43329f\")>,\n",
       " <selenium.webdriver.remote.webelement.WebElement (session=\"c40416ad0cb87b083a71ad564657c9a0\", element=\"a29b504d-2401-4f25-839d-60c8995db066\")>,\n",
       " <selenium.webdriver.remote.webelement.WebElement (session=\"c40416ad0cb87b083a71ad564657c9a0\", element=\"36f2686b-2ca4-4c5b-a4ff-6bb271f0d4a1\")>,\n",
       " <selenium.webdriver.remote.webelement.WebElement (session=\"c40416ad0cb87b083a71ad564657c9a0\", element=\"188df96e-020b-4db6-9d8f-c2bfcfb0a4c1\")>,\n",
       " <selenium.webdriver.remote.webelement.WebElement (session=\"c40416ad0cb87b083a71ad564657c9a0\", element=\"6090d2e5-4d8b-481e-b34d-1b7e3da7c526\")>,\n",
       " <selenium.webdriver.remote.webelement.WebElement (session=\"c40416ad0cb87b083a71ad564657c9a0\", element=\"f17dfa63-7dde-4976-a588-e7fb524425f6\")>,\n",
       " <selenium.webdriver.remote.webelement.WebElement (session=\"c40416ad0cb87b083a71ad564657c9a0\", element=\"4d9f3fcd-9ff5-4567-a599-91f85934bb8c\")>,\n",
       " <selenium.webdriver.remote.webelement.WebElement (session=\"c40416ad0cb87b083a71ad564657c9a0\", element=\"326ad94a-996d-45ea-b54e-aea6ad1f5590\")>,\n",
       " <selenium.webdriver.remote.webelement.WebElement (session=\"c40416ad0cb87b083a71ad564657c9a0\", element=\"eaccb893-fda3-4afc-b1cc-6755a5600438\")>,\n",
       " <selenium.webdriver.remote.webelement.WebElement (session=\"c40416ad0cb87b083a71ad564657c9a0\", element=\"490073fd-0c12-458b-935a-e9f374226e02\")>,\n",
       " <selenium.webdriver.remote.webelement.WebElement (session=\"c40416ad0cb87b083a71ad564657c9a0\", element=\"9ca01dc6-d8ae-46fa-a88f-426bc6ad8a2d\")>,\n",
       " <selenium.webdriver.remote.webelement.WebElement (session=\"c40416ad0cb87b083a71ad564657c9a0\", element=\"41662ce1-e652-4c1f-ba2f-9bd05a874b91\")>,\n",
       " <selenium.webdriver.remote.webelement.WebElement (session=\"c40416ad0cb87b083a71ad564657c9a0\", element=\"13db8ebe-aad4-4524-b867-8f7020fcece8\")>,\n",
       " <selenium.webdriver.remote.webelement.WebElement (session=\"c40416ad0cb87b083a71ad564657c9a0\", element=\"4ea6eda5-8a2e-4e16-91f6-7fbeac040567\")>,\n",
       " <selenium.webdriver.remote.webelement.WebElement (session=\"c40416ad0cb87b083a71ad564657c9a0\", element=\"d90b75b5-32bb-4ee0-90f7-3ddf48949aff\")>,\n",
       " <selenium.webdriver.remote.webelement.WebElement (session=\"c40416ad0cb87b083a71ad564657c9a0\", element=\"e9f78a37-dca9-4445-a9dd-d3ddd4821376\")>,\n",
       " <selenium.webdriver.remote.webelement.WebElement (session=\"c40416ad0cb87b083a71ad564657c9a0\", element=\"20e3b73e-bf53-45fe-88ac-1e2d3319224f\")>,\n",
       " <selenium.webdriver.remote.webelement.WebElement (session=\"c40416ad0cb87b083a71ad564657c9a0\", element=\"f1bc2569-ca33-45c7-9fd9-8801952d9101\")>,\n",
       " <selenium.webdriver.remote.webelement.WebElement (session=\"c40416ad0cb87b083a71ad564657c9a0\", element=\"0b69fdc9-cf6b-4b0a-ba44-5f236a1954c1\")>,\n",
       " <selenium.webdriver.remote.webelement.WebElement (session=\"c40416ad0cb87b083a71ad564657c9a0\", element=\"d6523f21-dcbb-4cbe-b0af-7abd0212a307\")>,\n",
       " <selenium.webdriver.remote.webelement.WebElement (session=\"c40416ad0cb87b083a71ad564657c9a0\", element=\"62ecb1f0-6359-4a10-825c-2e839e49913e\")>,\n",
       " <selenium.webdriver.remote.webelement.WebElement (session=\"c40416ad0cb87b083a71ad564657c9a0\", element=\"ea61d3e0-3657-40e7-92a4-cd8c546c96e4\")>,\n",
       " <selenium.webdriver.remote.webelement.WebElement (session=\"c40416ad0cb87b083a71ad564657c9a0\", element=\"5d310486-5107-46a9-88cc-2b647d93beef\")>,\n",
       " <selenium.webdriver.remote.webelement.WebElement (session=\"c40416ad0cb87b083a71ad564657c9a0\", element=\"226c1746-ef88-43d7-8bce-05ab67bcfc2a\")>,\n",
       " <selenium.webdriver.remote.webelement.WebElement (session=\"c40416ad0cb87b083a71ad564657c9a0\", element=\"690dc5ed-a895-41c2-ab4b-2d0b9255541e\")>,\n",
       " <selenium.webdriver.remote.webelement.WebElement (session=\"c40416ad0cb87b083a71ad564657c9a0\", element=\"aac4bca1-b45a-4a3a-bf64-e1ada6050e31\")>,\n",
       " <selenium.webdriver.remote.webelement.WebElement (session=\"c40416ad0cb87b083a71ad564657c9a0\", element=\"d3ea7ce0-b8bb-4d49-bcde-d5d502c05683\")>,\n",
       " <selenium.webdriver.remote.webelement.WebElement (session=\"c40416ad0cb87b083a71ad564657c9a0\", element=\"d64f8ea3-4796-41ed-8f10-51ffed155224\")>,\n",
       " <selenium.webdriver.remote.webelement.WebElement (session=\"c40416ad0cb87b083a71ad564657c9a0\", element=\"aecfc306-32b4-46b7-8f95-abc742b557e0\")>,\n",
       " <selenium.webdriver.remote.webelement.WebElement (session=\"c40416ad0cb87b083a71ad564657c9a0\", element=\"61501566-caa1-4a19-b736-c67e94b97ed7\")>,\n",
       " <selenium.webdriver.remote.webelement.WebElement (session=\"c40416ad0cb87b083a71ad564657c9a0\", element=\"55453e48-d525-4b6c-945f-23595e67d60c\")>,\n",
       " <selenium.webdriver.remote.webelement.WebElement (session=\"c40416ad0cb87b083a71ad564657c9a0\", element=\"b6466da9-e92e-442c-bcc5-80726dea9124\")>,\n",
       " <selenium.webdriver.remote.webelement.WebElement (session=\"c40416ad0cb87b083a71ad564657c9a0\", element=\"c299894e-f8a6-4b2e-a58b-81070bfaa1de\")>,\n",
       " <selenium.webdriver.remote.webelement.WebElement (session=\"c40416ad0cb87b083a71ad564657c9a0\", element=\"98c272a8-aa86-43c0-babb-a397fce826bc\")>,\n",
       " <selenium.webdriver.remote.webelement.WebElement (session=\"c40416ad0cb87b083a71ad564657c9a0\", element=\"ab4af039-14a8-4e3c-8bd9-0e25c550039b\")>,\n",
       " <selenium.webdriver.remote.webelement.WebElement (session=\"c40416ad0cb87b083a71ad564657c9a0\", element=\"d524f885-ebd3-4b3a-a4e4-97ed74b36155\")>,\n",
       " <selenium.webdriver.remote.webelement.WebElement (session=\"c40416ad0cb87b083a71ad564657c9a0\", element=\"27edf8f3-66b2-41b7-8e02-131a1c1c276a\")>,\n",
       " <selenium.webdriver.remote.webelement.WebElement (session=\"c40416ad0cb87b083a71ad564657c9a0\", element=\"c2012462-669f-444e-b1b3-027dbf107e24\")>,\n",
       " <selenium.webdriver.remote.webelement.WebElement (session=\"c40416ad0cb87b083a71ad564657c9a0\", element=\"e50f59d2-cc1f-4867-9225-bbb087553b22\")>,\n",
       " <selenium.webdriver.remote.webelement.WebElement (session=\"c40416ad0cb87b083a71ad564657c9a0\", element=\"5d6584a6-d8ae-4958-a1fb-6c65157b7811\")>,\n",
       " <selenium.webdriver.remote.webelement.WebElement (session=\"c40416ad0cb87b083a71ad564657c9a0\", element=\"5de98b0c-af9c-4f4a-b5f9-da6c9a856ee3\")>,\n",
       " <selenium.webdriver.remote.webelement.WebElement (session=\"c40416ad0cb87b083a71ad564657c9a0\", element=\"53440df2-8a22-454d-8ff3-c36ec4c80106\")>,\n",
       " <selenium.webdriver.remote.webelement.WebElement (session=\"c40416ad0cb87b083a71ad564657c9a0\", element=\"f27bf477-1a25-4652-bd09-5a2f03a546a9\")>,\n",
       " <selenium.webdriver.remote.webelement.WebElement (session=\"c40416ad0cb87b083a71ad564657c9a0\", element=\"a2e82243-06fc-462e-b348-e5f29b029f58\")>,\n",
       " <selenium.webdriver.remote.webelement.WebElement (session=\"c40416ad0cb87b083a71ad564657c9a0\", element=\"8a0ad047-8078-4f42-8564-9dbbef34b946\")>,\n",
       " <selenium.webdriver.remote.webelement.WebElement (session=\"c40416ad0cb87b083a71ad564657c9a0\", element=\"6150df2b-8f81-4330-b8d8-7bce24eb53bb\")>,\n",
       " <selenium.webdriver.remote.webelement.WebElement (session=\"c40416ad0cb87b083a71ad564657c9a0\", element=\"25b10456-90ab-4557-9ead-b11488d18355\")>]"
      ]
     },
     "execution_count": 179,
     "metadata": {},
     "output_type": "execute_result"
    }
   ],
   "source": [
    "black_shoes=driver.find_elements_by_xpath('//h3[@class=\"product-brand\"]')\n",
    "black_shoes\n",
    "black_shoes1=driver.find_elements_by_xpath('//h3[@class=\"product-brand\"]')\n",
    "black_shoes1"
   ]
  },
  {
   "cell_type": "code",
   "execution_count": 180,
   "id": "4fedd5af",
   "metadata": {},
   "outputs": [
    {
     "data": {
      "text/plain": [
       "['Puma',\n",
       " 'Puma',\n",
       " 'Puma',\n",
       " 'Saint G',\n",
       " 'Puma',\n",
       " 'RARE RABBIT',\n",
       " 'Cole Haan',\n",
       " 'ASICS',\n",
       " 'Bugatti',\n",
       " 'Bugatti',\n",
       " 'Saint G',\n",
       " 'DAVINCHI',\n",
       " 'DAVINCHI',\n",
       " 'Saint G',\n",
       " 'Geox',\n",
       " 'RARE RABBIT',\n",
       " 'Heel & Buckle London',\n",
       " 'Saint G',\n",
       " 'Saint G',\n",
       " 'Saint G',\n",
       " 'Geox',\n",
       " 'Puma',\n",
       " 'Tommy Hilfiger',\n",
       " 'Bugatti',\n",
       " 'J.FONTINI',\n",
       " 'J.FONTINI',\n",
       " 'Xtep',\n",
       " 'Louis Philippe',\n",
       " 'J.FONTINI',\n",
       " 'DAVINCHI',\n",
       " 'DAVINCHI',\n",
       " 'Geox',\n",
       " 'DAVINCHI',\n",
       " 'Geox',\n",
       " 'Geox',\n",
       " 'Pavers England',\n",
       " 'Saint G',\n",
       " 'Cole Haan',\n",
       " 'Geox',\n",
       " 'Cole Haan',\n",
       " 'DAVINCHI',\n",
       " 'Pavers England',\n",
       " 'Saint G',\n",
       " 'Pavers England',\n",
       " 'Saint G',\n",
       " 'Pavers England',\n",
       " 'Geox',\n",
       " 'Saint G',\n",
       " 'Saint G',\n",
       " 'Saint G',\n",
       " 'Puma',\n",
       " 'Puma',\n",
       " 'Puma',\n",
       " 'Saint G',\n",
       " 'Puma',\n",
       " 'RARE RABBIT',\n",
       " 'Cole Haan',\n",
       " 'ASICS',\n",
       " 'Bugatti',\n",
       " 'Bugatti',\n",
       " 'Saint G',\n",
       " 'DAVINCHI',\n",
       " 'DAVINCHI',\n",
       " 'Saint G',\n",
       " 'Geox',\n",
       " 'RARE RABBIT',\n",
       " 'Heel & Buckle London',\n",
       " 'Saint G',\n",
       " 'Saint G',\n",
       " 'Saint G',\n",
       " 'Geox',\n",
       " 'Puma',\n",
       " 'Tommy Hilfiger',\n",
       " 'Bugatti',\n",
       " 'J.FONTINI',\n",
       " 'J.FONTINI',\n",
       " 'Xtep',\n",
       " 'Louis Philippe',\n",
       " 'J.FONTINI',\n",
       " 'DAVINCHI',\n",
       " 'DAVINCHI',\n",
       " 'Geox',\n",
       " 'DAVINCHI',\n",
       " 'Geox',\n",
       " 'Geox',\n",
       " 'Pavers England',\n",
       " 'Saint G',\n",
       " 'Cole Haan',\n",
       " 'Geox',\n",
       " 'Cole Haan',\n",
       " 'DAVINCHI',\n",
       " 'Pavers England',\n",
       " 'Saint G',\n",
       " 'Pavers England',\n",
       " 'Saint G',\n",
       " 'Pavers England',\n",
       " 'Geox',\n",
       " 'Saint G',\n",
       " 'Saint G',\n",
       " 'Saint G']"
      ]
     },
     "execution_count": 180,
     "metadata": {},
     "output_type": "execute_result"
    }
   ],
   "source": [
    "shoes=[]\n",
    "for i in black_shoes:\n",
    "    shoes.append(i.text)\n",
    "    \n",
    "for i in black_shoes1:\n",
    "    shoes.append(i.text)\n",
    "    \n",
    "    \n",
    "shoes\n",
    "#len(shoes)"
   ]
  },
  {
   "cell_type": "code",
   "execution_count": 181,
   "id": "2cfc5850",
   "metadata": {},
   "outputs": [
    {
     "data": {
      "text/plain": [
       "[<selenium.webdriver.remote.webelement.WebElement (session=\"c40416ad0cb87b083a71ad564657c9a0\", element=\"7646165e-1659-4f9f-b706-7c68be52ffda\")>,\n",
       " <selenium.webdriver.remote.webelement.WebElement (session=\"c40416ad0cb87b083a71ad564657c9a0\", element=\"ee34238d-a9f5-4bdc-8754-171902bf1f0d\")>,\n",
       " <selenium.webdriver.remote.webelement.WebElement (session=\"c40416ad0cb87b083a71ad564657c9a0\", element=\"59566afc-0182-410c-9b92-7e950a74b0b0\")>,\n",
       " <selenium.webdriver.remote.webelement.WebElement (session=\"c40416ad0cb87b083a71ad564657c9a0\", element=\"83fd3c72-0f94-44be-b84b-84c3fd19553c\")>,\n",
       " <selenium.webdriver.remote.webelement.WebElement (session=\"c40416ad0cb87b083a71ad564657c9a0\", element=\"c4de241f-d899-4261-8de7-0178ebb65a72\")>,\n",
       " <selenium.webdriver.remote.webelement.WebElement (session=\"c40416ad0cb87b083a71ad564657c9a0\", element=\"0710df3a-14ba-47e9-ad84-fb08bfd9adc8\")>,\n",
       " <selenium.webdriver.remote.webelement.WebElement (session=\"c40416ad0cb87b083a71ad564657c9a0\", element=\"19a06611-4abf-4da4-bac2-b69571c8121e\")>,\n",
       " <selenium.webdriver.remote.webelement.WebElement (session=\"c40416ad0cb87b083a71ad564657c9a0\", element=\"e7436545-186a-4cc7-bb9c-4c1764ac2b53\")>,\n",
       " <selenium.webdriver.remote.webelement.WebElement (session=\"c40416ad0cb87b083a71ad564657c9a0\", element=\"c565912a-6bb8-41d9-8d10-b89626b1f674\")>,\n",
       " <selenium.webdriver.remote.webelement.WebElement (session=\"c40416ad0cb87b083a71ad564657c9a0\", element=\"3014064c-704c-4db3-a571-dca8ea2cfa21\")>,\n",
       " <selenium.webdriver.remote.webelement.WebElement (session=\"c40416ad0cb87b083a71ad564657c9a0\", element=\"74ab5b98-2583-4547-83ea-909ef1b3fd3a\")>,\n",
       " <selenium.webdriver.remote.webelement.WebElement (session=\"c40416ad0cb87b083a71ad564657c9a0\", element=\"109bc17d-6456-4107-bc27-1c8db8ff18ad\")>,\n",
       " <selenium.webdriver.remote.webelement.WebElement (session=\"c40416ad0cb87b083a71ad564657c9a0\", element=\"50b44b22-c502-4fe7-bd85-a9f711dbbf2c\")>,\n",
       " <selenium.webdriver.remote.webelement.WebElement (session=\"c40416ad0cb87b083a71ad564657c9a0\", element=\"b8e9b163-dffc-4235-b267-af4742499478\")>,\n",
       " <selenium.webdriver.remote.webelement.WebElement (session=\"c40416ad0cb87b083a71ad564657c9a0\", element=\"021b85c3-f0c2-4bb3-96ef-4530d648f67b\")>,\n",
       " <selenium.webdriver.remote.webelement.WebElement (session=\"c40416ad0cb87b083a71ad564657c9a0\", element=\"3bf70b85-c169-4584-88fc-ed08b966e465\")>,\n",
       " <selenium.webdriver.remote.webelement.WebElement (session=\"c40416ad0cb87b083a71ad564657c9a0\", element=\"5a77a3c9-0964-45b7-9572-5b9a901a02d1\")>,\n",
       " <selenium.webdriver.remote.webelement.WebElement (session=\"c40416ad0cb87b083a71ad564657c9a0\", element=\"ea036dea-6370-4279-95f4-df30cd14d4f7\")>,\n",
       " <selenium.webdriver.remote.webelement.WebElement (session=\"c40416ad0cb87b083a71ad564657c9a0\", element=\"807c7510-f683-420d-ba6e-6e95ceba31f0\")>,\n",
       " <selenium.webdriver.remote.webelement.WebElement (session=\"c40416ad0cb87b083a71ad564657c9a0\", element=\"304dc6fb-3456-4920-a8c5-7dcfa133cdae\")>,\n",
       " <selenium.webdriver.remote.webelement.WebElement (session=\"c40416ad0cb87b083a71ad564657c9a0\", element=\"2609263d-15f3-4acf-8ec0-3ccc7d7039c1\")>,\n",
       " <selenium.webdriver.remote.webelement.WebElement (session=\"c40416ad0cb87b083a71ad564657c9a0\", element=\"51ac57b7-d7ea-4a44-859d-3883bee04c36\")>,\n",
       " <selenium.webdriver.remote.webelement.WebElement (session=\"c40416ad0cb87b083a71ad564657c9a0\", element=\"b2cd5b6b-b5e0-47eb-948b-95b5df46a436\")>,\n",
       " <selenium.webdriver.remote.webelement.WebElement (session=\"c40416ad0cb87b083a71ad564657c9a0\", element=\"6efead88-9f24-4171-8864-fbf635228317\")>,\n",
       " <selenium.webdriver.remote.webelement.WebElement (session=\"c40416ad0cb87b083a71ad564657c9a0\", element=\"dfa52672-611e-4f4a-91df-0a1a55a6fb19\")>,\n",
       " <selenium.webdriver.remote.webelement.WebElement (session=\"c40416ad0cb87b083a71ad564657c9a0\", element=\"6136dcda-e34e-472a-b2d2-5f8535101ca3\")>,\n",
       " <selenium.webdriver.remote.webelement.WebElement (session=\"c40416ad0cb87b083a71ad564657c9a0\", element=\"cb366ad9-75b9-4eec-8254-edbc95f60ebf\")>,\n",
       " <selenium.webdriver.remote.webelement.WebElement (session=\"c40416ad0cb87b083a71ad564657c9a0\", element=\"a6250f6f-9aef-400c-8afe-1447023f07b1\")>,\n",
       " <selenium.webdriver.remote.webelement.WebElement (session=\"c40416ad0cb87b083a71ad564657c9a0\", element=\"bb306e46-6da7-475c-b50d-088ec9979611\")>,\n",
       " <selenium.webdriver.remote.webelement.WebElement (session=\"c40416ad0cb87b083a71ad564657c9a0\", element=\"a00a1ecf-fe09-407d-a327-d0c4161c460a\")>,\n",
       " <selenium.webdriver.remote.webelement.WebElement (session=\"c40416ad0cb87b083a71ad564657c9a0\", element=\"3788f275-ff78-48b6-bbf1-4cf8fc5ca61d\")>,\n",
       " <selenium.webdriver.remote.webelement.WebElement (session=\"c40416ad0cb87b083a71ad564657c9a0\", element=\"954e540a-c82c-4f73-a769-784ee3d83010\")>,\n",
       " <selenium.webdriver.remote.webelement.WebElement (session=\"c40416ad0cb87b083a71ad564657c9a0\", element=\"fd8c6d00-4623-4735-bd8a-bbff8300611e\")>,\n",
       " <selenium.webdriver.remote.webelement.WebElement (session=\"c40416ad0cb87b083a71ad564657c9a0\", element=\"b108501b-bfba-4b98-a677-c23ed1fcb1ef\")>,\n",
       " <selenium.webdriver.remote.webelement.WebElement (session=\"c40416ad0cb87b083a71ad564657c9a0\", element=\"9174bec8-2345-438d-892e-7e82860fb3e8\")>,\n",
       " <selenium.webdriver.remote.webelement.WebElement (session=\"c40416ad0cb87b083a71ad564657c9a0\", element=\"8aabaa2c-2608-4c82-9d8d-b2b3531ead13\")>,\n",
       " <selenium.webdriver.remote.webelement.WebElement (session=\"c40416ad0cb87b083a71ad564657c9a0\", element=\"63a9f879-610f-4359-8ba6-cd47b42764fd\")>,\n",
       " <selenium.webdriver.remote.webelement.WebElement (session=\"c40416ad0cb87b083a71ad564657c9a0\", element=\"6bced458-c4aa-4f8f-aebd-655a6e972b7d\")>,\n",
       " <selenium.webdriver.remote.webelement.WebElement (session=\"c40416ad0cb87b083a71ad564657c9a0\", element=\"a32dd4fb-01c7-41b8-9352-d8c7963a720d\")>,\n",
       " <selenium.webdriver.remote.webelement.WebElement (session=\"c40416ad0cb87b083a71ad564657c9a0\", element=\"70759fa0-5d2b-4003-91e6-5c5af1bda9f0\")>,\n",
       " <selenium.webdriver.remote.webelement.WebElement (session=\"c40416ad0cb87b083a71ad564657c9a0\", element=\"283cb3f7-8557-4374-a0db-a0aed7beb34d\")>,\n",
       " <selenium.webdriver.remote.webelement.WebElement (session=\"c40416ad0cb87b083a71ad564657c9a0\", element=\"c07afc47-6b51-4560-afa9-edacd392e5c4\")>,\n",
       " <selenium.webdriver.remote.webelement.WebElement (session=\"c40416ad0cb87b083a71ad564657c9a0\", element=\"04b7c103-0d1b-4ead-8b71-b717ae139cdf\")>,\n",
       " <selenium.webdriver.remote.webelement.WebElement (session=\"c40416ad0cb87b083a71ad564657c9a0\", element=\"aa2ee80a-abc4-4161-bb6f-ad1a8a76be99\")>,\n",
       " <selenium.webdriver.remote.webelement.WebElement (session=\"c40416ad0cb87b083a71ad564657c9a0\", element=\"d7545787-7362-4f2a-baee-4befa9cfe431\")>,\n",
       " <selenium.webdriver.remote.webelement.WebElement (session=\"c40416ad0cb87b083a71ad564657c9a0\", element=\"ba35f6a6-416d-4458-8fdb-5915b09054c3\")>,\n",
       " <selenium.webdriver.remote.webelement.WebElement (session=\"c40416ad0cb87b083a71ad564657c9a0\", element=\"45066dc4-edf7-4b8b-ab69-d16560866fa7\")>,\n",
       " <selenium.webdriver.remote.webelement.WebElement (session=\"c40416ad0cb87b083a71ad564657c9a0\", element=\"c09b1993-d118-4809-aff9-ad1c0dd683d9\")>,\n",
       " <selenium.webdriver.remote.webelement.WebElement (session=\"c40416ad0cb87b083a71ad564657c9a0\", element=\"2008bb05-3569-426d-b258-aef19fee92d7\")>,\n",
       " <selenium.webdriver.remote.webelement.WebElement (session=\"c40416ad0cb87b083a71ad564657c9a0\", element=\"fcb00139-873a-4b61-ba3a-b143c2e4487f\")>]"
      ]
     },
     "execution_count": 181,
     "metadata": {},
     "output_type": "execute_result"
    }
   ],
   "source": [
    "summary=driver.find_elements_by_xpath('//h4[@class=\"product-product\"]')\n",
    "summary\n",
    "summary1=driver.find_elements_by_xpath('//h4[@class=\"product-product\"]')\n",
    "summary1"
   ]
  },
  {
   "cell_type": "code",
   "execution_count": 182,
   "id": "d4f64efb",
   "metadata": {},
   "outputs": [
    {
     "data": {
      "text/plain": [
       "['Men Magnify Nitro Running',\n",
       " 'Men Running Shoes',\n",
       " 'Men Electrify Nitro Running',\n",
       " 'Men Mid-Top Chelsea Boots',\n",
       " 'Women Magnify Nitro Shoes',\n",
       " 'Men Leather Flat Boots',\n",
       " 'Men GENERATION ZEROGRAND STITCHLITE',\n",
       " 'Men Colourblocked PU Sneakers',\n",
       " 'Men Running Shoes',\n",
       " 'Men Textured Leather High-Top Flat Boots',\n",
       " 'Men Leather Chelsea Boots',\n",
       " 'Men Solid Leather Formal Derbys',\n",
       " 'Men Textured Formal Leather Loafers',\n",
       " 'Women Leather Loafers',\n",
       " 'Men Leather Flat Boots',\n",
       " 'Men Textured Leather Loafers',\n",
       " 'Men Formal Leather Derby',\n",
       " 'Leather Wedge Heeled Boots with Buckles',\n",
       " 'Suede High-Top Flatform Heeled Boots',\n",
       " 'Embellished Leather Block Heeled Boots',\n",
       " 'Women Leather Pumps',\n",
       " 'Women Velocity NITRO Runners',\n",
       " 'Women Hybrid Leather Sneakers',\n",
       " 'Men Black Walking Shoes',\n",
       " 'Men Textured Leather Loafers',\n",
       " 'Men Textured Leather Loafers',\n",
       " 'Men Running Shoes',\n",
       " 'Men Leather Formal Slip-Ons',\n",
       " 'Men Black Leather Loafers',\n",
       " 'Ustraa black',\n",
       " 'Men Formal Leather Slip-Ons',\n",
       " 'Men Leather Loafers',\n",
       " 'Men Textured Formal Leather Loafers',\n",
       " 'Women Solid Leather Pumps',\n",
       " 'Women Solid Leather Pumps',\n",
       " 'Men Leather Driving Shoes',\n",
       " 'Women Leather Heeled Boots',\n",
       " 'Women Open Toe Flats',\n",
       " 'Women Solid Leather Ballerinas',\n",
       " 'Women Solid Leather Ballerinas',\n",
       " 'Men Textured Leather Formal Slip-Ons',\n",
       " 'Men Solid Leather Formal Loafers',\n",
       " 'Leather Block Heeled Boots',\n",
       " 'Men Textured Leather Formal Slip-On Shoes',\n",
       " 'Leather Kitten Heeled Boots',\n",
       " 'Men Solid Leather Formal Derbys',\n",
       " 'Women Chunky Sneakers',\n",
       " 'Leather Block Heeled Boots with Bows',\n",
       " 'Suede Party High-Top Block Heeled Boots',\n",
       " 'Leather Platform Heeled Boots',\n",
       " 'Men Magnify Nitro Running',\n",
       " 'Men Running Shoes',\n",
       " 'Men Electrify Nitro Running',\n",
       " 'Men Mid-Top Chelsea Boots',\n",
       " 'Women Magnify Nitro Shoes',\n",
       " 'Men Leather Flat Boots',\n",
       " 'Men GENERATION ZEROGRAND STITCHLITE',\n",
       " 'Men Colourblocked PU Sneakers',\n",
       " 'Men Running Shoes',\n",
       " 'Men Textured Leather High-Top Flat Boots',\n",
       " 'Men Leather Chelsea Boots',\n",
       " 'Men Solid Leather Formal Derbys',\n",
       " 'Men Textured Formal Leather Loafers',\n",
       " 'Women Leather Loafers',\n",
       " 'Men Leather Flat Boots',\n",
       " 'Men Textured Leather Loafers',\n",
       " 'Men Formal Leather Derby',\n",
       " 'Leather Wedge Heeled Boots with Buckles',\n",
       " 'Suede High-Top Flatform Heeled Boots',\n",
       " 'Embellished Leather Block Heeled Boots',\n",
       " 'Women Leather Pumps',\n",
       " 'Women Velocity NITRO Runners',\n",
       " 'Women Hybrid Leather Sneakers',\n",
       " 'Men Black Walking Shoes',\n",
       " 'Men Textured Leather Loafers',\n",
       " 'Men Textured Leather Loafers',\n",
       " 'Men Running Shoes',\n",
       " 'Men Leather Formal Slip-Ons',\n",
       " 'Men Black Leather Loafers',\n",
       " 'Ustraa black',\n",
       " 'Men Formal Leather Slip-Ons',\n",
       " 'Men Leather Loafers',\n",
       " 'Men Textured Formal Leather Loafers',\n",
       " 'Women Solid Leather Pumps',\n",
       " 'Women Solid Leather Pumps',\n",
       " 'Men Leather Driving Shoes',\n",
       " 'Women Leather Heeled Boots',\n",
       " 'Women Open Toe Flats',\n",
       " 'Women Solid Leather Ballerinas',\n",
       " 'Women Solid Leather Ballerinas',\n",
       " 'Men Textured Leather Formal Slip-Ons',\n",
       " 'Men Solid Leather Formal Loafers',\n",
       " 'Leather Block Heeled Boots',\n",
       " 'Men Textured Leather Formal Slip-On Shoes',\n",
       " 'Leather Kitten Heeled Boots',\n",
       " 'Men Solid Leather Formal Derbys',\n",
       " 'Women Chunky Sneakers',\n",
       " 'Leather Block Heeled Boots with Bows',\n",
       " 'Suede Party High-Top Block Heeled Boots',\n",
       " 'Leather Platform Heeled Boots']"
      ]
     },
     "execution_count": 182,
     "metadata": {},
     "output_type": "execute_result"
    }
   ],
   "source": [
    "shoe_summary=[]\n",
    "for i in summary:\n",
    "    shoe_summary.append(i.text)\n",
    "\n",
    "for i in summary1:\n",
    "    shoe_summary.append(i.text)\n",
    "\n",
    "shoe_summary\n",
    "#len(shoe_summary)"
   ]
  },
  {
   "cell_type": "code",
   "execution_count": 183,
   "id": "66920c3c",
   "metadata": {},
   "outputs": [
    {
     "data": {
      "text/plain": [
       "[<selenium.webdriver.remote.webelement.WebElement (session=\"c40416ad0cb87b083a71ad564657c9a0\", element=\"b7fafc5f-4152-412e-89a0-741cb9a64b11\")>,\n",
       " <selenium.webdriver.remote.webelement.WebElement (session=\"c40416ad0cb87b083a71ad564657c9a0\", element=\"71a96936-3117-4d0b-9620-574124fee1ac\")>,\n",
       " <selenium.webdriver.remote.webelement.WebElement (session=\"c40416ad0cb87b083a71ad564657c9a0\", element=\"fca03482-0036-44ef-8c6b-0e633d6ba3c7\")>,\n",
       " <selenium.webdriver.remote.webelement.WebElement (session=\"c40416ad0cb87b083a71ad564657c9a0\", element=\"a919d6da-4eeb-4855-9e10-239ae7e83bf9\")>,\n",
       " <selenium.webdriver.remote.webelement.WebElement (session=\"c40416ad0cb87b083a71ad564657c9a0\", element=\"e3c3993b-5381-4a0b-bb38-2f7deb9364c7\")>,\n",
       " <selenium.webdriver.remote.webelement.WebElement (session=\"c40416ad0cb87b083a71ad564657c9a0\", element=\"3a56b24d-91a6-4702-85bf-94a964225a06\")>,\n",
       " <selenium.webdriver.remote.webelement.WebElement (session=\"c40416ad0cb87b083a71ad564657c9a0\", element=\"614ef482-380f-4dd1-bf0d-aa55fb9849f4\")>,\n",
       " <selenium.webdriver.remote.webelement.WebElement (session=\"c40416ad0cb87b083a71ad564657c9a0\", element=\"a7f585a3-2741-4ef5-909d-ab80c9c48e6c\")>,\n",
       " <selenium.webdriver.remote.webelement.WebElement (session=\"c40416ad0cb87b083a71ad564657c9a0\", element=\"c9a3422e-1ecc-4d66-8179-168565a1b218\")>,\n",
       " <selenium.webdriver.remote.webelement.WebElement (session=\"c40416ad0cb87b083a71ad564657c9a0\", element=\"11b54864-2ba5-45fe-8496-c40060824215\")>,\n",
       " <selenium.webdriver.remote.webelement.WebElement (session=\"c40416ad0cb87b083a71ad564657c9a0\", element=\"9b0a7b13-a9ea-4512-aae3-56e3e78673cc\")>,\n",
       " <selenium.webdriver.remote.webelement.WebElement (session=\"c40416ad0cb87b083a71ad564657c9a0\", element=\"022fe060-0f1c-4bea-9654-482625e549b9\")>,\n",
       " <selenium.webdriver.remote.webelement.WebElement (session=\"c40416ad0cb87b083a71ad564657c9a0\", element=\"0dda69f1-6bb7-4126-bb62-2f1096c3361a\")>,\n",
       " <selenium.webdriver.remote.webelement.WebElement (session=\"c40416ad0cb87b083a71ad564657c9a0\", element=\"01a4aae9-099c-4eb2-b1db-b93d89c77bc1\")>,\n",
       " <selenium.webdriver.remote.webelement.WebElement (session=\"c40416ad0cb87b083a71ad564657c9a0\", element=\"bc6107cb-ec94-4e43-8ff9-aee318476db6\")>,\n",
       " <selenium.webdriver.remote.webelement.WebElement (session=\"c40416ad0cb87b083a71ad564657c9a0\", element=\"324fba86-d361-4316-a0a3-2c4fe4a4fa47\")>,\n",
       " <selenium.webdriver.remote.webelement.WebElement (session=\"c40416ad0cb87b083a71ad564657c9a0\", element=\"17c347f2-41f0-4264-a8c2-6c46321e8282\")>,\n",
       " <selenium.webdriver.remote.webelement.WebElement (session=\"c40416ad0cb87b083a71ad564657c9a0\", element=\"62d724ce-578a-4fef-a380-b23fd486da13\")>,\n",
       " <selenium.webdriver.remote.webelement.WebElement (session=\"c40416ad0cb87b083a71ad564657c9a0\", element=\"4b435114-7ee3-41f4-9055-2f50ecc4d820\")>,\n",
       " <selenium.webdriver.remote.webelement.WebElement (session=\"c40416ad0cb87b083a71ad564657c9a0\", element=\"a439e2ec-c8e6-4c2e-8548-c059003d83bf\")>,\n",
       " <selenium.webdriver.remote.webelement.WebElement (session=\"c40416ad0cb87b083a71ad564657c9a0\", element=\"72a54895-bb44-46d0-9003-2d577cf7bce1\")>,\n",
       " <selenium.webdriver.remote.webelement.WebElement (session=\"c40416ad0cb87b083a71ad564657c9a0\", element=\"cad50f30-49c9-4da7-a2ac-5dc4fc50e01d\")>,\n",
       " <selenium.webdriver.remote.webelement.WebElement (session=\"c40416ad0cb87b083a71ad564657c9a0\", element=\"ff635a6a-adec-4692-a076-e052b59a2487\")>,\n",
       " <selenium.webdriver.remote.webelement.WebElement (session=\"c40416ad0cb87b083a71ad564657c9a0\", element=\"38ba7078-bfee-4867-a993-7653df0b9d22\")>,\n",
       " <selenium.webdriver.remote.webelement.WebElement (session=\"c40416ad0cb87b083a71ad564657c9a0\", element=\"fe5cc09c-6348-4d2e-9600-076be2c6c356\")>,\n",
       " <selenium.webdriver.remote.webelement.WebElement (session=\"c40416ad0cb87b083a71ad564657c9a0\", element=\"64fe2290-3597-4215-9e26-a4a0e19e8f0e\")>,\n",
       " <selenium.webdriver.remote.webelement.WebElement (session=\"c40416ad0cb87b083a71ad564657c9a0\", element=\"34f35a27-0700-4cd5-ada6-0ca5d43df532\")>,\n",
       " <selenium.webdriver.remote.webelement.WebElement (session=\"c40416ad0cb87b083a71ad564657c9a0\", element=\"743c367b-98ad-453d-9b0d-dc1607ff0c5f\")>,\n",
       " <selenium.webdriver.remote.webelement.WebElement (session=\"c40416ad0cb87b083a71ad564657c9a0\", element=\"6d476629-d448-47cd-8ae0-ab8ad836da33\")>,\n",
       " <selenium.webdriver.remote.webelement.WebElement (session=\"c40416ad0cb87b083a71ad564657c9a0\", element=\"bd9b3460-f219-4c06-a2cb-aa9688f97309\")>,\n",
       " <selenium.webdriver.remote.webelement.WebElement (session=\"c40416ad0cb87b083a71ad564657c9a0\", element=\"91e67bee-cb0d-44d1-a170-e6f7039d2e18\")>,\n",
       " <selenium.webdriver.remote.webelement.WebElement (session=\"c40416ad0cb87b083a71ad564657c9a0\", element=\"0a654567-77cb-40e8-9632-0b50af77fea6\")>,\n",
       " <selenium.webdriver.remote.webelement.WebElement (session=\"c40416ad0cb87b083a71ad564657c9a0\", element=\"501dd0aa-c357-4341-9ab3-31085559f248\")>,\n",
       " <selenium.webdriver.remote.webelement.WebElement (session=\"c40416ad0cb87b083a71ad564657c9a0\", element=\"c40a93f3-8528-41b6-8a08-6a10c1384816\")>,\n",
       " <selenium.webdriver.remote.webelement.WebElement (session=\"c40416ad0cb87b083a71ad564657c9a0\", element=\"2650fcc8-2cd6-436b-b3e0-d87698101ab7\")>,\n",
       " <selenium.webdriver.remote.webelement.WebElement (session=\"c40416ad0cb87b083a71ad564657c9a0\", element=\"aa077e38-8cfa-409a-88ec-85ab319db42c\")>,\n",
       " <selenium.webdriver.remote.webelement.WebElement (session=\"c40416ad0cb87b083a71ad564657c9a0\", element=\"0d48f6e0-a133-46ab-9ec0-f7c2ebfb4e15\")>,\n",
       " <selenium.webdriver.remote.webelement.WebElement (session=\"c40416ad0cb87b083a71ad564657c9a0\", element=\"35b11d92-9fda-45b0-9363-e83945a7cfcc\")>,\n",
       " <selenium.webdriver.remote.webelement.WebElement (session=\"c40416ad0cb87b083a71ad564657c9a0\", element=\"a626bba6-0ffa-44c7-b9a5-0e59dbc47223\")>,\n",
       " <selenium.webdriver.remote.webelement.WebElement (session=\"c40416ad0cb87b083a71ad564657c9a0\", element=\"fac047da-b8a4-41ad-867c-9d7134163dc5\")>,\n",
       " <selenium.webdriver.remote.webelement.WebElement (session=\"c40416ad0cb87b083a71ad564657c9a0\", element=\"d8a89555-c32b-47b3-b137-cea8a427213b\")>,\n",
       " <selenium.webdriver.remote.webelement.WebElement (session=\"c40416ad0cb87b083a71ad564657c9a0\", element=\"88e6824a-0e60-4192-8ebe-13ebe56f6afb\")>,\n",
       " <selenium.webdriver.remote.webelement.WebElement (session=\"c40416ad0cb87b083a71ad564657c9a0\", element=\"2351da71-37fc-4099-9ca5-96e199d44549\")>,\n",
       " <selenium.webdriver.remote.webelement.WebElement (session=\"c40416ad0cb87b083a71ad564657c9a0\", element=\"1cb06898-cda8-4eff-b55f-a998d8e2b38c\")>,\n",
       " <selenium.webdriver.remote.webelement.WebElement (session=\"c40416ad0cb87b083a71ad564657c9a0\", element=\"630898d3-7589-4204-a204-dbad3c2d8f1b\")>,\n",
       " <selenium.webdriver.remote.webelement.WebElement (session=\"c40416ad0cb87b083a71ad564657c9a0\", element=\"03a4844b-61a1-4c17-88db-72cecd21290f\")>,\n",
       " <selenium.webdriver.remote.webelement.WebElement (session=\"c40416ad0cb87b083a71ad564657c9a0\", element=\"0f49843e-8234-4138-affa-c3d5c0e8ff8b\")>,\n",
       " <selenium.webdriver.remote.webelement.WebElement (session=\"c40416ad0cb87b083a71ad564657c9a0\", element=\"29247d7d-7578-4c6a-abcd-3dba5382ea3a\")>,\n",
       " <selenium.webdriver.remote.webelement.WebElement (session=\"c40416ad0cb87b083a71ad564657c9a0\", element=\"3b186aa0-88fc-466d-9901-56ae26cae01e\")>,\n",
       " <selenium.webdriver.remote.webelement.WebElement (session=\"c40416ad0cb87b083a71ad564657c9a0\", element=\"4ec5de6e-5606-4d43-85ad-c4c6f2a59f6a\")>]"
      ]
     },
     "execution_count": 183,
     "metadata": {},
     "output_type": "execute_result"
    }
   ],
   "source": [
    "price=driver.find_elements_by_xpath('//div[@class=\"product-price\"]')\n",
    "price1=driver.find_elements_by_xpath('//div[@class=\"product-price\"]')\n",
    "price1"
   ]
  },
  {
   "cell_type": "code",
   "execution_count": 184,
   "id": "60189999",
   "metadata": {},
   "outputs": [
    {
     "data": {
      "text/plain": [
       "['Rs. 8449Rs. 12999(35% OFF)',\n",
       " 'Rs. 7149Rs. 12999(45% OFF)',\n",
       " 'Rs. 7499Rs. 9999(25% OFF)',\n",
       " 'Rs. 9810Rs. 10900(10% OFF)',\n",
       " 'Rs. 7799Rs. 12999(40% OFF)',\n",
       " 'Rs. 7999Rs. 9999(20% OFF)',\n",
       " 'Rs. 11999',\n",
       " 'Rs. 9999',\n",
       " 'Rs. 7999Rs. 9999(20% OFF)',\n",
       " 'Rs. 8399Rs. 11999(30% OFF)',\n",
       " 'Rs. 10710Rs. 11900(10% OFF)',\n",
       " 'Rs. 8990',\n",
       " 'Rs. 8990',\n",
       " 'Rs. 7500Rs. 9500(Rs. 2000 OFF)',\n",
       " 'Rs. 8399Rs. 11999(30% OFF)',\n",
       " 'Rs. 7149Rs. 10999(35% OFF)',\n",
       " 'Rs. 7990',\n",
       " 'Rs. 13410Rs. 14900(10% OFF)',\n",
       " 'Rs. 12150Rs. 13500(10% OFF)',\n",
       " 'Rs. 9546Rs. 12900(26% OFF)',\n",
       " 'Rs. 8999',\n",
       " 'Rs. 7149Rs. 10999(35% OFF)',\n",
       " 'Rs. 7999',\n",
       " 'Rs. 7199Rs. 8999(20% OFF)',\n",
       " 'Rs. 7990',\n",
       " 'Rs. 7990',\n",
       " 'Rs. 7699',\n",
       " 'Rs. 8499',\n",
       " 'Rs. 8490',\n",
       " 'Rs. 8990',\n",
       " 'Rs. 8990',\n",
       " 'Rs. 9999',\n",
       " 'Rs. 8990',\n",
       " 'Rs. 7999',\n",
       " 'Rs. 10990',\n",
       " 'Rs. 7499',\n",
       " 'Rs. 10710Rs. 11900(10% OFF)',\n",
       " 'Rs. 11999',\n",
       " 'Rs. 8999',\n",
       " 'Rs. 13999',\n",
       " 'Rs. 8990',\n",
       " 'Rs. 7999',\n",
       " 'Rs. 8550Rs. 9500(Rs. 950 OFF)',\n",
       " 'Rs. 9999',\n",
       " 'Rs. 8910Rs. 9900(Rs. 990 OFF)',\n",
       " 'Rs. 8999',\n",
       " 'Rs. 9999',\n",
       " 'Rs. 12510Rs. 13900(10% OFF)',\n",
       " 'Rs. 9450Rs. 10500(10% OFF)',\n",
       " 'Rs. 9810Rs. 10900(10% OFF)',\n",
       " 'Rs. 8449Rs. 12999(35% OFF)',\n",
       " 'Rs. 7149Rs. 12999(45% OFF)',\n",
       " 'Rs. 7499Rs. 9999(25% OFF)',\n",
       " 'Rs. 9810Rs. 10900(10% OFF)',\n",
       " 'Rs. 7799Rs. 12999(40% OFF)',\n",
       " 'Rs. 7999Rs. 9999(20% OFF)',\n",
       " 'Rs. 11999',\n",
       " 'Rs. 9999',\n",
       " 'Rs. 7999Rs. 9999(20% OFF)',\n",
       " 'Rs. 8399Rs. 11999(30% OFF)',\n",
       " 'Rs. 10710Rs. 11900(10% OFF)',\n",
       " 'Rs. 8990',\n",
       " 'Rs. 8990',\n",
       " 'Rs. 7500Rs. 9500(Rs. 2000 OFF)',\n",
       " 'Rs. 8399Rs. 11999(30% OFF)',\n",
       " 'Rs. 7149Rs. 10999(35% OFF)',\n",
       " 'Rs. 7990',\n",
       " 'Rs. 13410Rs. 14900(10% OFF)',\n",
       " 'Rs. 12150Rs. 13500(10% OFF)',\n",
       " 'Rs. 9546Rs. 12900(26% OFF)',\n",
       " 'Rs. 8999',\n",
       " 'Rs. 7149Rs. 10999(35% OFF)',\n",
       " 'Rs. 7999',\n",
       " 'Rs. 7199Rs. 8999(20% OFF)',\n",
       " 'Rs. 7990',\n",
       " 'Rs. 7990',\n",
       " 'Rs. 7699',\n",
       " 'Rs. 8499',\n",
       " 'Rs. 8490',\n",
       " 'Rs. 8990',\n",
       " 'Rs. 8990',\n",
       " 'Rs. 9999',\n",
       " 'Rs. 8990',\n",
       " 'Rs. 7999',\n",
       " 'Rs. 10990',\n",
       " 'Rs. 7499',\n",
       " 'Rs. 10710Rs. 11900(10% OFF)',\n",
       " 'Rs. 11999',\n",
       " 'Rs. 8999',\n",
       " 'Rs. 13999',\n",
       " 'Rs. 8990',\n",
       " 'Rs. 7999',\n",
       " 'Rs. 8550Rs. 9500(Rs. 950 OFF)',\n",
       " 'Rs. 9999',\n",
       " 'Rs. 8910Rs. 9900(Rs. 990 OFF)',\n",
       " 'Rs. 8999',\n",
       " 'Rs. 9999',\n",
       " 'Rs. 12510Rs. 13900(10% OFF)',\n",
       " 'Rs. 9450Rs. 10500(10% OFF)',\n",
       " 'Rs. 9810Rs. 10900(10% OFF)']"
      ]
     },
     "execution_count": 184,
     "metadata": {},
     "output_type": "execute_result"
    }
   ],
   "source": [
    "shoe_price=[]\n",
    "for i in price:\n",
    "    shoe_price.append(i.text)\n",
    "    \n",
    "\n",
    "for i in price1:\n",
    "    shoe_price.append(i.text)\n",
    "\n",
    "shoe_price\n"
   ]
  },
  {
   "cell_type": "code",
   "execution_count": 185,
   "id": "71dfb0f4",
   "metadata": {},
   "outputs": [
    {
     "data": {
      "text/plain": [
       "100"
      ]
     },
     "execution_count": 185,
     "metadata": {},
     "output_type": "execute_result"
    }
   ],
   "source": [
    "len(shoe_price)"
   ]
  },
  {
   "cell_type": "code",
   "execution_count": 186,
   "id": "eb7c94d6",
   "metadata": {},
   "outputs": [
    {
     "data": {
      "text/html": [
       "<div>\n",
       "<style scoped>\n",
       "    .dataframe tbody tr th:only-of-type {\n",
       "        vertical-align: middle;\n",
       "    }\n",
       "\n",
       "    .dataframe tbody tr th {\n",
       "        vertical-align: top;\n",
       "    }\n",
       "\n",
       "    .dataframe thead th {\n",
       "        text-align: right;\n",
       "    }\n",
       "</style>\n",
       "<table border=\"1\" class=\"dataframe\">\n",
       "  <thead>\n",
       "    <tr style=\"text-align: right;\">\n",
       "      <th></th>\n",
       "      <th>Product Name</th>\n",
       "      <th>Product Summary</th>\n",
       "      <th>Shoes Price</th>\n",
       "    </tr>\n",
       "  </thead>\n",
       "  <tbody>\n",
       "    <tr>\n",
       "      <th>0</th>\n",
       "      <td>Puma</td>\n",
       "      <td>Men Magnify Nitro Running</td>\n",
       "      <td>Rs. 8449Rs. 12999(35% OFF)</td>\n",
       "    </tr>\n",
       "    <tr>\n",
       "      <th>1</th>\n",
       "      <td>Puma</td>\n",
       "      <td>Men Running Shoes</td>\n",
       "      <td>Rs. 7149Rs. 12999(45% OFF)</td>\n",
       "    </tr>\n",
       "    <tr>\n",
       "      <th>2</th>\n",
       "      <td>Puma</td>\n",
       "      <td>Men Electrify Nitro Running</td>\n",
       "      <td>Rs. 7499Rs. 9999(25% OFF)</td>\n",
       "    </tr>\n",
       "    <tr>\n",
       "      <th>3</th>\n",
       "      <td>Saint G</td>\n",
       "      <td>Men Mid-Top Chelsea Boots</td>\n",
       "      <td>Rs. 9810Rs. 10900(10% OFF)</td>\n",
       "    </tr>\n",
       "    <tr>\n",
       "      <th>4</th>\n",
       "      <td>Puma</td>\n",
       "      <td>Women Magnify Nitro Shoes</td>\n",
       "      <td>Rs. 7799Rs. 12999(40% OFF)</td>\n",
       "    </tr>\n",
       "    <tr>\n",
       "      <th>...</th>\n",
       "      <td>...</td>\n",
       "      <td>...</td>\n",
       "      <td>...</td>\n",
       "    </tr>\n",
       "    <tr>\n",
       "      <th>95</th>\n",
       "      <td>Pavers England</td>\n",
       "      <td>Men Solid Leather Formal Derbys</td>\n",
       "      <td>Rs. 8999</td>\n",
       "    </tr>\n",
       "    <tr>\n",
       "      <th>96</th>\n",
       "      <td>Geox</td>\n",
       "      <td>Women Chunky Sneakers</td>\n",
       "      <td>Rs. 9999</td>\n",
       "    </tr>\n",
       "    <tr>\n",
       "      <th>97</th>\n",
       "      <td>Saint G</td>\n",
       "      <td>Leather Block Heeled Boots with Bows</td>\n",
       "      <td>Rs. 12510Rs. 13900(10% OFF)</td>\n",
       "    </tr>\n",
       "    <tr>\n",
       "      <th>98</th>\n",
       "      <td>Saint G</td>\n",
       "      <td>Suede Party High-Top Block Heeled Boots</td>\n",
       "      <td>Rs. 9450Rs. 10500(10% OFF)</td>\n",
       "    </tr>\n",
       "    <tr>\n",
       "      <th>99</th>\n",
       "      <td>Saint G</td>\n",
       "      <td>Leather Platform Heeled Boots</td>\n",
       "      <td>Rs. 9810Rs. 10900(10% OFF)</td>\n",
       "    </tr>\n",
       "  </tbody>\n",
       "</table>\n",
       "<p>100 rows × 3 columns</p>\n",
       "</div>"
      ],
      "text/plain": [
       "      Product Name                          Product Summary  \\\n",
       "0             Puma                Men Magnify Nitro Running   \n",
       "1             Puma                        Men Running Shoes   \n",
       "2             Puma              Men Electrify Nitro Running   \n",
       "3          Saint G                Men Mid-Top Chelsea Boots   \n",
       "4             Puma                Women Magnify Nitro Shoes   \n",
       "..             ...                                      ...   \n",
       "95  Pavers England          Men Solid Leather Formal Derbys   \n",
       "96            Geox                    Women Chunky Sneakers   \n",
       "97         Saint G     Leather Block Heeled Boots with Bows   \n",
       "98         Saint G  Suede Party High-Top Block Heeled Boots   \n",
       "99         Saint G            Leather Platform Heeled Boots   \n",
       "\n",
       "                    Shoes Price  \n",
       "0    Rs. 8449Rs. 12999(35% OFF)  \n",
       "1    Rs. 7149Rs. 12999(45% OFF)  \n",
       "2     Rs. 7499Rs. 9999(25% OFF)  \n",
       "3    Rs. 9810Rs. 10900(10% OFF)  \n",
       "4    Rs. 7799Rs. 12999(40% OFF)  \n",
       "..                          ...  \n",
       "95                     Rs. 8999  \n",
       "96                     Rs. 9999  \n",
       "97  Rs. 12510Rs. 13900(10% OFF)  \n",
       "98   Rs. 9450Rs. 10500(10% OFF)  \n",
       "99   Rs. 9810Rs. 10900(10% OFF)  \n",
       "\n",
       "[100 rows x 3 columns]"
      ]
     },
     "execution_count": 186,
     "metadata": {},
     "output_type": "execute_result"
    }
   ],
   "source": [
    "myntra_shoe=pd.DataFrame({\"Product Name\":shoes,\"Product Summary\":shoe_summary ,\"Shoes Price\":shoe_price})\n",
    "myntra_shoe"
   ]
  },
  {
   "cell_type": "markdown",
   "id": "a5be20d2",
   "metadata": {},
   "source": [
    "# 7-Flipkart-Sneakers"
   ]
  },
  {
   "cell_type": "code",
   "execution_count": 187,
   "id": "6d260a26",
   "metadata": {},
   "outputs": [
    {
     "data": {
      "text/plain": [
       "<selenium.webdriver.chrome.webdriver.WebDriver (session=\"2ddb968c7341d0e50ceff29fcb5848c2\")>"
      ]
     },
     "execution_count": 187,
     "metadata": {},
     "output_type": "execute_result"
    }
   ],
   "source": [
    "driver=webdriver.Chrome(r'C:\\Users\\User\\Downloads\\Fliprobo\\chromedriver_win32\\chromedriver.exe')\n",
    "driver"
   ]
  },
  {
   "cell_type": "code",
   "execution_count": 188,
   "id": "50673d8a",
   "metadata": {},
   "outputs": [],
   "source": [
    "url='https://www.flipkart.com/'\n",
    "driver.get(url)"
   ]
  },
  {
   "cell_type": "code",
   "execution_count": 189,
   "id": "371e17ba",
   "metadata": {},
   "outputs": [
    {
     "data": {
      "text/plain": [
       "<selenium.webdriver.remote.webelement.WebElement (session=\"2ddb968c7341d0e50ceff29fcb5848c2\", element=\"ebbc7777-60c6-49a4-a879-f5fa05ef1bf7\")>"
      ]
     },
     "execution_count": 189,
     "metadata": {},
     "output_type": "execute_result"
    }
   ],
   "source": [
    "product=driver.find_element_by_xpath('/html/body/div[1]/div/div[1]/div[1]/div[2]/div[2]/form/div/div/input')\n",
    "product"
   ]
  },
  {
   "cell_type": "code",
   "execution_count": 190,
   "id": "945bf80b",
   "metadata": {},
   "outputs": [],
   "source": [
    "product.send_keys('sneakers')"
   ]
  },
  {
   "cell_type": "code",
   "execution_count": 198,
   "id": "32a60e83",
   "metadata": {},
   "outputs": [
    {
     "data": {
      "text/plain": [
       "<selenium.webdriver.remote.webelement.WebElement (session=\"2ddb968c7341d0e50ceff29fcb5848c2\", element=\"348f937f-39db-406f-a91b-f3b08daea50b\")>"
      ]
     },
     "execution_count": 198,
     "metadata": {},
     "output_type": "execute_result"
    }
   ],
   "source": [
    "search_btn=driver.find_element_by_xpath('/html/body/div[1]/div/div[1]/div[1]/div[2]/div[2]/form/div/button')\n",
    "search_btn"
   ]
  },
  {
   "cell_type": "code",
   "execution_count": 199,
   "id": "3a773877",
   "metadata": {},
   "outputs": [],
   "source": [
    "search_btn.click()"
   ]
  },
  {
   "cell_type": "code",
   "execution_count": 315,
   "id": "f5a64f6b",
   "metadata": {},
   "outputs": [
    {
     "data": {
      "text/plain": [
       "[<selenium.webdriver.remote.webelement.WebElement (session=\"2ddb968c7341d0e50ceff29fcb5848c2\", element=\"0e84ca71-7130-4df7-b355-5919ea7e0677\")>,\n",
       " <selenium.webdriver.remote.webelement.WebElement (session=\"2ddb968c7341d0e50ceff29fcb5848c2\", element=\"06d4a7ce-5982-48b7-8e80-fec27a3ef816\")>,\n",
       " <selenium.webdriver.remote.webelement.WebElement (session=\"2ddb968c7341d0e50ceff29fcb5848c2\", element=\"f7a1c0e8-5b7e-48a2-8d10-85922d7b4aec\")>,\n",
       " <selenium.webdriver.remote.webelement.WebElement (session=\"2ddb968c7341d0e50ceff29fcb5848c2\", element=\"c67a9503-2658-4889-8629-8301e802d126\")>,\n",
       " <selenium.webdriver.remote.webelement.WebElement (session=\"2ddb968c7341d0e50ceff29fcb5848c2\", element=\"174df988-a055-40d1-a49b-95fdf345b7f7\")>,\n",
       " <selenium.webdriver.remote.webelement.WebElement (session=\"2ddb968c7341d0e50ceff29fcb5848c2\", element=\"811f8405-73ee-4798-9d21-eff5eb13fafd\")>,\n",
       " <selenium.webdriver.remote.webelement.WebElement (session=\"2ddb968c7341d0e50ceff29fcb5848c2\", element=\"7e68662c-8ef9-4ece-a996-852164cd714c\")>,\n",
       " <selenium.webdriver.remote.webelement.WebElement (session=\"2ddb968c7341d0e50ceff29fcb5848c2\", element=\"c1df0e22-b10b-4e4a-b2ba-64e09669dd5b\")>,\n",
       " <selenium.webdriver.remote.webelement.WebElement (session=\"2ddb968c7341d0e50ceff29fcb5848c2\", element=\"ef507f5f-9070-4416-bd22-2d25f97032a3\")>,\n",
       " <selenium.webdriver.remote.webelement.WebElement (session=\"2ddb968c7341d0e50ceff29fcb5848c2\", element=\"9bca0ae8-2580-4bce-96f4-12811c9221c3\")>,\n",
       " <selenium.webdriver.remote.webelement.WebElement (session=\"2ddb968c7341d0e50ceff29fcb5848c2\", element=\"92dba47e-f708-427b-af7a-ea017a63a328\")>,\n",
       " <selenium.webdriver.remote.webelement.WebElement (session=\"2ddb968c7341d0e50ceff29fcb5848c2\", element=\"48243f4f-e1e1-4fe8-9f46-fc09be06e37b\")>,\n",
       " <selenium.webdriver.remote.webelement.WebElement (session=\"2ddb968c7341d0e50ceff29fcb5848c2\", element=\"7e1601fd-3a92-4f59-a68f-16ac8b1f9399\")>,\n",
       " <selenium.webdriver.remote.webelement.WebElement (session=\"2ddb968c7341d0e50ceff29fcb5848c2\", element=\"17b7c212-443f-4dd2-bb5a-274b0e040523\")>,\n",
       " <selenium.webdriver.remote.webelement.WebElement (session=\"2ddb968c7341d0e50ceff29fcb5848c2\", element=\"2f06468a-4309-4d5a-8a31-321b92838a82\")>,\n",
       " <selenium.webdriver.remote.webelement.WebElement (session=\"2ddb968c7341d0e50ceff29fcb5848c2\", element=\"1f765260-fd8a-49ad-993f-583cd49e91d2\")>,\n",
       " <selenium.webdriver.remote.webelement.WebElement (session=\"2ddb968c7341d0e50ceff29fcb5848c2\", element=\"220aab45-f202-4b06-80ad-c9cbaa433039\")>,\n",
       " <selenium.webdriver.remote.webelement.WebElement (session=\"2ddb968c7341d0e50ceff29fcb5848c2\", element=\"f797c1b6-4a78-4b7c-bd96-b36372f2abdf\")>,\n",
       " <selenium.webdriver.remote.webelement.WebElement (session=\"2ddb968c7341d0e50ceff29fcb5848c2\", element=\"7a7b2556-a9ea-4aee-993f-24f942d217e4\")>]"
      ]
     },
     "execution_count": 315,
     "metadata": {},
     "output_type": "execute_result"
    }
   ],
   "source": [
    "sneaker=driver.find_elements_by_xpath('//div[@class=\"_2WkVRV\"]')\n",
    "sneaker\n",
    "sneaker2=driver.find_elements_by_xpath('//div[@class=\"_2WkVRV\"]')\n",
    "sneaker2\n",
    "sneaker3=driver.find_elements_by_xpath('//div[@class=\"_2WkVRV\"]')[:19]\n",
    "sneaker3\n"
   ]
  },
  {
   "cell_type": "code",
   "execution_count": 316,
   "id": "4dc5adcc",
   "metadata": {},
   "outputs": [
    {
     "data": {
      "text/plain": [
       "['RODDICK SHOES',\n",
       " 'SPARX',\n",
       " 'PUMA',\n",
       " 'WHITE WALKERS',\n",
       " 'D-SNEAKERZ',\n",
       " 'KANEGGYE',\n",
       " 'Vellinto',\n",
       " 'WHITE WALKERS',\n",
       " 'Echor',\n",
       " 'Deals4you',\n",
       " 'VENDOZ',\n",
       " 'PUMA',\n",
       " 'Robbie jones',\n",
       " 'BRUTON',\n",
       " 'KNIGHT WALKERS',\n",
       " 'Viv',\n",
       " 'FEWROK',\n",
       " 'CLYMB',\n",
       " 'ASIAN',\n",
       " 'ZAPPY',\n",
       " 'HOC',\n",
       " 'LE GREEM',\n",
       " 'Xentex',\n",
       " 'Furo',\n",
       " 'Robbie jones',\n",
       " 'BIRDE',\n",
       " 'BRUTON',\n",
       " 'SORT',\n",
       " 'CALCADOS',\n",
       " 'SPARX',\n",
       " 'FLEXIFEET',\n",
       " 'PUMA',\n",
       " 'aadi',\n",
       " 'Zorth',\n",
       " 'Airland',\n",
       " 'Absolutee shoes',\n",
       " 'Kirjak',\n",
       " 'WHITE WALKERS',\n",
       " 'Tying',\n",
       " 'Amy Blake',\n",
       " 'RODDICK SHOES',\n",
       " 'SPARX',\n",
       " 'PUMA',\n",
       " 'WHITE WALKERS',\n",
       " 'D-SNEAKERZ',\n",
       " 'KANEGGYE',\n",
       " 'Vellinto',\n",
       " 'WHITE WALKERS',\n",
       " 'Echor',\n",
       " 'Deals4you',\n",
       " 'VENDOZ',\n",
       " 'PUMA',\n",
       " 'Robbie jones',\n",
       " 'BRUTON',\n",
       " 'KNIGHT WALKERS',\n",
       " 'Viv',\n",
       " 'FEWROK',\n",
       " 'CLYMB',\n",
       " 'ASIAN',\n",
       " 'ZAPPY',\n",
       " 'HOC',\n",
       " 'LE GREEM',\n",
       " 'Xentex',\n",
       " 'Furo',\n",
       " 'Robbie jones',\n",
       " 'BIRDE',\n",
       " 'BRUTON',\n",
       " 'SORT',\n",
       " 'CALCADOS',\n",
       " 'SPARX',\n",
       " 'FLEXIFEET',\n",
       " 'PUMA',\n",
       " 'aadi',\n",
       " 'Zorth',\n",
       " 'Airland',\n",
       " 'Absolutee shoes',\n",
       " 'Kirjak',\n",
       " 'WHITE WALKERS',\n",
       " 'Tying',\n",
       " 'Amy Blake',\n",
       " 'RODDICK SHOES',\n",
       " 'SPARX',\n",
       " 'PUMA',\n",
       " 'WHITE WALKERS',\n",
       " 'D-SNEAKERZ',\n",
       " 'KANEGGYE',\n",
       " 'Vellinto',\n",
       " 'WHITE WALKERS',\n",
       " 'Echor',\n",
       " 'Deals4you']"
      ]
     },
     "execution_count": 316,
     "metadata": {},
     "output_type": "execute_result"
    }
   ],
   "source": [
    "sneakers=[]\n",
    "for i in sneaker:\n",
    "    sneakers.append(i.text)\n",
    "for i in sneaker2:\n",
    "    sneakers.append(i.text)\n",
    "for i in sneaker3:\n",
    "    sneakers.append(i.text)\n",
    "sneakers\n",
    "len(sneakers)\n",
    "sneakers[:90]"
   ]
  },
  {
   "cell_type": "code",
   "execution_count": 313,
   "id": "82a374bc",
   "metadata": {},
   "outputs": [
    {
     "data": {
      "text/plain": [
       "[<selenium.webdriver.remote.webelement.WebElement (session=\"2ddb968c7341d0e50ceff29fcb5848c2\", element=\"572afc59-3c4d-48de-9755-e3c626c56765\")>,\n",
       " <selenium.webdriver.remote.webelement.WebElement (session=\"2ddb968c7341d0e50ceff29fcb5848c2\", element=\"c4ba78b3-c1bc-4f5f-ab15-c6ba1b0abec9\")>,\n",
       " <selenium.webdriver.remote.webelement.WebElement (session=\"2ddb968c7341d0e50ceff29fcb5848c2\", element=\"3e74f4eb-ee59-4694-a98c-3c0839cde5a3\")>,\n",
       " <selenium.webdriver.remote.webelement.WebElement (session=\"2ddb968c7341d0e50ceff29fcb5848c2\", element=\"a9d5a0c9-28b0-4199-9d33-0a605cc4ac9c\")>,\n",
       " <selenium.webdriver.remote.webelement.WebElement (session=\"2ddb968c7341d0e50ceff29fcb5848c2\", element=\"4fbb8de1-7e9b-4c01-af87-e4b32ffac276\")>,\n",
       " <selenium.webdriver.remote.webelement.WebElement (session=\"2ddb968c7341d0e50ceff29fcb5848c2\", element=\"0dff11af-1a3b-4ac9-be7b-d90a5e2cb143\")>,\n",
       " <selenium.webdriver.remote.webelement.WebElement (session=\"2ddb968c7341d0e50ceff29fcb5848c2\", element=\"03d38d14-4df2-48ee-b5b2-1123521c44f7\")>,\n",
       " <selenium.webdriver.remote.webelement.WebElement (session=\"2ddb968c7341d0e50ceff29fcb5848c2\", element=\"b667f0c5-c8b7-4747-a543-0ce50a54e2b2\")>,\n",
       " <selenium.webdriver.remote.webelement.WebElement (session=\"2ddb968c7341d0e50ceff29fcb5848c2\", element=\"1809c15c-766b-425b-a0ea-51acf4fdcce2\")>,\n",
       " <selenium.webdriver.remote.webelement.WebElement (session=\"2ddb968c7341d0e50ceff29fcb5848c2\", element=\"d9afdc33-31df-41ed-860e-9afaa4be8282\")>,\n",
       " <selenium.webdriver.remote.webelement.WebElement (session=\"2ddb968c7341d0e50ceff29fcb5848c2\", element=\"be5dbb94-1449-41dc-9c98-f8837e4c315e\")>,\n",
       " <selenium.webdriver.remote.webelement.WebElement (session=\"2ddb968c7341d0e50ceff29fcb5848c2\", element=\"fdac0983-de35-4c9c-9ae9-aa754fb1e340\")>,\n",
       " <selenium.webdriver.remote.webelement.WebElement (session=\"2ddb968c7341d0e50ceff29fcb5848c2\", element=\"b25b367d-ebf2-4687-b35c-e232293c87ea\")>,\n",
       " <selenium.webdriver.remote.webelement.WebElement (session=\"2ddb968c7341d0e50ceff29fcb5848c2\", element=\"b0a499fd-e2cc-4679-9f3d-260ffa110823\")>,\n",
       " <selenium.webdriver.remote.webelement.WebElement (session=\"2ddb968c7341d0e50ceff29fcb5848c2\", element=\"23704bac-788d-4b93-81bb-3b86f9153494\")>,\n",
       " <selenium.webdriver.remote.webelement.WebElement (session=\"2ddb968c7341d0e50ceff29fcb5848c2\", element=\"3a3c28d3-6053-4976-b4f1-753276dc5650\")>,\n",
       " <selenium.webdriver.remote.webelement.WebElement (session=\"2ddb968c7341d0e50ceff29fcb5848c2\", element=\"495dd062-7d47-43bd-a865-4c8ed3005db6\")>,\n",
       " <selenium.webdriver.remote.webelement.WebElement (session=\"2ddb968c7341d0e50ceff29fcb5848c2\", element=\"d0bf8c73-e7c8-4262-95cb-a959f9e80442\")>,\n",
       " <selenium.webdriver.remote.webelement.WebElement (session=\"2ddb968c7341d0e50ceff29fcb5848c2\", element=\"96f58696-af96-4922-91c7-22a143b20b0a\")>,\n",
       " <selenium.webdriver.remote.webelement.WebElement (session=\"2ddb968c7341d0e50ceff29fcb5848c2\", element=\"114013d5-4eb6-46ad-91e4-637e8fa5aad9\")>,\n",
       " <selenium.webdriver.remote.webelement.WebElement (session=\"2ddb968c7341d0e50ceff29fcb5848c2\", element=\"326c190a-5d42-4727-85ab-826c051d7087\")>,\n",
       " <selenium.webdriver.remote.webelement.WebElement (session=\"2ddb968c7341d0e50ceff29fcb5848c2\", element=\"b9f4169d-7e32-4a96-9795-63c770b70295\")>,\n",
       " <selenium.webdriver.remote.webelement.WebElement (session=\"2ddb968c7341d0e50ceff29fcb5848c2\", element=\"2ebec826-cd01-488f-8122-9f2e67b6267f\")>,\n",
       " <selenium.webdriver.remote.webelement.WebElement (session=\"2ddb968c7341d0e50ceff29fcb5848c2\", element=\"2e4be474-8a2d-428d-87dd-f0f4f2aee5b9\")>,\n",
       " <selenium.webdriver.remote.webelement.WebElement (session=\"2ddb968c7341d0e50ceff29fcb5848c2\", element=\"c59cbf8d-39a4-4713-8a71-f5440545381e\")>,\n",
       " <selenium.webdriver.remote.webelement.WebElement (session=\"2ddb968c7341d0e50ceff29fcb5848c2\", element=\"2d6ca9ef-e06d-4f32-895e-74539d2e4974\")>,\n",
       " <selenium.webdriver.remote.webelement.WebElement (session=\"2ddb968c7341d0e50ceff29fcb5848c2\", element=\"4ea8d622-c533-476d-b673-8ac31e232c37\")>,\n",
       " <selenium.webdriver.remote.webelement.WebElement (session=\"2ddb968c7341d0e50ceff29fcb5848c2\", element=\"0a093e1b-bb43-4894-b119-abd15edbf993\")>,\n",
       " <selenium.webdriver.remote.webelement.WebElement (session=\"2ddb968c7341d0e50ceff29fcb5848c2\", element=\"a9e023be-7fc5-4ac5-bc12-7f2f9cd5c80d\")>,\n",
       " <selenium.webdriver.remote.webelement.WebElement (session=\"2ddb968c7341d0e50ceff29fcb5848c2\", element=\"5707a54c-6432-4283-82ad-87ddcd44262b\")>,\n",
       " <selenium.webdriver.remote.webelement.WebElement (session=\"2ddb968c7341d0e50ceff29fcb5848c2\", element=\"6c5bd413-465a-4886-ab7a-203401d8abe8\")>,\n",
       " <selenium.webdriver.remote.webelement.WebElement (session=\"2ddb968c7341d0e50ceff29fcb5848c2\", element=\"1e6ec635-94c0-4907-9c2d-df7be0f8c428\")>,\n",
       " <selenium.webdriver.remote.webelement.WebElement (session=\"2ddb968c7341d0e50ceff29fcb5848c2\", element=\"f2b780b1-dc62-49e7-98b6-da1953c304aa\")>]"
      ]
     },
     "execution_count": 313,
     "metadata": {},
     "output_type": "execute_result"
    }
   ],
   "source": [
    "product_description=driver.find_elements_by_xpath('//a[@class=\"IRpwTa\"]')\n",
    "product_description\n",
    "\n",
    "product_description2=driver.find_elements_by_xpath('//a[@class=\"IRpwTa\"]')\n",
    "product_description2\n",
    "\n",
    "product_description3=driver.find_elements_by_xpath('//a[@class=\"IRpwTa\"]')\n",
    "product_description3\n"
   ]
  },
  {
   "cell_type": "code",
   "execution_count": 314,
   "id": "399fcbb0",
   "metadata": {},
   "outputs": [
    {
     "data": {
      "text/plain": [
       "99"
      ]
     },
     "execution_count": 314,
     "metadata": {},
     "output_type": "execute_result"
    }
   ],
   "source": [
    "product_descriptions=[]\n",
    "\n",
    "for i in product_description:\n",
    "    product_descriptions.append(i.text)\n",
    "\n",
    "for i in product_description2:\n",
    "    product_descriptions.append(i.text)\n",
    "\n",
    "for i in product_description3:\n",
    "    product_descriptions.append(i.text)\n",
    "\n",
    "product_descriptions\n",
    "len(product_descriptions)\n"
   ]
  },
  {
   "cell_type": "code",
   "execution_count": 317,
   "id": "7c388c7a",
   "metadata": {},
   "outputs": [
    {
     "data": {
      "text/plain": [
       "[<selenium.webdriver.remote.webelement.WebElement (session=\"2ddb968c7341d0e50ceff29fcb5848c2\", element=\"e0779c26-68b0-4d12-b881-19baaebfaca3\")>,\n",
       " <selenium.webdriver.remote.webelement.WebElement (session=\"2ddb968c7341d0e50ceff29fcb5848c2\", element=\"b0d7e5f1-c048-47f3-a1a9-b36af7275b6f\")>,\n",
       " <selenium.webdriver.remote.webelement.WebElement (session=\"2ddb968c7341d0e50ceff29fcb5848c2\", element=\"55a18c71-d54b-4474-9802-f82c3ab17889\")>,\n",
       " <selenium.webdriver.remote.webelement.WebElement (session=\"2ddb968c7341d0e50ceff29fcb5848c2\", element=\"f61484c0-0492-4b2a-87f1-c40a4168d79d\")>,\n",
       " <selenium.webdriver.remote.webelement.WebElement (session=\"2ddb968c7341d0e50ceff29fcb5848c2\", element=\"a3d79c72-e85a-4662-bacb-51f986416bd8\")>,\n",
       " <selenium.webdriver.remote.webelement.WebElement (session=\"2ddb968c7341d0e50ceff29fcb5848c2\", element=\"1e5b090b-7282-4a25-a79e-426451ebccdb\")>,\n",
       " <selenium.webdriver.remote.webelement.WebElement (session=\"2ddb968c7341d0e50ceff29fcb5848c2\", element=\"ddeca1e6-b179-45f9-bbff-a2e6044e3e79\")>,\n",
       " <selenium.webdriver.remote.webelement.WebElement (session=\"2ddb968c7341d0e50ceff29fcb5848c2\", element=\"3c4dd858-303d-4656-808f-19f62f5b0b14\")>,\n",
       " <selenium.webdriver.remote.webelement.WebElement (session=\"2ddb968c7341d0e50ceff29fcb5848c2\", element=\"ba0798e8-21c0-4f6c-be3b-af9b12e14f3a\")>,\n",
       " <selenium.webdriver.remote.webelement.WebElement (session=\"2ddb968c7341d0e50ceff29fcb5848c2\", element=\"ffd9b85a-aa72-4d40-bcd0-9abf1ed51ac9\")>,\n",
       " <selenium.webdriver.remote.webelement.WebElement (session=\"2ddb968c7341d0e50ceff29fcb5848c2\", element=\"65f739df-d5e4-45ac-b8bd-294d862d5e4f\")>,\n",
       " <selenium.webdriver.remote.webelement.WebElement (session=\"2ddb968c7341d0e50ceff29fcb5848c2\", element=\"f27fe18f-6c93-4a3c-8d03-baec8b2aee4a\")>,\n",
       " <selenium.webdriver.remote.webelement.WebElement (session=\"2ddb968c7341d0e50ceff29fcb5848c2\", element=\"8da3ff91-4eb4-4f78-a22d-25cafdb7d69e\")>,\n",
       " <selenium.webdriver.remote.webelement.WebElement (session=\"2ddb968c7341d0e50ceff29fcb5848c2\", element=\"48436e24-01c6-4a8d-b5ea-114a324bf737\")>,\n",
       " <selenium.webdriver.remote.webelement.WebElement (session=\"2ddb968c7341d0e50ceff29fcb5848c2\", element=\"5eadd152-2acd-45c8-8499-23d78574b00c\")>,\n",
       " <selenium.webdriver.remote.webelement.WebElement (session=\"2ddb968c7341d0e50ceff29fcb5848c2\", element=\"4e904be4-22ab-48ac-9cf2-0686a68e7770\")>,\n",
       " <selenium.webdriver.remote.webelement.WebElement (session=\"2ddb968c7341d0e50ceff29fcb5848c2\", element=\"823733a6-340b-4550-92ae-4f3e78001e28\")>,\n",
       " <selenium.webdriver.remote.webelement.WebElement (session=\"2ddb968c7341d0e50ceff29fcb5848c2\", element=\"a1fd6fd0-cb22-48ce-a626-74c6e1201055\")>,\n",
       " <selenium.webdriver.remote.webelement.WebElement (session=\"2ddb968c7341d0e50ceff29fcb5848c2\", element=\"307cdbd8-5c49-4514-992d-c3c171643219\")>]"
      ]
     },
     "execution_count": 317,
     "metadata": {},
     "output_type": "execute_result"
    }
   ],
   "source": [
    "price=driver.find_elements_by_xpath('//div[@class=\"_30jeq3\"]')\n",
    "price\n",
    "\n",
    "price2=driver.find_elements_by_xpath('//div[@class=\"_30jeq3\"]')\n",
    "price2\n",
    "\n",
    "price3=driver.find_elements_by_xpath('//div[@class=\"_30jeq3\"]')[:19]\n",
    "price3\n"
   ]
  },
  {
   "cell_type": "code",
   "execution_count": 318,
   "id": "eef06f67",
   "metadata": {},
   "outputs": [
    {
     "data": {
      "text/plain": [
       "['₹499',\n",
       " '₹892',\n",
       " '₹2,199',\n",
       " '₹599',\n",
       " '₹384',\n",
       " '₹399',\n",
       " '₹749',\n",
       " '₹599',\n",
       " '₹386',\n",
       " '₹427',\n",
       " '₹499',\n",
       " '₹2,249',\n",
       " '₹474',\n",
       " '₹599',\n",
       " '₹649',\n",
       " '₹474',\n",
       " '₹429',\n",
       " '₹699',\n",
       " '₹499',\n",
       " '₹499',\n",
       " '₹378',\n",
       " '₹404',\n",
       " '₹494',\n",
       " '₹1,013',\n",
       " '₹499',\n",
       " '₹598',\n",
       " '₹592',\n",
       " '₹699',\n",
       " '₹498',\n",
       " '₹799',\n",
       " '₹298',\n",
       " '₹1,999',\n",
       " '₹549',\n",
       " '₹499',\n",
       " '₹190',\n",
       " '₹492',\n",
       " '₹459',\n",
       " '₹599',\n",
       " '₹749',\n",
       " '₹499',\n",
       " '₹499',\n",
       " '₹892',\n",
       " '₹2,199',\n",
       " '₹599',\n",
       " '₹384',\n",
       " '₹399',\n",
       " '₹749',\n",
       " '₹599',\n",
       " '₹386',\n",
       " '₹427',\n",
       " '₹499',\n",
       " '₹2,249',\n",
       " '₹474',\n",
       " '₹599',\n",
       " '₹649',\n",
       " '₹474',\n",
       " '₹429',\n",
       " '₹699',\n",
       " '₹499',\n",
       " '₹499',\n",
       " '₹378',\n",
       " '₹404',\n",
       " '₹494',\n",
       " '₹1,013',\n",
       " '₹499',\n",
       " '₹598',\n",
       " '₹592',\n",
       " '₹699',\n",
       " '₹498',\n",
       " '₹799',\n",
       " '₹298',\n",
       " '₹1,999',\n",
       " '₹549',\n",
       " '₹499',\n",
       " '₹190',\n",
       " '₹492',\n",
       " '₹459',\n",
       " '₹599',\n",
       " '₹749',\n",
       " '₹499',\n",
       " '₹499',\n",
       " '₹892',\n",
       " '₹2,199',\n",
       " '₹599',\n",
       " '₹384',\n",
       " '₹399',\n",
       " '₹749',\n",
       " '₹599',\n",
       " '₹386',\n",
       " '₹427',\n",
       " '₹499',\n",
       " '₹2,249',\n",
       " '₹474',\n",
       " '₹599',\n",
       " '₹649',\n",
       " '₹474',\n",
       " '₹429',\n",
       " '₹699',\n",
       " '₹499']"
      ]
     },
     "execution_count": 318,
     "metadata": {},
     "output_type": "execute_result"
    }
   ],
   "source": [
    "prices=[]\n",
    "\n",
    "for i in price:\n",
    "    prices.append(i.text)\n",
    "\n",
    "for i in price2:\n",
    "    prices.append(i.text)\n",
    "\n",
    "for i in price3:\n",
    "    prices.append(i.text)\n",
    "\n",
    "prices\n"
   ]
  },
  {
   "cell_type": "code",
   "execution_count": 322,
   "id": "c7c94bea",
   "metadata": {},
   "outputs": [
    {
     "data": {
      "text/plain": [
       "[<selenium.webdriver.remote.webelement.WebElement (session=\"2ddb968c7341d0e50ceff29fcb5848c2\", element=\"efd09273-0e26-4425-ac75-b6a35da7e2ff\")>,\n",
       " <selenium.webdriver.remote.webelement.WebElement (session=\"2ddb968c7341d0e50ceff29fcb5848c2\", element=\"69ccfdba-9884-440b-8c7b-eb74264933ea\")>,\n",
       " <selenium.webdriver.remote.webelement.WebElement (session=\"2ddb968c7341d0e50ceff29fcb5848c2\", element=\"a929f24b-62dc-4a43-a112-e66ea439fc5a\")>,\n",
       " <selenium.webdriver.remote.webelement.WebElement (session=\"2ddb968c7341d0e50ceff29fcb5848c2\", element=\"0455f224-d54e-428e-9cf1-60ba0c432204\")>,\n",
       " <selenium.webdriver.remote.webelement.WebElement (session=\"2ddb968c7341d0e50ceff29fcb5848c2\", element=\"866b6335-c73c-477a-855f-dafb30f4f96a\")>,\n",
       " <selenium.webdriver.remote.webelement.WebElement (session=\"2ddb968c7341d0e50ceff29fcb5848c2\", element=\"3c447a00-4e27-4a5c-be24-fc7b74b0521f\")>,\n",
       " <selenium.webdriver.remote.webelement.WebElement (session=\"2ddb968c7341d0e50ceff29fcb5848c2\", element=\"0f321998-196b-4ec6-8552-c72c59c00dc8\")>,\n",
       " <selenium.webdriver.remote.webelement.WebElement (session=\"2ddb968c7341d0e50ceff29fcb5848c2\", element=\"11aaf16a-239d-4177-a70a-eaace5ad60e4\")>,\n",
       " <selenium.webdriver.remote.webelement.WebElement (session=\"2ddb968c7341d0e50ceff29fcb5848c2\", element=\"756a631f-9a63-4a96-beb2-946f6f563cbc\")>,\n",
       " <selenium.webdriver.remote.webelement.WebElement (session=\"2ddb968c7341d0e50ceff29fcb5848c2\", element=\"68b878a2-5cbc-4cea-9df4-61c2b7943521\")>,\n",
       " <selenium.webdriver.remote.webelement.WebElement (session=\"2ddb968c7341d0e50ceff29fcb5848c2\", element=\"16e72258-56eb-42f9-96b7-26f09589fe31\")>,\n",
       " <selenium.webdriver.remote.webelement.WebElement (session=\"2ddb968c7341d0e50ceff29fcb5848c2\", element=\"ccb9361b-4d03-43da-8295-190cf5312e7a\")>,\n",
       " <selenium.webdriver.remote.webelement.WebElement (session=\"2ddb968c7341d0e50ceff29fcb5848c2\", element=\"4037b914-11ff-4ab0-b06c-011b31ddb1f3\")>,\n",
       " <selenium.webdriver.remote.webelement.WebElement (session=\"2ddb968c7341d0e50ceff29fcb5848c2\", element=\"dca81718-ffbd-4c6a-a554-67000f09845c\")>,\n",
       " <selenium.webdriver.remote.webelement.WebElement (session=\"2ddb968c7341d0e50ceff29fcb5848c2\", element=\"ba7dca95-25f0-4fb8-9710-11302b486d2f\")>,\n",
       " <selenium.webdriver.remote.webelement.WebElement (session=\"2ddb968c7341d0e50ceff29fcb5848c2\", element=\"27ea931c-9292-4bdf-8ad3-84dca3a328bb\")>,\n",
       " <selenium.webdriver.remote.webelement.WebElement (session=\"2ddb968c7341d0e50ceff29fcb5848c2\", element=\"b73c4db6-2034-489c-a67b-8588070e9e08\")>,\n",
       " <selenium.webdriver.remote.webelement.WebElement (session=\"2ddb968c7341d0e50ceff29fcb5848c2\", element=\"c8380a3d-72fe-436d-a18a-c7773aba92d0\")>,\n",
       " <selenium.webdriver.remote.webelement.WebElement (session=\"2ddb968c7341d0e50ceff29fcb5848c2\", element=\"071d6ce4-622d-4a35-8205-c84dedf919ff\")>,\n",
       " <selenium.webdriver.remote.webelement.WebElement (session=\"2ddb968c7341d0e50ceff29fcb5848c2\", element=\"7740e4f5-a116-439f-ac44-5af153e94ae1\")>,\n",
       " <selenium.webdriver.remote.webelement.WebElement (session=\"2ddb968c7341d0e50ceff29fcb5848c2\", element=\"301b28cb-fc69-40ea-b464-b2069a2fc63c\")>]"
      ]
     },
     "execution_count": 322,
     "metadata": {},
     "output_type": "execute_result"
    }
   ],
   "source": [
    "discount=driver.find_elements_by_xpath('//div[@class=\"_3Ay6Sb\"]')\n",
    "discount\n",
    "\n",
    "discount2=driver.find_elements_by_xpath('//div[@class=\"_3Ay6Sb\"]')\n",
    "discount2\n",
    "\n",
    "discount3=driver.find_elements_by_xpath('//div[@class=\"_3Ay6Sb\"]')[:21]\n",
    "discount3\n"
   ]
  },
  {
   "cell_type": "code",
   "execution_count": 323,
   "id": "a399a853",
   "metadata": {},
   "outputs": [
    {
     "data": {
      "text/plain": [
       "99"
      ]
     },
     "execution_count": 323,
     "metadata": {},
     "output_type": "execute_result"
    }
   ],
   "source": [
    "discounts=[]\n",
    "\n",
    "for i in discount:\n",
    "    discounts.append(i.text)\n",
    "\n",
    "for i in discount2:\n",
    "    discounts.append(i.text)\n",
    "\n",
    "for i in discount3:\n",
    "    discounts.append(i.text)\n",
    "\n",
    "discounts\n",
    "len(discounts)\n"
   ]
  },
  {
   "cell_type": "code",
   "execution_count": 324,
   "id": "17432007",
   "metadata": {},
   "outputs": [
    {
     "data": {
      "text/plain": [
       "(99, 99, 99, 99)"
      ]
     },
     "execution_count": 324,
     "metadata": {},
     "output_type": "execute_result"
    }
   ],
   "source": [
    "len(sneakers),len(product_descriptions),len(prices),len(discounts)"
   ]
  },
  {
   "cell_type": "code",
   "execution_count": 325,
   "id": "cbc25f6e",
   "metadata": {},
   "outputs": [
    {
     "data": {
      "text/html": [
       "<div>\n",
       "<style scoped>\n",
       "    .dataframe tbody tr th:only-of-type {\n",
       "        vertical-align: middle;\n",
       "    }\n",
       "\n",
       "    .dataframe tbody tr th {\n",
       "        vertical-align: top;\n",
       "    }\n",
       "\n",
       "    .dataframe thead th {\n",
       "        text-align: right;\n",
       "    }\n",
       "</style>\n",
       "<table border=\"1\" class=\"dataframe\">\n",
       "  <thead>\n",
       "    <tr style=\"text-align: right;\">\n",
       "      <th></th>\n",
       "      <th>Brands</th>\n",
       "      <th>Product Description</th>\n",
       "      <th>Price</th>\n",
       "      <th>Discounts</th>\n",
       "    </tr>\n",
       "  </thead>\n",
       "  <tbody>\n",
       "    <tr>\n",
       "      <th>0</th>\n",
       "      <td>RODDICK SHOES</td>\n",
       "      <td>Fashion Outdoor Canvas Casual Light Weight Lac...</td>\n",
       "      <td>₹499</td>\n",
       "      <td>50% off</td>\n",
       "    </tr>\n",
       "    <tr>\n",
       "      <th>1</th>\n",
       "      <td>SPARX</td>\n",
       "      <td>SM-162 Sneakers For Men</td>\n",
       "      <td>₹892</td>\n",
       "      <td>14% off</td>\n",
       "    </tr>\n",
       "    <tr>\n",
       "      <th>2</th>\n",
       "      <td>PUMA</td>\n",
       "      <td>Puma Smash v2 L Perf Puma White-Puma Whi Sneak...</td>\n",
       "      <td>₹2,199</td>\n",
       "      <td>45% off</td>\n",
       "    </tr>\n",
       "    <tr>\n",
       "      <th>3</th>\n",
       "      <td>WHITE WALKERS</td>\n",
       "      <td>Casual , Partywear Sneakers Shoes For Men's An...</td>\n",
       "      <td>₹599</td>\n",
       "      <td>50% off</td>\n",
       "    </tr>\n",
       "    <tr>\n",
       "      <th>4</th>\n",
       "      <td>D-SNEAKERZ</td>\n",
       "      <td>Sneakers For Men</td>\n",
       "      <td>₹384</td>\n",
       "      <td>61% off</td>\n",
       "    </tr>\n",
       "    <tr>\n",
       "      <th>...</th>\n",
       "      <td>...</td>\n",
       "      <td>...</td>\n",
       "      <td>...</td>\n",
       "      <td>...</td>\n",
       "    </tr>\n",
       "    <tr>\n",
       "      <th>94</th>\n",
       "      <td>KNIGHT WALKERS</td>\n",
       "      <td>Sneakers Shoes For Men Black Sneakers For Men</td>\n",
       "      <td>₹649</td>\n",
       "      <td>57% off</td>\n",
       "    </tr>\n",
       "    <tr>\n",
       "      <th>95</th>\n",
       "      <td>Viv</td>\n",
       "      <td>Sneakers For Men</td>\n",
       "      <td>₹474</td>\n",
       "      <td>53% off</td>\n",
       "    </tr>\n",
       "    <tr>\n",
       "      <th>96</th>\n",
       "      <td>FEWROK</td>\n",
       "      <td>0001 red Sneakers For Men</td>\n",
       "      <td>₹429</td>\n",
       "      <td>37% off</td>\n",
       "    </tr>\n",
       "    <tr>\n",
       "      <th>97</th>\n",
       "      <td>CLYMB</td>\n",
       "      <td>Tying Fabulous Comfortable Collections Of Comb...</td>\n",
       "      <td>₹699</td>\n",
       "      <td>37% off</td>\n",
       "    </tr>\n",
       "    <tr>\n",
       "      <th>98</th>\n",
       "      <td>ASIAN</td>\n",
       "      <td>Sneakers for Men (White) Sneakers For Men</td>\n",
       "      <td>₹499</td>\n",
       "      <td>70% off</td>\n",
       "    </tr>\n",
       "  </tbody>\n",
       "</table>\n",
       "<p>99 rows × 4 columns</p>\n",
       "</div>"
      ],
      "text/plain": [
       "            Brands                                Product Description   Price  \\\n",
       "0    RODDICK SHOES  Fashion Outdoor Canvas Casual Light Weight Lac...    ₹499   \n",
       "1            SPARX                            SM-162 Sneakers For Men    ₹892   \n",
       "2             PUMA  Puma Smash v2 L Perf Puma White-Puma Whi Sneak...  ₹2,199   \n",
       "3    WHITE WALKERS  Casual , Partywear Sneakers Shoes For Men's An...    ₹599   \n",
       "4       D-SNEAKERZ                                   Sneakers For Men    ₹384   \n",
       "..             ...                                                ...     ...   \n",
       "94  KNIGHT WALKERS      Sneakers Shoes For Men Black Sneakers For Men    ₹649   \n",
       "95             Viv                                   Sneakers For Men    ₹474   \n",
       "96          FEWROK                          0001 red Sneakers For Men    ₹429   \n",
       "97           CLYMB  Tying Fabulous Comfortable Collections Of Comb...    ₹699   \n",
       "98           ASIAN          Sneakers for Men (White) Sneakers For Men    ₹499   \n",
       "\n",
       "   Discounts  \n",
       "0    50% off  \n",
       "1    14% off  \n",
       "2    45% off  \n",
       "3    50% off  \n",
       "4    61% off  \n",
       "..       ...  \n",
       "94   57% off  \n",
       "95   53% off  \n",
       "96   37% off  \n",
       "97   37% off  \n",
       "98   70% off  \n",
       "\n",
       "[99 rows x 4 columns]"
      ]
     },
     "execution_count": 325,
     "metadata": {},
     "output_type": "execute_result"
    }
   ],
   "source": [
    "sneakers_data=pd.DataFrame({\"Brands\":sneakers,\"Product Description\":product_descriptions,\"Price\":prices,\"Discounts\":discounts})\n",
    "sneakers_data"
   ]
  },
  {
   "cell_type": "markdown",
   "id": "5d2f7658",
   "metadata": {},
   "source": [
    "# 8-Amazon-laptop "
   ]
  },
  {
   "cell_type": "code",
   "execution_count": 326,
   "id": "47fc05b6",
   "metadata": {},
   "outputs": [
    {
     "data": {
      "text/plain": [
       "<selenium.webdriver.chrome.webdriver.WebDriver (session=\"6bc5a7101a6a47377a512a5aef151e57\")>"
      ]
     },
     "execution_count": 326,
     "metadata": {},
     "output_type": "execute_result"
    }
   ],
   "source": [
    "driver=webdriver.Chrome(r'C:\\Users\\User\\Downloads\\Fliprobo\\chromedriver_win32\\chromedriver.exe')\n",
    "driver"
   ]
  },
  {
   "cell_type": "code",
   "execution_count": 327,
   "id": "dbd59974",
   "metadata": {},
   "outputs": [],
   "source": [
    "url='https://www.amazon.in/'\n",
    "driver.get(url)"
   ]
  },
  {
   "cell_type": "code",
   "execution_count": 328,
   "id": "dccd6b7c",
   "metadata": {},
   "outputs": [
    {
     "data": {
      "text/plain": [
       "<selenium.webdriver.remote.webelement.WebElement (session=\"6bc5a7101a6a47377a512a5aef151e57\", element=\"b85c0048-73fd-46d4-bbd3-22191c636bdd\")>"
      ]
     },
     "execution_count": 328,
     "metadata": {},
     "output_type": "execute_result"
    }
   ],
   "source": [
    "cpu_1=driver.find_element_by_id('twotabsearchtextbox')\n",
    "cpu_1\n"
   ]
  },
  {
   "cell_type": "code",
   "execution_count": 329,
   "id": "c9588cec",
   "metadata": {},
   "outputs": [],
   "source": [
    "cpu_1.send_keys(\"Laptop\")"
   ]
  },
  {
   "cell_type": "code",
   "execution_count": 330,
   "id": "3dafcec7",
   "metadata": {},
   "outputs": [
    {
     "data": {
      "text/plain": [
       "<selenium.webdriver.remote.webelement.WebElement (session=\"6bc5a7101a6a47377a512a5aef151e57\", element=\"7233d7fb-2685-4d8d-a66e-35495db59061\")>"
      ]
     },
     "execution_count": 330,
     "metadata": {},
     "output_type": "execute_result"
    }
   ],
   "source": [
    "search=driver.find_element_by_xpath('/html/body/div[1]/header/div/div[1]/div[2]/div/form/div[3]/div/span/input')\n",
    "search"
   ]
  },
  {
   "cell_type": "code",
   "execution_count": 331,
   "id": "56668377",
   "metadata": {},
   "outputs": [],
   "source": [
    "search.click()"
   ]
  },
  {
   "cell_type": "code",
   "execution_count": 332,
   "id": "1bb622c7",
   "metadata": {},
   "outputs": [
    {
     "data": {
      "text/plain": [
       "[<selenium.webdriver.remote.webelement.WebElement (session=\"6bc5a7101a6a47377a512a5aef151e57\", element=\"f4828bce-ce87-4fc3-b815-3668eb2baf83\")>,\n",
       " <selenium.webdriver.remote.webelement.WebElement (session=\"6bc5a7101a6a47377a512a5aef151e57\", element=\"67541e23-461e-46ea-8fce-71ea6417f95d\")>,\n",
       " <selenium.webdriver.remote.webelement.WebElement (session=\"6bc5a7101a6a47377a512a5aef151e57\", element=\"3d6fe86e-ac84-42b9-82bf-79e9250e8dc8\")>,\n",
       " <selenium.webdriver.remote.webelement.WebElement (session=\"6bc5a7101a6a47377a512a5aef151e57\", element=\"355be611-8e46-4b05-a46d-7588a20f7ec5\")>,\n",
       " <selenium.webdriver.remote.webelement.WebElement (session=\"6bc5a7101a6a47377a512a5aef151e57\", element=\"1c6333c0-e7c8-4582-ad96-253637b82b0f\")>]"
      ]
     },
     "execution_count": 332,
     "metadata": {},
     "output_type": "execute_result"
    }
   ],
   "source": [
    "core_i7=driver.find_elements_by_xpath('//a[@class=\"a-link-normal s-link-style a-text-normal\"]')[:5]\n",
    "core_i7\n",
    "corei9=driver.find_elements_by_xpath('//a[@class=\"a-link-normal s-link-style a-text-normal\"]')[:5]\n",
    "corei9\n"
   ]
  },
  {
   "cell_type": "code",
   "execution_count": 333,
   "id": "2615ff3c",
   "metadata": {},
   "outputs": [
    {
     "data": {
      "text/plain": [
       "['HP Pavilion 14, Ryzen 5- 8GB RAM/512GB SSD 14 inch(35.6 cm) Laptop, FHD IPS Anti-Glare Display/BL KB/Alexa/B&O Audio/Fast Charge/250 nits/Win 11 ready/3D Metal design/Thin & light/1.41 kg, 14-ec0035AU',\n",
       " 'HP Chromebook Intel Celeron N4020 14 inches Touchscreen Business Laptop (4GB/64GB eMMC + 256GB Expandable Storage/Chrome OS/Integrated Graphics, Ceramic White, 1.46kg), 14a-na0002TU',\n",
       " 'Lenovo Chromebook 14e 14.0\" FHD Business Laptop (AMD 3015Ce Processor/4GB DDR4 RAM/64GB Storage eMMC/AMD Radeon Graphics/Chrome OS/Grey) 82M10019HA',\n",
       " 'HP Chromebook 14 inches Thin & Light Touchscreen Laptop (Intel Celeron N4020/4GB/64GB eMMC + 256GB Expandable Storage/Chrome OS/1.46 kgs Light/ Mineral Silver), 14a-na0003TU',\n",
       " 'Lenovo IdeaPad Slim 1 Intel Celeron N4020 11.6\" (29.46cm) HD Thin & Light Laptop (4GB/256 GB SSD/Windows 10/MS Office/Platinum Grey/1.2Kg), 81VT0071IN',\n",
       " 'HP Pavilion 14, Ryzen 5- 8GB RAM/512GB SSD 14 inch(35.6 cm) Laptop, FHD IPS Anti-Glare Display/BL KB/Alexa/B&O Audio/Fast Charge/250 nits/Win 11 ready/3D Metal design/Thin & light/1.41 kg, 14-ec0035AU',\n",
       " 'HP Chromebook Intel Celeron N4020 14 inches Touchscreen Business Laptop (4GB/64GB eMMC + 256GB Expandable Storage/Chrome OS/Integrated Graphics, Ceramic White, 1.46kg), 14a-na0002TU',\n",
       " 'Lenovo Chromebook 14e 14.0\" FHD Business Laptop (AMD 3015Ce Processor/4GB DDR4 RAM/64GB Storage eMMC/AMD Radeon Graphics/Chrome OS/Grey) 82M10019HA',\n",
       " 'HP Chromebook 14 inches Thin & Light Touchscreen Laptop (Intel Celeron N4020/4GB/64GB eMMC + 256GB Expandable Storage/Chrome OS/1.46 kgs Light/ Mineral Silver), 14a-na0003TU',\n",
       " 'Lenovo IdeaPad Slim 1 Intel Celeron N4020 11.6\" (29.46cm) HD Thin & Light Laptop (4GB/256 GB SSD/Windows 10/MS Office/Platinum Grey/1.2Kg), 81VT0071IN']"
      ]
     },
     "execution_count": 333,
     "metadata": {},
     "output_type": "execute_result"
    }
   ],
   "source": [
    "laptop=[]\n",
    "\n",
    "for i in core_i7:\n",
    "    laptop.append(i.text)\n",
    "for i in corei9:\n",
    "    laptop.append(i.text)\n",
    "\n",
    "laptop"
   ]
  },
  {
   "cell_type": "code",
   "execution_count": 334,
   "id": "a735ed16",
   "metadata": {},
   "outputs": [
    {
     "data": {
      "text/plain": [
       "10"
      ]
     },
     "execution_count": 334,
     "metadata": {},
     "output_type": "execute_result"
    }
   ],
   "source": [
    "len(laptop)"
   ]
  },
  {
   "cell_type": "code",
   "execution_count": 335,
   "id": "8f71dad9",
   "metadata": {},
   "outputs": [
    {
     "data": {
      "text/plain": [
       "[<selenium.webdriver.remote.webelement.WebElement (session=\"6bc5a7101a6a47377a512a5aef151e57\", element=\"28c33c5e-711a-4a77-8eb3-bd9df6faaf12\")>,\n",
       " <selenium.webdriver.remote.webelement.WebElement (session=\"6bc5a7101a6a47377a512a5aef151e57\", element=\"f7107e48-89e1-4c76-9325-c82fc28186ad\")>,\n",
       " <selenium.webdriver.remote.webelement.WebElement (session=\"6bc5a7101a6a47377a512a5aef151e57\", element=\"7a0ab2da-08e4-4ca3-8058-d60172593fd9\")>,\n",
       " <selenium.webdriver.remote.webelement.WebElement (session=\"6bc5a7101a6a47377a512a5aef151e57\", element=\"90843418-c1d0-4b10-a43c-44d5c8fa103b\")>,\n",
       " <selenium.webdriver.remote.webelement.WebElement (session=\"6bc5a7101a6a47377a512a5aef151e57\", element=\"685378d6-98f8-4601-bfdd-9af45c34b03d\")>]"
      ]
     },
     "execution_count": 335,
     "metadata": {},
     "output_type": "execute_result"
    }
   ],
   "source": [
    "rate_corei7=driver.find_elements_by_xpath('//div[@class=\"a-row a-size-small\"]')[:5]\n",
    "rate_corei7\n",
    "rate_corei9=driver.find_elements_by_xpath('//div[@class=\"a-row a-size-small\"]')[:5]\n",
    "rate_corei9"
   ]
  },
  {
   "cell_type": "code",
   "execution_count": 336,
   "id": "7848b913",
   "metadata": {},
   "outputs": [
    {
     "data": {
      "text/plain": [
       "['179', '321', '16', '915', '218', '179', '321', '16', '915', '218']"
      ]
     },
     "execution_count": 336,
     "metadata": {},
     "output_type": "execute_result"
    }
   ],
   "source": [
    "rating=[]\n",
    "\n",
    "for i in rate_corei7 :\n",
    "    rating.append(i.text)\n",
    "for i in rate_corei9:\n",
    "    rating.append(i.text)\n",
    "\n",
    "rating"
   ]
  },
  {
   "cell_type": "code",
   "execution_count": 337,
   "id": "2c2af35b",
   "metadata": {},
   "outputs": [
    {
     "data": {
      "text/plain": [
       "10"
      ]
     },
     "execution_count": 337,
     "metadata": {},
     "output_type": "execute_result"
    }
   ],
   "source": [
    "len(rating)"
   ]
  },
  {
   "cell_type": "code",
   "execution_count": 338,
   "id": "432d5889",
   "metadata": {},
   "outputs": [
    {
     "data": {
      "text/plain": [
       "[<selenium.webdriver.remote.webelement.WebElement (session=\"6bc5a7101a6a47377a512a5aef151e57\", element=\"bc4ac53a-62ae-4a30-9eca-559d6f99c9e8\")>,\n",
       " <selenium.webdriver.remote.webelement.WebElement (session=\"6bc5a7101a6a47377a512a5aef151e57\", element=\"a397100a-8ef4-40dc-abec-193b95f8e0fe\")>,\n",
       " <selenium.webdriver.remote.webelement.WebElement (session=\"6bc5a7101a6a47377a512a5aef151e57\", element=\"6deff317-2e03-4c6d-a688-dbfdff592f7f\")>,\n",
       " <selenium.webdriver.remote.webelement.WebElement (session=\"6bc5a7101a6a47377a512a5aef151e57\", element=\"2b01e827-e253-4fdc-b1f2-a552ed9ffa76\")>,\n",
       " <selenium.webdriver.remote.webelement.WebElement (session=\"6bc5a7101a6a47377a512a5aef151e57\", element=\"14e79023-32a2-483e-9885-bb5f21eeb105\")>]"
      ]
     },
     "execution_count": 338,
     "metadata": {},
     "output_type": "execute_result"
    }
   ],
   "source": [
    "price_corei7=driver.find_elements_by_xpath('//span[@class=\"a-price-whole\"]')[:5]\n",
    "price_corei7\n",
    "price_corei9=driver.find_elements_by_xpath('//span[@class=\"a-price-whole\"]')[:5]\n",
    "price_corei9"
   ]
  },
  {
   "cell_type": "code",
   "execution_count": 339,
   "id": "0c056847",
   "metadata": {
    "scrolled": true
   },
   "outputs": [
    {
     "data": {
      "text/plain": [
       "['54,990',\n",
       " '25,990',\n",
       " '21,990',\n",
       " '26,490',\n",
       " '28,999',\n",
       " '54,990',\n",
       " '25,990',\n",
       " '21,990',\n",
       " '26,490',\n",
       " '28,999']"
      ]
     },
     "execution_count": 339,
     "metadata": {},
     "output_type": "execute_result"
    }
   ],
   "source": [
    "prices=[]\n",
    "\n",
    "for i in price_corei7:\n",
    "    prices.append(i.text)\n",
    "for i in price_corei9:\n",
    "    prices.append(i.text)    \n",
    "    \n",
    "prices\n"
   ]
  },
  {
   "cell_type": "code",
   "execution_count": 340,
   "id": "db2f4f03",
   "metadata": {},
   "outputs": [
    {
     "data": {
      "text/plain": [
       "(10, 10, 10)"
      ]
     },
     "execution_count": 340,
     "metadata": {},
     "output_type": "execute_result"
    }
   ],
   "source": [
    "len(rating),len(prices),len(laptop)"
   ]
  },
  {
   "cell_type": "code",
   "execution_count": 341,
   "id": "63384355",
   "metadata": {},
   "outputs": [
    {
     "data": {
      "text/html": [
       "<div>\n",
       "<style scoped>\n",
       "    .dataframe tbody tr th:only-of-type {\n",
       "        vertical-align: middle;\n",
       "    }\n",
       "\n",
       "    .dataframe tbody tr th {\n",
       "        vertical-align: top;\n",
       "    }\n",
       "\n",
       "    .dataframe thead th {\n",
       "        text-align: right;\n",
       "    }\n",
       "</style>\n",
       "<table border=\"1\" class=\"dataframe\">\n",
       "  <thead>\n",
       "    <tr style=\"text-align: right;\">\n",
       "      <th></th>\n",
       "      <th>Brand</th>\n",
       "      <th>Rating</th>\n",
       "      <th>Price</th>\n",
       "    </tr>\n",
       "  </thead>\n",
       "  <tbody>\n",
       "    <tr>\n",
       "      <th>0</th>\n",
       "      <td>HP Pavilion 14, Ryzen 5- 8GB RAM/512GB SSD 14 ...</td>\n",
       "      <td>179</td>\n",
       "      <td>54,990</td>\n",
       "    </tr>\n",
       "    <tr>\n",
       "      <th>1</th>\n",
       "      <td>HP Chromebook Intel Celeron N4020 14 inches To...</td>\n",
       "      <td>321</td>\n",
       "      <td>25,990</td>\n",
       "    </tr>\n",
       "    <tr>\n",
       "      <th>2</th>\n",
       "      <td>Lenovo Chromebook 14e 14.0\" FHD Business Lapto...</td>\n",
       "      <td>16</td>\n",
       "      <td>21,990</td>\n",
       "    </tr>\n",
       "    <tr>\n",
       "      <th>3</th>\n",
       "      <td>HP Chromebook 14 inches Thin &amp; Light Touchscre...</td>\n",
       "      <td>915</td>\n",
       "      <td>26,490</td>\n",
       "    </tr>\n",
       "    <tr>\n",
       "      <th>4</th>\n",
       "      <td>Lenovo IdeaPad Slim 1 Intel Celeron N4020 11.6...</td>\n",
       "      <td>218</td>\n",
       "      <td>28,999</td>\n",
       "    </tr>\n",
       "    <tr>\n",
       "      <th>5</th>\n",
       "      <td>HP Pavilion 14, Ryzen 5- 8GB RAM/512GB SSD 14 ...</td>\n",
       "      <td>179</td>\n",
       "      <td>54,990</td>\n",
       "    </tr>\n",
       "    <tr>\n",
       "      <th>6</th>\n",
       "      <td>HP Chromebook Intel Celeron N4020 14 inches To...</td>\n",
       "      <td>321</td>\n",
       "      <td>25,990</td>\n",
       "    </tr>\n",
       "    <tr>\n",
       "      <th>7</th>\n",
       "      <td>Lenovo Chromebook 14e 14.0\" FHD Business Lapto...</td>\n",
       "      <td>16</td>\n",
       "      <td>21,990</td>\n",
       "    </tr>\n",
       "    <tr>\n",
       "      <th>8</th>\n",
       "      <td>HP Chromebook 14 inches Thin &amp; Light Touchscre...</td>\n",
       "      <td>915</td>\n",
       "      <td>26,490</td>\n",
       "    </tr>\n",
       "    <tr>\n",
       "      <th>9</th>\n",
       "      <td>Lenovo IdeaPad Slim 1 Intel Celeron N4020 11.6...</td>\n",
       "      <td>218</td>\n",
       "      <td>28,999</td>\n",
       "    </tr>\n",
       "  </tbody>\n",
       "</table>\n",
       "</div>"
      ],
      "text/plain": [
       "                                               Brand Rating   Price\n",
       "0  HP Pavilion 14, Ryzen 5- 8GB RAM/512GB SSD 14 ...    179  54,990\n",
       "1  HP Chromebook Intel Celeron N4020 14 inches To...    321  25,990\n",
       "2  Lenovo Chromebook 14e 14.0\" FHD Business Lapto...     16  21,990\n",
       "3  HP Chromebook 14 inches Thin & Light Touchscre...    915  26,490\n",
       "4  Lenovo IdeaPad Slim 1 Intel Celeron N4020 11.6...    218  28,999\n",
       "5  HP Pavilion 14, Ryzen 5- 8GB RAM/512GB SSD 14 ...    179  54,990\n",
       "6  HP Chromebook Intel Celeron N4020 14 inches To...    321  25,990\n",
       "7  Lenovo Chromebook 14e 14.0\" FHD Business Lapto...     16  21,990\n",
       "8  HP Chromebook 14 inches Thin & Light Touchscre...    915  26,490\n",
       "9  Lenovo IdeaPad Slim 1 Intel Celeron N4020 11.6...    218  28,999"
      ]
     },
     "execution_count": 341,
     "metadata": {},
     "output_type": "execute_result"
    }
   ],
   "source": [
    "laptops=pd.DataFrame({\"Brand\":laptop,\"Rating\":rating,\"Price\":prices})\n",
    "laptops"
   ]
  },
  {
   "cell_type": "markdown",
   "id": "188a2fd3",
   "metadata": {},
   "source": [
    "# 9-Ambition box"
   ]
  },
  {
   "cell_type": "code",
   "execution_count": 342,
   "id": "035a8438",
   "metadata": {},
   "outputs": [
    {
     "data": {
      "text/plain": [
       "<selenium.webdriver.chrome.webdriver.WebDriver (session=\"78b344c08d35617923193a5c46ab7325\")>"
      ]
     },
     "execution_count": 342,
     "metadata": {},
     "output_type": "execute_result"
    }
   ],
   "source": [
    "driver=webdriver.Chrome(r'C:\\Users\\User\\Downloads\\Fliprobo\\chromedriver_win32\\chromedriver.exe')\n",
    "driver"
   ]
  },
  {
   "cell_type": "code",
   "execution_count": 343,
   "id": "4e77390c",
   "metadata": {},
   "outputs": [],
   "source": [
    "url='https://www.ambitionbox.com/'\n",
    "driver.get(url)"
   ]
  },
  {
   "cell_type": "code",
   "execution_count": 344,
   "id": "f0508b92",
   "metadata": {},
   "outputs": [
    {
     "data": {
      "text/plain": [
       "<selenium.webdriver.remote.webelement.WebElement (session=\"78b344c08d35617923193a5c46ab7325\", element=\"b04d8560-c4ba-43f8-9850-962dece4c0f7\")>"
      ]
     },
     "execution_count": 344,
     "metadata": {},
     "output_type": "execute_result"
    }
   ],
   "source": [
    "jobs=driver.find_element_by_xpath('/html/body/section[1]/div/div[2]/form/span/input')\n",
    "jobs"
   ]
  },
  {
   "cell_type": "code",
   "execution_count": 345,
   "id": "072b4330",
   "metadata": {},
   "outputs": [],
   "source": [
    "jobs.send_keys('Data Scientist')"
   ]
  },
  {
   "cell_type": "code",
   "execution_count": 346,
   "id": "306f75f6",
   "metadata": {},
   "outputs": [
    {
     "data": {
      "text/plain": [
       "<selenium.webdriver.remote.webelement.WebElement (session=\"78b344c08d35617923193a5c46ab7325\", element=\"4768b166-940c-4af2-bffd-8bab9e154517\")>"
      ]
     },
     "execution_count": 346,
     "metadata": {},
     "output_type": "execute_result"
    }
   ],
   "source": [
    "search_btn=driver.find_element_by_xpath('/html/body/section[1]/div/div[2]/form/div[2]/input')\n",
    "search_btn"
   ]
  },
  {
   "cell_type": "code",
   "execution_count": 347,
   "id": "2c64c67c",
   "metadata": {},
   "outputs": [],
   "source": [
    "search_btn.click()"
   ]
  },
  {
   "cell_type": "code",
   "execution_count": 348,
   "id": "c2dea437",
   "metadata": {},
   "outputs": [
    {
     "data": {
      "text/plain": [
       "[<selenium.webdriver.remote.webelement.WebElement (session=\"78b344c08d35617923193a5c46ab7325\", element=\"5cba36bb-b87a-43c7-be8a-3a3b03d1adf0\")>,\n",
       " <selenium.webdriver.remote.webelement.WebElement (session=\"78b344c08d35617923193a5c46ab7325\", element=\"d77057ef-8b5b-454d-b5cd-748f2f5d9fe3\")>,\n",
       " <selenium.webdriver.remote.webelement.WebElement (session=\"78b344c08d35617923193a5c46ab7325\", element=\"8b89094b-9040-41ec-a321-867a01bdc168\")>,\n",
       " <selenium.webdriver.remote.webelement.WebElement (session=\"78b344c08d35617923193a5c46ab7325\", element=\"8cb07daf-ac33-4599-a37a-734020e7fe9b\")>,\n",
       " <selenium.webdriver.remote.webelement.WebElement (session=\"78b344c08d35617923193a5c46ab7325\", element=\"23859172-9be0-40cf-91c2-121abe7678c9\")>,\n",
       " <selenium.webdriver.remote.webelement.WebElement (session=\"78b344c08d35617923193a5c46ab7325\", element=\"d9174ab7-0d85-4008-bc69-c9f3c56ec697\")>,\n",
       " <selenium.webdriver.remote.webelement.WebElement (session=\"78b344c08d35617923193a5c46ab7325\", element=\"69149810-dd52-4d1b-98de-c55fd603d645\")>,\n",
       " <selenium.webdriver.remote.webelement.WebElement (session=\"78b344c08d35617923193a5c46ab7325\", element=\"137fa0dc-ce13-44a3-a306-d6804b63379e\")>,\n",
       " <selenium.webdriver.remote.webelement.WebElement (session=\"78b344c08d35617923193a5c46ab7325\", element=\"e83bc93a-0a46-41a3-b36d-ed684e29e1b1\")>,\n",
       " <selenium.webdriver.remote.webelement.WebElement (session=\"78b344c08d35617923193a5c46ab7325\", element=\"7b8acfc0-c997-425f-aa79-63ccbc5082e6\")>,\n",
       " <selenium.webdriver.remote.webelement.WebElement (session=\"78b344c08d35617923193a5c46ab7325\", element=\"de0c911a-db26-4392-8ecc-b0d28e0a326f\")>]"
      ]
     },
     "execution_count": 348,
     "metadata": {},
     "output_type": "execute_result"
    }
   ],
   "source": [
    "jobs=driver.find_elements_by_xpath('//div[@class=\"gs-title\"]')\n",
    "jobs"
   ]
  },
  {
   "cell_type": "code",
   "execution_count": 349,
   "id": "55f0dbab",
   "metadata": {},
   "outputs": [],
   "source": [
    "job_titles=[]\n",
    "for i in jobs:\n",
    "    job_titles.append(i.text.replace(\"| AmbitionBox','', \",\"\"))\n",
    "    job_titles  \n",
    "#len(job_titles)"
   ]
  },
  {
   "cell_type": "code",
   "execution_count": 350,
   "id": "17d33ca1",
   "metadata": {},
   "outputs": [
    {
     "data": {
      "text/html": [
       "<div>\n",
       "<style scoped>\n",
       "    .dataframe tbody tr th:only-of-type {\n",
       "        vertical-align: middle;\n",
       "    }\n",
       "\n",
       "    .dataframe tbody tr th {\n",
       "        vertical-align: top;\n",
       "    }\n",
       "\n",
       "    .dataframe thead th {\n",
       "        text-align: right;\n",
       "    }\n",
       "</style>\n",
       "<table border=\"1\" class=\"dataframe\">\n",
       "  <thead>\n",
       "    <tr style=\"text-align: right;\">\n",
       "      <th></th>\n",
       "      <th>Job Titles</th>\n",
       "    </tr>\n",
       "  </thead>\n",
       "  <tbody>\n",
       "    <tr>\n",
       "      <th>0</th>\n",
       "      <td>Data Scientist Salary in India | AmbitionBox</td>\n",
       "    </tr>\n",
       "    <tr>\n",
       "      <th>1</th>\n",
       "      <td>Data Scientist Salary in Bengaluru/Bangalore |...</td>\n",
       "    </tr>\n",
       "    <tr>\n",
       "      <th>2</th>\n",
       "      <td>DXC Technology Data Scientist Salaries in Indi...</td>\n",
       "    </tr>\n",
       "    <tr>\n",
       "      <th>3</th>\n",
       "      <td>Senior Data Scientist Salary in India | Ambiti...</td>\n",
       "    </tr>\n",
       "    <tr>\n",
       "      <th>4</th>\n",
       "      <td>Walmart Data Scientist Salaries in India | Amb...</td>\n",
       "    </tr>\n",
       "    <tr>\n",
       "      <th>5</th>\n",
       "      <td>Google Data Scientist Salaries in India | Ambi...</td>\n",
       "    </tr>\n",
       "    <tr>\n",
       "      <th>6</th>\n",
       "      <td>Crisil Data Scientist Salaries in India | Ambi...</td>\n",
       "    </tr>\n",
       "    <tr>\n",
       "      <th>7</th>\n",
       "      <td>Great Learning Data Scientist Salaries in Indi...</td>\n",
       "    </tr>\n",
       "    <tr>\n",
       "      <th>8</th>\n",
       "      <td>Apple Data Scientist Salaries in India | Ambit...</td>\n",
       "    </tr>\n",
       "    <tr>\n",
       "      <th>9</th>\n",
       "      <td>CARS24.com Data Scientist Salaries in India | ...</td>\n",
       "    </tr>\n",
       "    <tr>\n",
       "      <th>10</th>\n",
       "      <td></td>\n",
       "    </tr>\n",
       "  </tbody>\n",
       "</table>\n",
       "</div>"
      ],
      "text/plain": [
       "                                           Job Titles\n",
       "0        Data Scientist Salary in India | AmbitionBox\n",
       "1   Data Scientist Salary in Bengaluru/Bangalore |...\n",
       "2   DXC Technology Data Scientist Salaries in Indi...\n",
       "3   Senior Data Scientist Salary in India | Ambiti...\n",
       "4   Walmart Data Scientist Salaries in India | Amb...\n",
       "5   Google Data Scientist Salaries in India | Ambi...\n",
       "6   Crisil Data Scientist Salaries in India | Ambi...\n",
       "7   Great Learning Data Scientist Salaries in Indi...\n",
       "8   Apple Data Scientist Salaries in India | Ambit...\n",
       "9   CARS24.com Data Scientist Salaries in India | ...\n",
       "10                                                   "
      ]
     },
     "execution_count": 350,
     "metadata": {},
     "output_type": "execute_result"
    }
   ],
   "source": [
    "jobs1=pd.DataFrame({\"Job Titles\":job_titles})\n",
    "jobs1"
   ]
  },
  {
   "cell_type": "markdown",
   "id": "e3e3ca34",
   "metadata": {},
   "source": [
    "# 10-Ambition box-"
   ]
  },
  {
   "cell_type": "code",
   "execution_count": 375,
   "id": "77aa7dbe",
   "metadata": {},
   "outputs": [
    {
     "data": {
      "text/plain": [
       "<selenium.webdriver.chrome.webdriver.WebDriver (session=\"39835c2ea1272c3fb7ffe6ec47e08456\")>"
      ]
     },
     "execution_count": 375,
     "metadata": {},
     "output_type": "execute_result"
    }
   ],
   "source": [
    "driver=webdriver.Chrome(r'C:\\Users\\User\\Downloads\\Fliprobo\\chromedriver_win32\\chromedriver.exe')\n",
    "driver"
   ]
  },
  {
   "cell_type": "code",
   "execution_count": 376,
   "id": "dd514455",
   "metadata": {},
   "outputs": [],
   "source": [
    "url='https://www.ambitionbox.com/'\n",
    "driver.get(url)"
   ]
  },
  {
   "cell_type": "code",
   "execution_count": 377,
   "id": "b05a0206",
   "metadata": {},
   "outputs": [
    {
     "data": {
      "text/plain": [
       "<selenium.webdriver.remote.webelement.WebElement (session=\"39835c2ea1272c3fb7ffe6ec47e08456\", element=\"fbd217a5-64d8-411e-a66f-3f756877604a\")>"
      ]
     },
     "execution_count": 377,
     "metadata": {},
     "output_type": "execute_result"
    }
   ],
   "source": [
    "job_search=driver.find_element_by_xpath('/html/body/section[1]/div/div[2]/form/span/input')\n",
    "job_search"
   ]
  },
  {
   "cell_type": "code",
   "execution_count": 378,
   "id": "b8c2f253",
   "metadata": {},
   "outputs": [],
   "source": [
    "job_search.send_keys(\"Data Scientist\")\n"
   ]
  },
  {
   "cell_type": "code",
   "execution_count": 379,
   "id": "3fe44d43",
   "metadata": {},
   "outputs": [
    {
     "data": {
      "text/plain": [
       "<selenium.webdriver.remote.webelement.WebElement (session=\"39835c2ea1272c3fb7ffe6ec47e08456\", element=\"46a7f66a-4de8-41c1-9d62-603835fa0312\")>"
      ]
     },
     "execution_count": 379,
     "metadata": {},
     "output_type": "execute_result"
    }
   ],
   "source": [
    "search_btn=driver.find_element_by_xpath('/html/body/section[1]/div/div[2]/form/div[2]/input')\n",
    "search_btn"
   ]
  },
  {
   "cell_type": "code",
   "execution_count": 380,
   "id": "b2c15962",
   "metadata": {},
   "outputs": [],
   "source": [
    "search_btn.click()"
   ]
  },
  {
   "cell_type": "code",
   "execution_count": 381,
   "id": "85964145",
   "metadata": {},
   "outputs": [
    {
     "data": {
      "text/plain": [
       "<selenium.webdriver.remote.webelement.WebElement (session=\"39835c2ea1272c3fb7ffe6ec47e08456\", element=\"32945523-ab0a-416d-b681-24166ff7a075\")>"
      ]
     },
     "execution_count": 381,
     "metadata": {},
     "output_type": "execute_result"
    }
   ],
   "source": [
    "search_salaries=driver.find_element_by_xpath('/html/body/div[1]/nav/nav/a[4]')\n",
    "search_salaries"
   ]
  },
  {
   "cell_type": "code",
   "execution_count": 382,
   "id": "caf7f161",
   "metadata": {},
   "outputs": [],
   "source": [
    "search_salaries.click()"
   ]
  },
  {
   "cell_type": "code",
   "execution_count": 383,
   "id": "ae7f9abb",
   "metadata": {},
   "outputs": [
    {
     "data": {
      "text/plain": [
       "<selenium.webdriver.remote.webelement.WebElement (session=\"39835c2ea1272c3fb7ffe6ec47e08456\", element=\"99abb0a3-e5b7-4f9a-98af-6f37b392303f\")>"
      ]
     },
     "execution_count": 383,
     "metadata": {},
     "output_type": "execute_result"
    }
   ],
   "source": [
    "job_profile=driver.find_element_by_xpath('/html/body/div/div/div/main/section[1]/div[2]/div[1]/span/input')\n",
    "job_profile"
   ]
  },
  {
   "cell_type": "code",
   "execution_count": 384,
   "id": "9e43136c",
   "metadata": {},
   "outputs": [
    {
     "data": {
      "text/plain": [
       "<selenium.webdriver.remote.webelement.WebElement (session=\"39835c2ea1272c3fb7ffe6ec47e08456\", element=\"99abb0a3-e5b7-4f9a-98af-6f37b392303f\")>"
      ]
     },
     "execution_count": 384,
     "metadata": {},
     "output_type": "execute_result"
    }
   ],
   "source": [
    "job_profile.send_keys(\"Data Scientist\")\n",
    "job_profile"
   ]
  },
  {
   "cell_type": "code",
   "execution_count": 385,
   "id": "a10834b3",
   "metadata": {},
   "outputs": [
    {
     "data": {
      "text/plain": [
       "<selenium.webdriver.remote.webelement.WebElement (session=\"39835c2ea1272c3fb7ffe6ec47e08456\", element=\"9e6470eb-0d21-4148-9b3f-39cd0912b32c\")>"
      ]
     },
     "execution_count": 385,
     "metadata": {},
     "output_type": "execute_result"
    }
   ],
   "source": [
    "job_search=driver.find_element_by_xpath(\"/html/body/div/div/div/main/section[1]/div[2]/div[1]/i[1]\")\n",
    "job_search"
   ]
  },
  {
   "cell_type": "code",
   "execution_count": 386,
   "id": "b24ad2b2",
   "metadata": {},
   "outputs": [
    {
     "data": {
      "text/plain": [
       "[<selenium.webdriver.remote.webelement.WebElement (session=\"39835c2ea1272c3fb7ffe6ec47e08456\", element=\"dcc152c7-a3fa-464e-8ea6-fd4f104ff1b8\")>,\n",
       " <selenium.webdriver.remote.webelement.WebElement (session=\"39835c2ea1272c3fb7ffe6ec47e08456\", element=\"2c248d0e-caea-4357-bf0d-d5a9281bca94\")>,\n",
       " <selenium.webdriver.remote.webelement.WebElement (session=\"39835c2ea1272c3fb7ffe6ec47e08456\", element=\"635c90d4-be1d-450f-bf47-0c05c29434df\")>,\n",
       " <selenium.webdriver.remote.webelement.WebElement (session=\"39835c2ea1272c3fb7ffe6ec47e08456\", element=\"05178a02-8a16-4afb-910b-8a24afb6206e\")>,\n",
       " <selenium.webdriver.remote.webelement.WebElement (session=\"39835c2ea1272c3fb7ffe6ec47e08456\", element=\"2fc2921a-382b-4372-a898-523eb40e7b76\")>,\n",
       " <selenium.webdriver.remote.webelement.WebElement (session=\"39835c2ea1272c3fb7ffe6ec47e08456\", element=\"72f76bb9-a22f-4bbf-83eb-972efa9297ed\")>,\n",
       " <selenium.webdriver.remote.webelement.WebElement (session=\"39835c2ea1272c3fb7ffe6ec47e08456\", element=\"bba7964c-0f69-408c-8090-736ce493d370\")>,\n",
       " <selenium.webdriver.remote.webelement.WebElement (session=\"39835c2ea1272c3fb7ffe6ec47e08456\", element=\"d2f3367c-3744-4040-b660-cc3b4fe9eb61\")>,\n",
       " <selenium.webdriver.remote.webelement.WebElement (session=\"39835c2ea1272c3fb7ffe6ec47e08456\", element=\"05a1481d-bc76-4348-b886-76010fadcc91\")>,\n",
       " <selenium.webdriver.remote.webelement.WebElement (session=\"39835c2ea1272c3fb7ffe6ec47e08456\", element=\"7e9d09ea-bde5-48b3-909d-055adb7c9532\")>]"
      ]
     },
     "execution_count": 386,
     "metadata": {},
     "output_type": "execute_result"
    }
   ],
   "source": [
    "company_name=driver.find_elements_by_xpath('//div[@class=\"name\"]')\n",
    "company_name\n"
   ]
  },
  {
   "cell_type": "code",
   "execution_count": 387,
   "id": "e4f21b42",
   "metadata": {},
   "outputs": [
    {
     "data": {
      "text/plain": [
       "['Tekion -based on 10 salaries',\n",
       " 'Microsoft Corporation -based on 224 salaries',\n",
       " 'Goldman Sachs -based on 11 salaries',\n",
       " 'Flipkart -based on 54 salaries',\n",
       " 'Amazon -based on 85 salaries',\n",
       " 'Arcesium -based on 37 salaries',\n",
       " 'PayPal -based on 12 salaries',\n",
       " 'Servicenow Software Development India -based on 27 salaries',\n",
       " 'Walmart -based on 79 salaries',\n",
       " 'ServiceNow -based on 16 salaries']"
      ]
     },
     "execution_count": 387,
     "metadata": {},
     "output_type": "execute_result"
    }
   ],
   "source": [
    "company_names=[]\n",
    "for i in company_name:\n",
    "    company_names.append(i.text.replace(\"\\n\",\" -\"))\n",
    "\n",
    "company_names   "
   ]
  },
  {
   "cell_type": "code",
   "execution_count": 388,
   "id": "7530ea99",
   "metadata": {},
   "outputs": [
    {
     "data": {
      "text/plain": [
       "[<selenium.webdriver.remote.webelement.WebElement (session=\"39835c2ea1272c3fb7ffe6ec47e08456\", element=\"cc0b74ab-3818-4ba7-9854-a9a05ae1ae54\")>,\n",
       " <selenium.webdriver.remote.webelement.WebElement (session=\"39835c2ea1272c3fb7ffe6ec47e08456\", element=\"3016d4dc-1db6-4624-ab8c-895e4d44f6a7\")>,\n",
       " <selenium.webdriver.remote.webelement.WebElement (session=\"39835c2ea1272c3fb7ffe6ec47e08456\", element=\"2e615335-6637-41d4-a400-7990ae380092\")>,\n",
       " <selenium.webdriver.remote.webelement.WebElement (session=\"39835c2ea1272c3fb7ffe6ec47e08456\", element=\"fae553ca-c0f1-41b0-a75d-5d7edbc9d2b0\")>,\n",
       " <selenium.webdriver.remote.webelement.WebElement (session=\"39835c2ea1272c3fb7ffe6ec47e08456\", element=\"d2aac81a-d24d-489b-9b43-6e5e6194cc1f\")>,\n",
       " <selenium.webdriver.remote.webelement.WebElement (session=\"39835c2ea1272c3fb7ffe6ec47e08456\", element=\"61950893-a823-400d-a6cb-8b062b9d431f\")>,\n",
       " <selenium.webdriver.remote.webelement.WebElement (session=\"39835c2ea1272c3fb7ffe6ec47e08456\", element=\"dcd76195-30eb-4c82-aaed-f1edf146b090\")>,\n",
       " <selenium.webdriver.remote.webelement.WebElement (session=\"39835c2ea1272c3fb7ffe6ec47e08456\", element=\"178ceaef-37f7-4254-bf5d-f49ac9cfe2a6\")>,\n",
       " <selenium.webdriver.remote.webelement.WebElement (session=\"39835c2ea1272c3fb7ffe6ec47e08456\", element=\"665162fa-8231-41ef-9d72-8aa99428035a\")>,\n",
       " <selenium.webdriver.remote.webelement.WebElement (session=\"39835c2ea1272c3fb7ffe6ec47e08456\", element=\"b9e3565c-74e1-4e55-bf9e-e92c5e0d892d\")>]"
      ]
     },
     "execution_count": 388,
     "metadata": {},
     "output_type": "execute_result"
    }
   ],
   "source": [
    "exp=driver.find_elements_by_xpath('//div[@class=\"salaries sbold-list-header\"]')\n",
    "exp"
   ]
  },
  {
   "cell_type": "code",
   "execution_count": 389,
   "id": "ae711b60",
   "metadata": {},
   "outputs": [
    {
     "data": {
      "text/plain": [
       "['Software Engineer\\n . \\n4 yrs exp',\n",
       " 'Software Engineer\\n . \\n1-4 yrs exp',\n",
       " 'Software Engineer\\n . \\n2 yrs exp',\n",
       " 'Software Engineer\\n . \\n1-4 yrs exp',\n",
       " 'Software Engineer\\n . \\n1-4 yrs exp',\n",
       " 'Software Engineer\\n . \\n1 yr exp',\n",
       " 'Software Engineer\\n . \\n1 yr exp',\n",
       " 'Software Engineer\\n . \\n2-3 yrs exp',\n",
       " 'Software Engineer\\n . \\n1-4 yrs exp',\n",
       " 'Software Engineer\\n . \\n3 yrs exp']"
      ]
     },
     "execution_count": 389,
     "metadata": {},
     "output_type": "execute_result"
    }
   ],
   "source": [
    "experience=[]\n",
    "for i in exp:\n",
    "    experience.append(i.text.replace(\"Data Scientist\\n . \\n\" , \" \"))\n",
    "    \n",
    "experience    "
   ]
  },
  {
   "cell_type": "code",
   "execution_count": 390,
   "id": "2288b79a",
   "metadata": {},
   "outputs": [
    {
     "data": {
      "text/plain": [
       "[<selenium.webdriver.remote.webelement.WebElement (session=\"39835c2ea1272c3fb7ffe6ec47e08456\", element=\"d640f24f-1f68-45cc-89dc-ed6d8a227f45\")>,\n",
       " <selenium.webdriver.remote.webelement.WebElement (session=\"39835c2ea1272c3fb7ffe6ec47e08456\", element=\"f6ccb192-70de-4cc9-96c2-eaf6fad384b6\")>,\n",
       " <selenium.webdriver.remote.webelement.WebElement (session=\"39835c2ea1272c3fb7ffe6ec47e08456\", element=\"69c011f9-f3bf-4135-be33-df58173ecbfc\")>,\n",
       " <selenium.webdriver.remote.webelement.WebElement (session=\"39835c2ea1272c3fb7ffe6ec47e08456\", element=\"b48d9e39-9c76-4952-aa8d-10c73e9d5589\")>,\n",
       " <selenium.webdriver.remote.webelement.WebElement (session=\"39835c2ea1272c3fb7ffe6ec47e08456\", element=\"14be1663-dfb7-43c4-a148-99b0e8dc5a8a\")>,\n",
       " <selenium.webdriver.remote.webelement.WebElement (session=\"39835c2ea1272c3fb7ffe6ec47e08456\", element=\"b8280eaf-7a09-4fad-9f04-2dced947d334\")>,\n",
       " <selenium.webdriver.remote.webelement.WebElement (session=\"39835c2ea1272c3fb7ffe6ec47e08456\", element=\"37852653-8adc-427b-9e61-445754602462\")>,\n",
       " <selenium.webdriver.remote.webelement.WebElement (session=\"39835c2ea1272c3fb7ffe6ec47e08456\", element=\"bf77150d-3fa4-4df6-97c8-1a6103835391\")>,\n",
       " <selenium.webdriver.remote.webelement.WebElement (session=\"39835c2ea1272c3fb7ffe6ec47e08456\", element=\"8043d6cb-48ea-4dfc-9340-2a63242067e0\")>,\n",
       " <selenium.webdriver.remote.webelement.WebElement (session=\"39835c2ea1272c3fb7ffe6ec47e08456\", element=\"24145959-f9ae-4461-94e7-6eaaa11fb63a\")>]"
      ]
     },
     "execution_count": 390,
     "metadata": {},
     "output_type": "execute_result"
    }
   ],
   "source": [
    "avg_salary=driver.find_elements_by_xpath('//p[@class=\"averageCtc\"]')\n",
    "avg_salary"
   ]
  },
  {
   "cell_type": "code",
   "execution_count": 391,
   "id": "641045ad",
   "metadata": {},
   "outputs": [
    {
     "data": {
      "text/plain": [
       "['₹ 23.3L',\n",
       " '₹ 22.4L',\n",
       " '₹ 21.9L',\n",
       " '₹ 20.6L',\n",
       " '₹ 19.4L',\n",
       " '₹ 18.5L',\n",
       " '₹ 18.4L',\n",
       " '₹ 18.3L',\n",
       " '₹ 17.9L',\n",
       " '₹ 17.8L']"
      ]
     },
     "execution_count": 391,
     "metadata": {},
     "output_type": "execute_result"
    }
   ],
   "source": [
    "average_salary=[]\n",
    "for i in avg_salary:\n",
    "     average_salary.append(i.text)\n",
    "    \n",
    "average_salary   "
   ]
  },
  {
   "cell_type": "code",
   "execution_count": 392,
   "id": "c8807fbd",
   "metadata": {},
   "outputs": [
    {
     "data": {
      "text/plain": [
       "[<selenium.webdriver.remote.webelement.WebElement (session=\"39835c2ea1272c3fb7ffe6ec47e08456\", element=\"a632685c-ebf0-4134-bad3-b1f05f662635\")>,\n",
       " <selenium.webdriver.remote.webelement.WebElement (session=\"39835c2ea1272c3fb7ffe6ec47e08456\", element=\"868d4a0a-6d67-410d-b89f-0d66f4a77f4b\")>,\n",
       " <selenium.webdriver.remote.webelement.WebElement (session=\"39835c2ea1272c3fb7ffe6ec47e08456\", element=\"187b224b-4f24-4eb8-880a-a1734e671a88\")>,\n",
       " <selenium.webdriver.remote.webelement.WebElement (session=\"39835c2ea1272c3fb7ffe6ec47e08456\", element=\"1ac21ddf-b1bc-46d9-a762-e1f900e8214c\")>,\n",
       " <selenium.webdriver.remote.webelement.WebElement (session=\"39835c2ea1272c3fb7ffe6ec47e08456\", element=\"f81e7b76-f8ed-4859-848e-f8858578c63e\")>,\n",
       " <selenium.webdriver.remote.webelement.WebElement (session=\"39835c2ea1272c3fb7ffe6ec47e08456\", element=\"bcc040d7-8aa3-4fe9-8d07-103b38d357b5\")>,\n",
       " <selenium.webdriver.remote.webelement.WebElement (session=\"39835c2ea1272c3fb7ffe6ec47e08456\", element=\"3f16e270-b505-48f7-94f7-7a10e0c49c1a\")>,\n",
       " <selenium.webdriver.remote.webelement.WebElement (session=\"39835c2ea1272c3fb7ffe6ec47e08456\", element=\"99a80bc9-878e-4612-82d4-051b49580548\")>,\n",
       " <selenium.webdriver.remote.webelement.WebElement (session=\"39835c2ea1272c3fb7ffe6ec47e08456\", element=\"6bf8fb62-f662-437e-ab8e-b594e0a54045\")>,\n",
       " <selenium.webdriver.remote.webelement.WebElement (session=\"39835c2ea1272c3fb7ffe6ec47e08456\", element=\"9c7e9108-2735-4aee-bc36-43fcd0169c17\")>,\n",
       " <selenium.webdriver.remote.webelement.WebElement (session=\"39835c2ea1272c3fb7ffe6ec47e08456\", element=\"94a138cf-a70f-4945-98e3-3ebb02e5b568\")>,\n",
       " <selenium.webdriver.remote.webelement.WebElement (session=\"39835c2ea1272c3fb7ffe6ec47e08456\", element=\"087fe8d1-5732-4ffd-8a77-50ce45fedf1b\")>,\n",
       " <selenium.webdriver.remote.webelement.WebElement (session=\"39835c2ea1272c3fb7ffe6ec47e08456\", element=\"c8c0ecb7-b8c4-4a44-a7e1-c1c6121860b8\")>,\n",
       " <selenium.webdriver.remote.webelement.WebElement (session=\"39835c2ea1272c3fb7ffe6ec47e08456\", element=\"0d0c0991-cb9f-4702-8ecd-ca61f00ff90f\")>,\n",
       " <selenium.webdriver.remote.webelement.WebElement (session=\"39835c2ea1272c3fb7ffe6ec47e08456\", element=\"0c0ad226-2987-471e-924d-6e202bef279f\")>,\n",
       " <selenium.webdriver.remote.webelement.WebElement (session=\"39835c2ea1272c3fb7ffe6ec47e08456\", element=\"03840300-3272-4456-927f-45553c6eccb2\")>,\n",
       " <selenium.webdriver.remote.webelement.WebElement (session=\"39835c2ea1272c3fb7ffe6ec47e08456\", element=\"feb2bbf2-c912-43ff-bd8c-f9d9dc96db40\")>,\n",
       " <selenium.webdriver.remote.webelement.WebElement (session=\"39835c2ea1272c3fb7ffe6ec47e08456\", element=\"2a3d2974-fab8-412c-ae25-b72a84120891\")>,\n",
       " <selenium.webdriver.remote.webelement.WebElement (session=\"39835c2ea1272c3fb7ffe6ec47e08456\", element=\"131f6403-30e5-4ef3-8d98-859293074f6c\")>,\n",
       " <selenium.webdriver.remote.webelement.WebElement (session=\"39835c2ea1272c3fb7ffe6ec47e08456\", element=\"df1cab68-46c2-4436-b293-7f76a15ee454\")>]"
      ]
     },
     "execution_count": 392,
     "metadata": {},
     "output_type": "execute_result"
    }
   ],
   "source": [
    "min_sal=driver.find_elements_by_xpath('//div[@class=\"value body-medium\"]')\n",
    "min_sal"
   ]
  },
  {
   "cell_type": "code",
   "execution_count": 393,
   "id": "b3498a4a",
   "metadata": {},
   "outputs": [
    {
     "data": {
      "text/plain": [
       "['₹ 14.0L',\n",
       " '₹ 12.0L',\n",
       " '₹ 16.0L',\n",
       " '₹ 7.0L',\n",
       " '₹ 8.0L',\n",
       " '₹ 12.0L',\n",
       " '₹ 12.0L',\n",
       " '₹ 12.0L',\n",
       " '₹ 10.0L',\n",
       " '₹ 11.2L']"
      ]
     },
     "execution_count": 393,
     "metadata": {},
     "output_type": "execute_result"
    }
   ],
   "source": [
    "minimum_salary=[]\n",
    "for i in min_sal:\n",
    "    minimum_salary.append(i.text)\n",
    "    \n",
    "minimum_salary    \n",
    "mini_sal=[]\n",
    "for i in range(0,len(minimum_salary),2)[:10]:\n",
    "    mini_sal.append(minimum_salary[i])\n",
    "    \n",
    "mini_sal"
   ]
  },
  {
   "cell_type": "code",
   "execution_count": 394,
   "id": "908936be",
   "metadata": {},
   "outputs": [
    {
     "data": {
      "text/plain": [
       "[<selenium.webdriver.remote.webelement.WebElement (session=\"39835c2ea1272c3fb7ffe6ec47e08456\", element=\"a632685c-ebf0-4134-bad3-b1f05f662635\")>,\n",
       " <selenium.webdriver.remote.webelement.WebElement (session=\"39835c2ea1272c3fb7ffe6ec47e08456\", element=\"868d4a0a-6d67-410d-b89f-0d66f4a77f4b\")>,\n",
       " <selenium.webdriver.remote.webelement.WebElement (session=\"39835c2ea1272c3fb7ffe6ec47e08456\", element=\"187b224b-4f24-4eb8-880a-a1734e671a88\")>,\n",
       " <selenium.webdriver.remote.webelement.WebElement (session=\"39835c2ea1272c3fb7ffe6ec47e08456\", element=\"1ac21ddf-b1bc-46d9-a762-e1f900e8214c\")>,\n",
       " <selenium.webdriver.remote.webelement.WebElement (session=\"39835c2ea1272c3fb7ffe6ec47e08456\", element=\"f81e7b76-f8ed-4859-848e-f8858578c63e\")>,\n",
       " <selenium.webdriver.remote.webelement.WebElement (session=\"39835c2ea1272c3fb7ffe6ec47e08456\", element=\"bcc040d7-8aa3-4fe9-8d07-103b38d357b5\")>,\n",
       " <selenium.webdriver.remote.webelement.WebElement (session=\"39835c2ea1272c3fb7ffe6ec47e08456\", element=\"3f16e270-b505-48f7-94f7-7a10e0c49c1a\")>,\n",
       " <selenium.webdriver.remote.webelement.WebElement (session=\"39835c2ea1272c3fb7ffe6ec47e08456\", element=\"99a80bc9-878e-4612-82d4-051b49580548\")>,\n",
       " <selenium.webdriver.remote.webelement.WebElement (session=\"39835c2ea1272c3fb7ffe6ec47e08456\", element=\"6bf8fb62-f662-437e-ab8e-b594e0a54045\")>,\n",
       " <selenium.webdriver.remote.webelement.WebElement (session=\"39835c2ea1272c3fb7ffe6ec47e08456\", element=\"9c7e9108-2735-4aee-bc36-43fcd0169c17\")>,\n",
       " <selenium.webdriver.remote.webelement.WebElement (session=\"39835c2ea1272c3fb7ffe6ec47e08456\", element=\"94a138cf-a70f-4945-98e3-3ebb02e5b568\")>,\n",
       " <selenium.webdriver.remote.webelement.WebElement (session=\"39835c2ea1272c3fb7ffe6ec47e08456\", element=\"087fe8d1-5732-4ffd-8a77-50ce45fedf1b\")>,\n",
       " <selenium.webdriver.remote.webelement.WebElement (session=\"39835c2ea1272c3fb7ffe6ec47e08456\", element=\"c8c0ecb7-b8c4-4a44-a7e1-c1c6121860b8\")>,\n",
       " <selenium.webdriver.remote.webelement.WebElement (session=\"39835c2ea1272c3fb7ffe6ec47e08456\", element=\"0d0c0991-cb9f-4702-8ecd-ca61f00ff90f\")>,\n",
       " <selenium.webdriver.remote.webelement.WebElement (session=\"39835c2ea1272c3fb7ffe6ec47e08456\", element=\"0c0ad226-2987-471e-924d-6e202bef279f\")>,\n",
       " <selenium.webdriver.remote.webelement.WebElement (session=\"39835c2ea1272c3fb7ffe6ec47e08456\", element=\"03840300-3272-4456-927f-45553c6eccb2\")>,\n",
       " <selenium.webdriver.remote.webelement.WebElement (session=\"39835c2ea1272c3fb7ffe6ec47e08456\", element=\"feb2bbf2-c912-43ff-bd8c-f9d9dc96db40\")>,\n",
       " <selenium.webdriver.remote.webelement.WebElement (session=\"39835c2ea1272c3fb7ffe6ec47e08456\", element=\"2a3d2974-fab8-412c-ae25-b72a84120891\")>,\n",
       " <selenium.webdriver.remote.webelement.WebElement (session=\"39835c2ea1272c3fb7ffe6ec47e08456\", element=\"131f6403-30e5-4ef3-8d98-859293074f6c\")>,\n",
       " <selenium.webdriver.remote.webelement.WebElement (session=\"39835c2ea1272c3fb7ffe6ec47e08456\", element=\"df1cab68-46c2-4436-b293-7f76a15ee454\")>]"
      ]
     },
     "execution_count": 394,
     "metadata": {},
     "output_type": "execute_result"
    }
   ],
   "source": [
    "max_sal=driver.find_elements_by_xpath('//div[@class=\"value body-medium\"]')\n",
    "max_sal"
   ]
  },
  {
   "cell_type": "code",
   "execution_count": 395,
   "id": "f865ce4b",
   "metadata": {},
   "outputs": [
    {
     "data": {
      "text/plain": [
       "['₹ 32.0L',\n",
       " '₹ 45.0L',\n",
       " '₹ 30.0L',\n",
       " '₹ 30.0L',\n",
       " '₹ 41.5L',\n",
       " '₹ 30.0L',\n",
       " '₹ 25.0L',\n",
       " '₹ 25.0L',\n",
       " '₹ 32.0L',\n",
       " '₹ 23.0L']"
      ]
     },
     "execution_count": 395,
     "metadata": {},
     "output_type": "execute_result"
    }
   ],
   "source": [
    "maximum_salary=[]\n",
    "for i in min_sal:\n",
    "    maximum_salary.append(i.text)\n",
    "    \n",
    "maximum_salary    \n",
    "max_sal=[]\n",
    "for i in range(1,len(maximum_salary),2)[:10]:\n",
    "    max_sal.append(maximum_salary[i])\n",
    "    \n",
    "max_sal"
   ]
  },
  {
   "cell_type": "code",
   "execution_count": 396,
   "id": "ca90d0c9",
   "metadata": {},
   "outputs": [
    {
     "data": {
      "text/plain": [
       "(10, 10, 10, 10, 10)"
      ]
     },
     "execution_count": 396,
     "metadata": {},
     "output_type": "execute_result"
    }
   ],
   "source": [
    "len(max_sal),len(mini_sal),len(average_salary),len(experience),len(company_names)"
   ]
  },
  {
   "cell_type": "code",
   "execution_count": 397,
   "id": "d6e3babc",
   "metadata": {},
   "outputs": [
    {
     "data": {
      "text/html": [
       "<div>\n",
       "<style scoped>\n",
       "    .dataframe tbody tr th:only-of-type {\n",
       "        vertical-align: middle;\n",
       "    }\n",
       "\n",
       "    .dataframe tbody tr th {\n",
       "        vertical-align: top;\n",
       "    }\n",
       "\n",
       "    .dataframe thead th {\n",
       "        text-align: right;\n",
       "    }\n",
       "</style>\n",
       "<table border=\"1\" class=\"dataframe\">\n",
       "  <thead>\n",
       "    <tr style=\"text-align: right;\">\n",
       "      <th></th>\n",
       "      <th>Company with total salary record</th>\n",
       "      <th>Experience</th>\n",
       "      <th>Average Salary</th>\n",
       "      <th>Minimum Salary</th>\n",
       "      <th>Maximum Salary</th>\n",
       "    </tr>\n",
       "  </thead>\n",
       "  <tbody>\n",
       "    <tr>\n",
       "      <th>0</th>\n",
       "      <td>Tekion -based on 10 salaries</td>\n",
       "      <td>Software Engineer\\n . \\n4 yrs exp</td>\n",
       "      <td>₹ 23.3L</td>\n",
       "      <td>₹ 14.0L</td>\n",
       "      <td>₹ 32.0L</td>\n",
       "    </tr>\n",
       "    <tr>\n",
       "      <th>1</th>\n",
       "      <td>Microsoft Corporation -based on 224 salaries</td>\n",
       "      <td>Software Engineer\\n . \\n1-4 yrs exp</td>\n",
       "      <td>₹ 22.4L</td>\n",
       "      <td>₹ 12.0L</td>\n",
       "      <td>₹ 45.0L</td>\n",
       "    </tr>\n",
       "    <tr>\n",
       "      <th>2</th>\n",
       "      <td>Goldman Sachs -based on 11 salaries</td>\n",
       "      <td>Software Engineer\\n . \\n2 yrs exp</td>\n",
       "      <td>₹ 21.9L</td>\n",
       "      <td>₹ 16.0L</td>\n",
       "      <td>₹ 30.0L</td>\n",
       "    </tr>\n",
       "    <tr>\n",
       "      <th>3</th>\n",
       "      <td>Flipkart -based on 54 salaries</td>\n",
       "      <td>Software Engineer\\n . \\n1-4 yrs exp</td>\n",
       "      <td>₹ 20.6L</td>\n",
       "      <td>₹ 7.0L</td>\n",
       "      <td>₹ 30.0L</td>\n",
       "    </tr>\n",
       "    <tr>\n",
       "      <th>4</th>\n",
       "      <td>Amazon -based on 85 salaries</td>\n",
       "      <td>Software Engineer\\n . \\n1-4 yrs exp</td>\n",
       "      <td>₹ 19.4L</td>\n",
       "      <td>₹ 8.0L</td>\n",
       "      <td>₹ 41.5L</td>\n",
       "    </tr>\n",
       "    <tr>\n",
       "      <th>5</th>\n",
       "      <td>Arcesium -based on 37 salaries</td>\n",
       "      <td>Software Engineer\\n . \\n1 yr exp</td>\n",
       "      <td>₹ 18.5L</td>\n",
       "      <td>₹ 12.0L</td>\n",
       "      <td>₹ 30.0L</td>\n",
       "    </tr>\n",
       "    <tr>\n",
       "      <th>6</th>\n",
       "      <td>PayPal -based on 12 salaries</td>\n",
       "      <td>Software Engineer\\n . \\n1 yr exp</td>\n",
       "      <td>₹ 18.4L</td>\n",
       "      <td>₹ 12.0L</td>\n",
       "      <td>₹ 25.0L</td>\n",
       "    </tr>\n",
       "    <tr>\n",
       "      <th>7</th>\n",
       "      <td>Servicenow Software Development India -based o...</td>\n",
       "      <td>Software Engineer\\n . \\n2-3 yrs exp</td>\n",
       "      <td>₹ 18.3L</td>\n",
       "      <td>₹ 12.0L</td>\n",
       "      <td>₹ 25.0L</td>\n",
       "    </tr>\n",
       "    <tr>\n",
       "      <th>8</th>\n",
       "      <td>Walmart -based on 79 salaries</td>\n",
       "      <td>Software Engineer\\n . \\n1-4 yrs exp</td>\n",
       "      <td>₹ 17.9L</td>\n",
       "      <td>₹ 10.0L</td>\n",
       "      <td>₹ 32.0L</td>\n",
       "    </tr>\n",
       "    <tr>\n",
       "      <th>9</th>\n",
       "      <td>ServiceNow -based on 16 salaries</td>\n",
       "      <td>Software Engineer\\n . \\n3 yrs exp</td>\n",
       "      <td>₹ 17.8L</td>\n",
       "      <td>₹ 11.2L</td>\n",
       "      <td>₹ 23.0L</td>\n",
       "    </tr>\n",
       "  </tbody>\n",
       "</table>\n",
       "</div>"
      ],
      "text/plain": [
       "                    Company with total salary record  \\\n",
       "0                       Tekion -based on 10 salaries   \n",
       "1       Microsoft Corporation -based on 224 salaries   \n",
       "2                Goldman Sachs -based on 11 salaries   \n",
       "3                     Flipkart -based on 54 salaries   \n",
       "4                       Amazon -based on 85 salaries   \n",
       "5                     Arcesium -based on 37 salaries   \n",
       "6                       PayPal -based on 12 salaries   \n",
       "7  Servicenow Software Development India -based o...   \n",
       "8                      Walmart -based on 79 salaries   \n",
       "9                   ServiceNow -based on 16 salaries   \n",
       "\n",
       "                            Experience Average Salary Minimum Salary  \\\n",
       "0    Software Engineer\\n . \\n4 yrs exp        ₹ 23.3L        ₹ 14.0L   \n",
       "1  Software Engineer\\n . \\n1-4 yrs exp        ₹ 22.4L        ₹ 12.0L   \n",
       "2    Software Engineer\\n . \\n2 yrs exp        ₹ 21.9L        ₹ 16.0L   \n",
       "3  Software Engineer\\n . \\n1-4 yrs exp        ₹ 20.6L         ₹ 7.0L   \n",
       "4  Software Engineer\\n . \\n1-4 yrs exp        ₹ 19.4L         ₹ 8.0L   \n",
       "5     Software Engineer\\n . \\n1 yr exp        ₹ 18.5L        ₹ 12.0L   \n",
       "6     Software Engineer\\n . \\n1 yr exp        ₹ 18.4L        ₹ 12.0L   \n",
       "7  Software Engineer\\n . \\n2-3 yrs exp        ₹ 18.3L        ₹ 12.0L   \n",
       "8  Software Engineer\\n . \\n1-4 yrs exp        ₹ 17.9L        ₹ 10.0L   \n",
       "9    Software Engineer\\n . \\n3 yrs exp        ₹ 17.8L        ₹ 11.2L   \n",
       "\n",
       "  Maximum Salary  \n",
       "0        ₹ 32.0L  \n",
       "1        ₹ 45.0L  \n",
       "2        ₹ 30.0L  \n",
       "3        ₹ 30.0L  \n",
       "4        ₹ 41.5L  \n",
       "5        ₹ 30.0L  \n",
       "6        ₹ 25.0L  \n",
       "7        ₹ 25.0L  \n",
       "8        ₹ 32.0L  \n",
       "9        ₹ 23.0L  "
      ]
     },
     "execution_count": 397,
     "metadata": {},
     "output_type": "execute_result"
    }
   ],
   "source": [
    "DataScience_2=pd.DataFrame({\"Company with total salary record\":company_names,\"Experience\":experience,\"Average Salary\":average_salary,\"Minimum Salary\":mini_sal,\"Maximum Salary\":max_sal})\n",
    "DataScience_2"
   ]
  },
  {
   "cell_type": "code",
   "execution_count": null,
   "id": "788f65f0",
   "metadata": {},
   "outputs": [],
   "source": [
    "#Some of the sites having different number of data everytime resulting in change in length of the data.\n",
    "#pop up's interrupting the smooth execution of codes.\n",
    "#Did't find the proper way to fetch expected range of salary data."
   ]
  }
 ],
 "metadata": {
  "kernelspec": {
   "display_name": "Python 3",
   "language": "python",
   "name": "python3"
  },
  "language_info": {
   "codemirror_mode": {
    "name": "ipython",
    "version": 3
   },
   "file_extension": ".py",
   "mimetype": "text/x-python",
   "name": "python",
   "nbconvert_exporter": "python",
   "pygments_lexer": "ipython3",
   "version": "3.8.8"
  }
 },
 "nbformat": 4,
 "nbformat_minor": 5
}
